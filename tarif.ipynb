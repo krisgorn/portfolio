{
 "cells": [
  {
   "cell_type": "markdown",
   "metadata": {},
   "source": [
    "### Тема проекта: \n",
    "Проанализировать поведение клиентов и сделать вывод — какой тариф лучше.\n",
    "\n",
    "### Цель проекта: \n",
    "Cкорректировать рекламный бюджет и понять, какой тариф приносит больше денег.\n",
    "\n",
    "### Описание данных\n",
    "Даны данные 500 пользователей «Мегалайна»: кто они, откуда, каким тарифом пользуются, сколько звонков и сообщений каждый отправил за 2018 год. \n",
    "\n",
    "Таблица users (информация о пользователях):\n",
    "\n",
    "    user_id — уникальный идентификатор пользователя\n",
    "    first_name — имя пользователя\n",
    "    last_name — фамилия пользователя\n",
    "    age — возраст пользователя (годы)\n",
    "    reg_date — дата подключения тарифа (день, месяц, год)\n",
    "    churn_date — дата прекращения пользования тарифом (если значение пропущено, то тариф ещё действовал на момент выгрузки данных)\n",
    "    city — город проживания пользователя\n",
    "    tariff — название тарифного плана\n",
    "    \n",
    "    \n",
    "Таблица calls (информация о звонках):\n",
    "\n",
    "    id — уникальный номер звонка\n",
    "    call_date — дата звонка\n",
    "    duration — длительность звонка в минутах\n",
    "    user_id — идентификатор пользователя, сделавшего звонок\n",
    "    \n",
    "    \n",
    "Таблица messages (информация о сообщениях):\n",
    "\n",
    "    id — уникальный номер сообщения\n",
    "    message_date — дата сообщения\n",
    "    user_id — идентификатор пользователя, отправившего сообщение\n",
    "    \n",
    "    \n",
    "Таблица internet (информация об интернет-сессиях):\n",
    "\n",
    "    id — уникальный номер сессии\n",
    "    mb_used — объём потраченного за сессию интернет-трафика (в мегабайтах)\n",
    "    session_date — дата интернет-сессии\n",
    "    user_id — идентификатор пользователя\n",
    "    \n",
    "    \n",
    "Таблица tariffs (информация о тарифах):\n",
    "\n",
    "    tariff_name — название тарифа\n",
    "    rub_monthly_fee — ежемесячная абонентская плата в рублях\n",
    "    minutes_included — количество минут разговора в месяц, включённых в абонентскую плату\n",
    "    messages_included — количество сообщений в месяц, включённых в абонентскую плату\n",
    "    mb_per_month_included — объём интернет-трафика, включённого в абонентскую плату (в мегабайтах)\n",
    "    rub_per_minute — стоимость минуты разговора сверх тарифного пакета (например, если в тарифе 100 минут разговора в месяц, то со 101 минуты будет взиматься плата)\n",
    "    rub_per_message — стоимость отправки сообщения сверх тарифного пакета\n",
    "    rub_per_gb — стоимость дополнительного гигабайта интернет-трафика сверх тарифного пакета (1 гигабайт = 1024 мегабайта)\n",
    "\n",
    "### План\n",
    "1. Смотрим датасеты ищем ошибки и дубликаты\n",
    "\n",
    "\n",
    "2. Посчитать для каждого пользователя:\n",
    "\n",
    "    количество сделанных звонков и израсходованных минут разговора по месяцам;\n",
    "    количество отправленных сообщений по месяцам;\n",
    "    объем израсходованного интернет-трафика по месяцам;\n",
    "    помесячную выручку с каждого пользователя \n",
    "\n",
    "3. Анализ данных:\n",
    "\n",
    "    Описать поведение клиентов оператора, исходя из выборки. \n",
    "    Сколько минут разговора, сколько сообщений и какой объём интернет-трафика требуется пользователям каждого тарифа в месяц? Посчитайте среднее количество, дисперсию и стандартное отклонение. \n",
    "    Постройте гистограммы. \n",
    "    Опишите распределения.\n",
    "    \n",
    "4. Проверить гипотезы:\n",
    "    средняя выручка пользователей тарифов «Ультра» и «Смарт» различаются;\n",
    "    средняя выручка пользователей из Москвы отличается от выручки пользователей из других регионов."
   ]
  },
  {
   "cell_type": "markdown",
   "metadata": {},
   "source": [
    "## Изучение данных из файла\n",
    "\n",
    "### Предобработка данных\n",
    "- Проверить типы данных\n",
    "- Изучить пропуски в датафрейме\n",
    "- Изучить дубликаты в датафрейме\n"
   ]
  },
  {
   "cell_type": "code",
   "execution_count": 1,
   "metadata": {},
   "outputs": [],
   "source": [
    "import pandas as pd\n",
    "import matplotlib.pyplot as plt\n",
    "import numpy as np \n",
    "from scipy import stats as st\n"
   ]
  },
  {
   "cell_type": "code",
   "execution_count": 2,
   "metadata": {},
   "outputs": [
    {
     "data": {
      "text/html": [
       "<div>\n",
       "<style scoped>\n",
       "    .dataframe tbody tr th:only-of-type {\n",
       "        vertical-align: middle;\n",
       "    }\n",
       "\n",
       "    .dataframe tbody tr th {\n",
       "        vertical-align: top;\n",
       "    }\n",
       "\n",
       "    .dataframe thead th {\n",
       "        text-align: right;\n",
       "    }\n",
       "</style>\n",
       "<table border=\"1\" class=\"dataframe\">\n",
       "  <thead>\n",
       "    <tr style=\"text-align: right;\">\n",
       "      <th></th>\n",
       "      <th>id</th>\n",
       "      <th>call_date</th>\n",
       "      <th>duration</th>\n",
       "      <th>user_id</th>\n",
       "    </tr>\n",
       "  </thead>\n",
       "  <tbody>\n",
       "    <tr>\n",
       "      <th>0</th>\n",
       "      <td>1000_0</td>\n",
       "      <td>2018-07-25</td>\n",
       "      <td>0.00</td>\n",
       "      <td>1000</td>\n",
       "    </tr>\n",
       "    <tr>\n",
       "      <th>1</th>\n",
       "      <td>1000_1</td>\n",
       "      <td>2018-08-17</td>\n",
       "      <td>0.00</td>\n",
       "      <td>1000</td>\n",
       "    </tr>\n",
       "    <tr>\n",
       "      <th>2</th>\n",
       "      <td>1000_2</td>\n",
       "      <td>2018-06-11</td>\n",
       "      <td>2.85</td>\n",
       "      <td>1000</td>\n",
       "    </tr>\n",
       "    <tr>\n",
       "      <th>3</th>\n",
       "      <td>1000_3</td>\n",
       "      <td>2018-09-21</td>\n",
       "      <td>13.80</td>\n",
       "      <td>1000</td>\n",
       "    </tr>\n",
       "    <tr>\n",
       "      <th>4</th>\n",
       "      <td>1000_4</td>\n",
       "      <td>2018-12-15</td>\n",
       "      <td>5.18</td>\n",
       "      <td>1000</td>\n",
       "    </tr>\n",
       "    <tr>\n",
       "      <th>5</th>\n",
       "      <td>1000_5</td>\n",
       "      <td>2018-11-02</td>\n",
       "      <td>0.00</td>\n",
       "      <td>1000</td>\n",
       "    </tr>\n",
       "    <tr>\n",
       "      <th>6</th>\n",
       "      <td>1000_6</td>\n",
       "      <td>2018-10-18</td>\n",
       "      <td>0.00</td>\n",
       "      <td>1000</td>\n",
       "    </tr>\n",
       "    <tr>\n",
       "      <th>7</th>\n",
       "      <td>1000_7</td>\n",
       "      <td>2018-08-22</td>\n",
       "      <td>18.31</td>\n",
       "      <td>1000</td>\n",
       "    </tr>\n",
       "    <tr>\n",
       "      <th>8</th>\n",
       "      <td>1000_8</td>\n",
       "      <td>2018-09-15</td>\n",
       "      <td>18.44</td>\n",
       "      <td>1000</td>\n",
       "    </tr>\n",
       "    <tr>\n",
       "      <th>9</th>\n",
       "      <td>1000_9</td>\n",
       "      <td>2018-08-15</td>\n",
       "      <td>0.00</td>\n",
       "      <td>1000</td>\n",
       "    </tr>\n",
       "    <tr>\n",
       "      <th>10</th>\n",
       "      <td>1000_10</td>\n",
       "      <td>2018-08-22</td>\n",
       "      <td>5.03</td>\n",
       "      <td>1000</td>\n",
       "    </tr>\n",
       "    <tr>\n",
       "      <th>11</th>\n",
       "      <td>1000_11</td>\n",
       "      <td>2018-05-28</td>\n",
       "      <td>18.82</td>\n",
       "      <td>1000</td>\n",
       "    </tr>\n",
       "    <tr>\n",
       "      <th>12</th>\n",
       "      <td>1000_12</td>\n",
       "      <td>2018-07-05</td>\n",
       "      <td>2.02</td>\n",
       "      <td>1000</td>\n",
       "    </tr>\n",
       "    <tr>\n",
       "      <th>13</th>\n",
       "      <td>1000_13</td>\n",
       "      <td>2018-09-29</td>\n",
       "      <td>7.15</td>\n",
       "      <td>1000</td>\n",
       "    </tr>\n",
       "    <tr>\n",
       "      <th>14</th>\n",
       "      <td>1000_14</td>\n",
       "      <td>2018-12-11</td>\n",
       "      <td>9.13</td>\n",
       "      <td>1000</td>\n",
       "    </tr>\n",
       "    <tr>\n",
       "      <th>15</th>\n",
       "      <td>1000_15</td>\n",
       "      <td>2018-07-27</td>\n",
       "      <td>9.36</td>\n",
       "      <td>1000</td>\n",
       "    </tr>\n",
       "    <tr>\n",
       "      <th>16</th>\n",
       "      <td>1000_16</td>\n",
       "      <td>2018-08-11</td>\n",
       "      <td>4.08</td>\n",
       "      <td>1000</td>\n",
       "    </tr>\n",
       "    <tr>\n",
       "      <th>17</th>\n",
       "      <td>1000_17</td>\n",
       "      <td>2018-08-02</td>\n",
       "      <td>12.63</td>\n",
       "      <td>1000</td>\n",
       "    </tr>\n",
       "    <tr>\n",
       "      <th>18</th>\n",
       "      <td>1000_18</td>\n",
       "      <td>2018-06-15</td>\n",
       "      <td>4.46</td>\n",
       "      <td>1000</td>\n",
       "    </tr>\n",
       "    <tr>\n",
       "      <th>19</th>\n",
       "      <td>1000_19</td>\n",
       "      <td>2018-11-02</td>\n",
       "      <td>15.08</td>\n",
       "      <td>1000</td>\n",
       "    </tr>\n",
       "  </tbody>\n",
       "</table>\n",
       "</div>"
      ],
      "text/plain": [
       "         id   call_date  duration  user_id\n",
       "0    1000_0  2018-07-25      0.00     1000\n",
       "1    1000_1  2018-08-17      0.00     1000\n",
       "2    1000_2  2018-06-11      2.85     1000\n",
       "3    1000_3  2018-09-21     13.80     1000\n",
       "4    1000_4  2018-12-15      5.18     1000\n",
       "5    1000_5  2018-11-02      0.00     1000\n",
       "6    1000_6  2018-10-18      0.00     1000\n",
       "7    1000_7  2018-08-22     18.31     1000\n",
       "8    1000_8  2018-09-15     18.44     1000\n",
       "9    1000_9  2018-08-15      0.00     1000\n",
       "10  1000_10  2018-08-22      5.03     1000\n",
       "11  1000_11  2018-05-28     18.82     1000\n",
       "12  1000_12  2018-07-05      2.02     1000\n",
       "13  1000_13  2018-09-29      7.15     1000\n",
       "14  1000_14  2018-12-11      9.13     1000\n",
       "15  1000_15  2018-07-27      9.36     1000\n",
       "16  1000_16  2018-08-11      4.08     1000\n",
       "17  1000_17  2018-08-02     12.63     1000\n",
       "18  1000_18  2018-06-15      4.46     1000\n",
       "19  1000_19  2018-11-02     15.08     1000"
      ]
     },
     "metadata": {},
     "output_type": "display_data"
    },
    {
     "name": "stdout",
     "output_type": "stream",
     "text": [
      "<class 'pandas.core.frame.DataFrame'>\n",
      "RangeIndex: 202607 entries, 0 to 202606\n",
      "Data columns (total 4 columns):\n",
      " #   Column     Non-Null Count   Dtype  \n",
      "---  ------     --------------   -----  \n",
      " 0   id         202607 non-null  object \n",
      " 1   call_date  202607 non-null  object \n",
      " 2   duration   202607 non-null  float64\n",
      " 3   user_id    202607 non-null  int64  \n",
      "dtypes: float64(1), int64(1), object(2)\n",
      "memory usage: 6.2+ MB\n"
     ]
    },
    {
     "data": {
      "text/html": [
       "<div>\n",
       "<style scoped>\n",
       "    .dataframe tbody tr th:only-of-type {\n",
       "        vertical-align: middle;\n",
       "    }\n",
       "\n",
       "    .dataframe tbody tr th {\n",
       "        vertical-align: top;\n",
       "    }\n",
       "\n",
       "    .dataframe thead th {\n",
       "        text-align: right;\n",
       "    }\n",
       "</style>\n",
       "<table border=\"1\" class=\"dataframe\">\n",
       "  <thead>\n",
       "    <tr style=\"text-align: right;\">\n",
       "      <th></th>\n",
       "      <th>id</th>\n",
       "      <th>call_date</th>\n",
       "      <th>duration</th>\n",
       "      <th>user_id</th>\n",
       "    </tr>\n",
       "  </thead>\n",
       "  <tbody>\n",
       "    <tr>\n",
       "      <th>0</th>\n",
       "      <td>1000_0</td>\n",
       "      <td>2018-07-25</td>\n",
       "      <td>0.0</td>\n",
       "      <td>1000</td>\n",
       "    </tr>\n",
       "    <tr>\n",
       "      <th>1</th>\n",
       "      <td>1000_1</td>\n",
       "      <td>2018-08-17</td>\n",
       "      <td>0.0</td>\n",
       "      <td>1000</td>\n",
       "    </tr>\n",
       "    <tr>\n",
       "      <th>2</th>\n",
       "      <td>1000_2</td>\n",
       "      <td>2018-06-11</td>\n",
       "      <td>3.0</td>\n",
       "      <td>1000</td>\n",
       "    </tr>\n",
       "    <tr>\n",
       "      <th>3</th>\n",
       "      <td>1000_3</td>\n",
       "      <td>2018-09-21</td>\n",
       "      <td>14.0</td>\n",
       "      <td>1000</td>\n",
       "    </tr>\n",
       "    <tr>\n",
       "      <th>4</th>\n",
       "      <td>1000_4</td>\n",
       "      <td>2018-12-15</td>\n",
       "      <td>6.0</td>\n",
       "      <td>1000</td>\n",
       "    </tr>\n",
       "    <tr>\n",
       "      <th>5</th>\n",
       "      <td>1000_5</td>\n",
       "      <td>2018-11-02</td>\n",
       "      <td>0.0</td>\n",
       "      <td>1000</td>\n",
       "    </tr>\n",
       "    <tr>\n",
       "      <th>6</th>\n",
       "      <td>1000_6</td>\n",
       "      <td>2018-10-18</td>\n",
       "      <td>0.0</td>\n",
       "      <td>1000</td>\n",
       "    </tr>\n",
       "    <tr>\n",
       "      <th>7</th>\n",
       "      <td>1000_7</td>\n",
       "      <td>2018-08-22</td>\n",
       "      <td>19.0</td>\n",
       "      <td>1000</td>\n",
       "    </tr>\n",
       "    <tr>\n",
       "      <th>8</th>\n",
       "      <td>1000_8</td>\n",
       "      <td>2018-09-15</td>\n",
       "      <td>19.0</td>\n",
       "      <td>1000</td>\n",
       "    </tr>\n",
       "    <tr>\n",
       "      <th>9</th>\n",
       "      <td>1000_9</td>\n",
       "      <td>2018-08-15</td>\n",
       "      <td>0.0</td>\n",
       "      <td>1000</td>\n",
       "    </tr>\n",
       "    <tr>\n",
       "      <th>10</th>\n",
       "      <td>1000_10</td>\n",
       "      <td>2018-08-22</td>\n",
       "      <td>6.0</td>\n",
       "      <td>1000</td>\n",
       "    </tr>\n",
       "    <tr>\n",
       "      <th>11</th>\n",
       "      <td>1000_11</td>\n",
       "      <td>2018-05-28</td>\n",
       "      <td>19.0</td>\n",
       "      <td>1000</td>\n",
       "    </tr>\n",
       "    <tr>\n",
       "      <th>12</th>\n",
       "      <td>1000_12</td>\n",
       "      <td>2018-07-05</td>\n",
       "      <td>3.0</td>\n",
       "      <td>1000</td>\n",
       "    </tr>\n",
       "    <tr>\n",
       "      <th>13</th>\n",
       "      <td>1000_13</td>\n",
       "      <td>2018-09-29</td>\n",
       "      <td>8.0</td>\n",
       "      <td>1000</td>\n",
       "    </tr>\n",
       "    <tr>\n",
       "      <th>14</th>\n",
       "      <td>1000_14</td>\n",
       "      <td>2018-12-11</td>\n",
       "      <td>10.0</td>\n",
       "      <td>1000</td>\n",
       "    </tr>\n",
       "    <tr>\n",
       "      <th>15</th>\n",
       "      <td>1000_15</td>\n",
       "      <td>2018-07-27</td>\n",
       "      <td>10.0</td>\n",
       "      <td>1000</td>\n",
       "    </tr>\n",
       "    <tr>\n",
       "      <th>16</th>\n",
       "      <td>1000_16</td>\n",
       "      <td>2018-08-11</td>\n",
       "      <td>5.0</td>\n",
       "      <td>1000</td>\n",
       "    </tr>\n",
       "    <tr>\n",
       "      <th>17</th>\n",
       "      <td>1000_17</td>\n",
       "      <td>2018-08-02</td>\n",
       "      <td>13.0</td>\n",
       "      <td>1000</td>\n",
       "    </tr>\n",
       "    <tr>\n",
       "      <th>18</th>\n",
       "      <td>1000_18</td>\n",
       "      <td>2018-06-15</td>\n",
       "      <td>5.0</td>\n",
       "      <td>1000</td>\n",
       "    </tr>\n",
       "    <tr>\n",
       "      <th>19</th>\n",
       "      <td>1000_19</td>\n",
       "      <td>2018-11-02</td>\n",
       "      <td>16.0</td>\n",
       "      <td>1000</td>\n",
       "    </tr>\n",
       "  </tbody>\n",
       "</table>\n",
       "</div>"
      ],
      "text/plain": [
       "         id  call_date  duration  user_id\n",
       "0    1000_0 2018-07-25       0.0     1000\n",
       "1    1000_1 2018-08-17       0.0     1000\n",
       "2    1000_2 2018-06-11       3.0     1000\n",
       "3    1000_3 2018-09-21      14.0     1000\n",
       "4    1000_4 2018-12-15       6.0     1000\n",
       "5    1000_5 2018-11-02       0.0     1000\n",
       "6    1000_6 2018-10-18       0.0     1000\n",
       "7    1000_7 2018-08-22      19.0     1000\n",
       "8    1000_8 2018-09-15      19.0     1000\n",
       "9    1000_9 2018-08-15       0.0     1000\n",
       "10  1000_10 2018-08-22       6.0     1000\n",
       "11  1000_11 2018-05-28      19.0     1000\n",
       "12  1000_12 2018-07-05       3.0     1000\n",
       "13  1000_13 2018-09-29       8.0     1000\n",
       "14  1000_14 2018-12-11      10.0     1000\n",
       "15  1000_15 2018-07-27      10.0     1000\n",
       "16  1000_16 2018-08-11       5.0     1000\n",
       "17  1000_17 2018-08-02      13.0     1000\n",
       "18  1000_18 2018-06-15       5.0     1000\n",
       "19  1000_19 2018-11-02      16.0     1000"
      ]
     },
     "metadata": {},
     "output_type": "display_data"
    },
    {
     "name": "stdout",
     "output_type": "stream",
     "text": [
      "<class 'pandas.core.frame.DataFrame'>\n",
      "RangeIndex: 202607 entries, 0 to 202606\n",
      "Data columns (total 4 columns):\n",
      " #   Column     Non-Null Count   Dtype         \n",
      "---  ------     --------------   -----         \n",
      " 0   id         202607 non-null  object        \n",
      " 1   call_date  202607 non-null  datetime64[ns]\n",
      " 2   duration   202607 non-null  float64       \n",
      " 3   user_id    202607 non-null  int64         \n",
      "dtypes: datetime64[ns](1), float64(1), int64(1), object(1)\n",
      "memory usage: 6.2+ MB\n"
     ]
    },
    {
     "data": {
      "text/html": [
       "<div>\n",
       "<style scoped>\n",
       "    .dataframe tbody tr th:only-of-type {\n",
       "        vertical-align: middle;\n",
       "    }\n",
       "\n",
       "    .dataframe tbody tr th {\n",
       "        vertical-align: top;\n",
       "    }\n",
       "\n",
       "    .dataframe thead th {\n",
       "        text-align: right;\n",
       "    }\n",
       "</style>\n",
       "<table border=\"1\" class=\"dataframe\">\n",
       "  <thead>\n",
       "    <tr style=\"text-align: right;\">\n",
       "      <th></th>\n",
       "      <th>id</th>\n",
       "      <th>call_date</th>\n",
       "      <th>duration</th>\n",
       "      <th>user_id</th>\n",
       "    </tr>\n",
       "  </thead>\n",
       "  <tbody>\n",
       "  </tbody>\n",
       "</table>\n",
       "</div>"
      ],
      "text/plain": [
       "Empty DataFrame\n",
       "Columns: [id, call_date, duration, user_id]\n",
       "Index: []"
      ]
     },
     "metadata": {},
     "output_type": "display_data"
    },
    {
     "data": {
      "text/plain": [
       "0"
      ]
     },
     "metadata": {},
     "output_type": "display_data"
    },
    {
     "data": {
      "text/plain": [
       "id           0.0\n",
       "call_date    0.0\n",
       "duration     0.0\n",
       "user_id      0.0\n",
       "dtype: float64"
      ]
     },
     "execution_count": 2,
     "metadata": {},
     "output_type": "execute_result"
    }
   ],
   "source": [
    "calls = pd.read_csv('/datasets/calls.csv') \n",
    "display(calls.head(20))\n",
    "calls.info()\n",
    "\n",
    "calls['call_date'] = pd.to_datetime(calls['call_date'])  # переводим в дату\n",
    "calls['duration']= np.ceil(calls['duration']) # округляем\n",
    "display(calls.head(20))\n",
    "calls.info()\n",
    "\n",
    "duplicated_calls = calls[calls.duplicated(keep=False)].head(30)\n",
    "#проверяем на дубликаты дубликатов не обнаруженно\n",
    "\n",
    "display(duplicated_calls) \n",
    "display(duplicated_calls.duplicated().sum())\n",
    "\n",
    "\n",
    "round((calls.isna().mean()*100),2)\n",
    "round((calls.isnull().mean()*100),2)\n",
    "#проверить на isna() или isnull()\n",
    "\n",
    "\n"
   ]
  },
  {
   "cell_type": "code",
   "execution_count": 3,
   "metadata": {},
   "outputs": [
    {
     "data": {
      "text/html": [
       "<div>\n",
       "<style scoped>\n",
       "    .dataframe tbody tr th:only-of-type {\n",
       "        vertical-align: middle;\n",
       "    }\n",
       "\n",
       "    .dataframe tbody tr th {\n",
       "        vertical-align: top;\n",
       "    }\n",
       "\n",
       "    .dataframe thead th {\n",
       "        text-align: right;\n",
       "    }\n",
       "</style>\n",
       "<table border=\"1\" class=\"dataframe\">\n",
       "  <thead>\n",
       "    <tr style=\"text-align: right;\">\n",
       "      <th></th>\n",
       "      <th>Unnamed: 0</th>\n",
       "      <th>id</th>\n",
       "      <th>mb_used</th>\n",
       "      <th>session_date</th>\n",
       "      <th>user_id</th>\n",
       "    </tr>\n",
       "  </thead>\n",
       "  <tbody>\n",
       "    <tr>\n",
       "      <th>0</th>\n",
       "      <td>0</td>\n",
       "      <td>1000_0</td>\n",
       "      <td>112.95</td>\n",
       "      <td>2018-11-25</td>\n",
       "      <td>1000</td>\n",
       "    </tr>\n",
       "    <tr>\n",
       "      <th>1</th>\n",
       "      <td>1</td>\n",
       "      <td>1000_1</td>\n",
       "      <td>1052.81</td>\n",
       "      <td>2018-09-07</td>\n",
       "      <td>1000</td>\n",
       "    </tr>\n",
       "    <tr>\n",
       "      <th>2</th>\n",
       "      <td>2</td>\n",
       "      <td>1000_2</td>\n",
       "      <td>1197.26</td>\n",
       "      <td>2018-06-25</td>\n",
       "      <td>1000</td>\n",
       "    </tr>\n",
       "    <tr>\n",
       "      <th>3</th>\n",
       "      <td>3</td>\n",
       "      <td>1000_3</td>\n",
       "      <td>550.27</td>\n",
       "      <td>2018-08-22</td>\n",
       "      <td>1000</td>\n",
       "    </tr>\n",
       "    <tr>\n",
       "      <th>4</th>\n",
       "      <td>4</td>\n",
       "      <td>1000_4</td>\n",
       "      <td>302.56</td>\n",
       "      <td>2018-09-24</td>\n",
       "      <td>1000</td>\n",
       "    </tr>\n",
       "    <tr>\n",
       "      <th>5</th>\n",
       "      <td>5</td>\n",
       "      <td>1000_5</td>\n",
       "      <td>399.97</td>\n",
       "      <td>2018-10-02</td>\n",
       "      <td>1000</td>\n",
       "    </tr>\n",
       "    <tr>\n",
       "      <th>6</th>\n",
       "      <td>6</td>\n",
       "      <td>1000_6</td>\n",
       "      <td>540.08</td>\n",
       "      <td>2018-09-07</td>\n",
       "      <td>1000</td>\n",
       "    </tr>\n",
       "    <tr>\n",
       "      <th>7</th>\n",
       "      <td>7</td>\n",
       "      <td>1000_7</td>\n",
       "      <td>415.70</td>\n",
       "      <td>2018-07-11</td>\n",
       "      <td>1000</td>\n",
       "    </tr>\n",
       "    <tr>\n",
       "      <th>8</th>\n",
       "      <td>8</td>\n",
       "      <td>1000_8</td>\n",
       "      <td>505.40</td>\n",
       "      <td>2018-10-08</td>\n",
       "      <td>1000</td>\n",
       "    </tr>\n",
       "    <tr>\n",
       "      <th>9</th>\n",
       "      <td>9</td>\n",
       "      <td>1000_9</td>\n",
       "      <td>345.54</td>\n",
       "      <td>2018-09-03</td>\n",
       "      <td>1000</td>\n",
       "    </tr>\n",
       "    <tr>\n",
       "      <th>10</th>\n",
       "      <td>10</td>\n",
       "      <td>1000_10</td>\n",
       "      <td>385.14</td>\n",
       "      <td>2018-09-27</td>\n",
       "      <td>1000</td>\n",
       "    </tr>\n",
       "    <tr>\n",
       "      <th>11</th>\n",
       "      <td>11</td>\n",
       "      <td>1000_11</td>\n",
       "      <td>0.00</td>\n",
       "      <td>2018-08-28</td>\n",
       "      <td>1000</td>\n",
       "    </tr>\n",
       "    <tr>\n",
       "      <th>12</th>\n",
       "      <td>12</td>\n",
       "      <td>1000_12</td>\n",
       "      <td>375.87</td>\n",
       "      <td>2018-06-20</td>\n",
       "      <td>1000</td>\n",
       "    </tr>\n",
       "    <tr>\n",
       "      <th>13</th>\n",
       "      <td>13</td>\n",
       "      <td>1000_13</td>\n",
       "      <td>393.83</td>\n",
       "      <td>2018-08-09</td>\n",
       "      <td>1000</td>\n",
       "    </tr>\n",
       "    <tr>\n",
       "      <th>14</th>\n",
       "      <td>14</td>\n",
       "      <td>1000_14</td>\n",
       "      <td>180.64</td>\n",
       "      <td>2018-08-11</td>\n",
       "      <td>1000</td>\n",
       "    </tr>\n",
       "    <tr>\n",
       "      <th>15</th>\n",
       "      <td>15</td>\n",
       "      <td>1000_15</td>\n",
       "      <td>337.71</td>\n",
       "      <td>2018-07-21</td>\n",
       "      <td>1000</td>\n",
       "    </tr>\n",
       "    <tr>\n",
       "      <th>16</th>\n",
       "      <td>16</td>\n",
       "      <td>1000_16</td>\n",
       "      <td>459.28</td>\n",
       "      <td>2018-06-09</td>\n",
       "      <td>1000</td>\n",
       "    </tr>\n",
       "    <tr>\n",
       "      <th>17</th>\n",
       "      <td>17</td>\n",
       "      <td>1000_17</td>\n",
       "      <td>204.14</td>\n",
       "      <td>2018-06-03</td>\n",
       "      <td>1000</td>\n",
       "    </tr>\n",
       "    <tr>\n",
       "      <th>18</th>\n",
       "      <td>18</td>\n",
       "      <td>1000_18</td>\n",
       "      <td>658.10</td>\n",
       "      <td>2018-11-01</td>\n",
       "      <td>1000</td>\n",
       "    </tr>\n",
       "    <tr>\n",
       "      <th>19</th>\n",
       "      <td>19</td>\n",
       "      <td>1000_19</td>\n",
       "      <td>452.73</td>\n",
       "      <td>2018-11-28</td>\n",
       "      <td>1000</td>\n",
       "    </tr>\n",
       "  </tbody>\n",
       "</table>\n",
       "</div>"
      ],
      "text/plain": [
       "    Unnamed: 0       id  mb_used session_date  user_id\n",
       "0            0   1000_0   112.95   2018-11-25     1000\n",
       "1            1   1000_1  1052.81   2018-09-07     1000\n",
       "2            2   1000_2  1197.26   2018-06-25     1000\n",
       "3            3   1000_3   550.27   2018-08-22     1000\n",
       "4            4   1000_4   302.56   2018-09-24     1000\n",
       "5            5   1000_5   399.97   2018-10-02     1000\n",
       "6            6   1000_6   540.08   2018-09-07     1000\n",
       "7            7   1000_7   415.70   2018-07-11     1000\n",
       "8            8   1000_8   505.40   2018-10-08     1000\n",
       "9            9   1000_9   345.54   2018-09-03     1000\n",
       "10          10  1000_10   385.14   2018-09-27     1000\n",
       "11          11  1000_11     0.00   2018-08-28     1000\n",
       "12          12  1000_12   375.87   2018-06-20     1000\n",
       "13          13  1000_13   393.83   2018-08-09     1000\n",
       "14          14  1000_14   180.64   2018-08-11     1000\n",
       "15          15  1000_15   337.71   2018-07-21     1000\n",
       "16          16  1000_16   459.28   2018-06-09     1000\n",
       "17          17  1000_17   204.14   2018-06-03     1000\n",
       "18          18  1000_18   658.10   2018-11-01     1000\n",
       "19          19  1000_19   452.73   2018-11-28     1000"
      ]
     },
     "metadata": {},
     "output_type": "display_data"
    },
    {
     "name": "stdout",
     "output_type": "stream",
     "text": [
      "<class 'pandas.core.frame.DataFrame'>\n",
      "RangeIndex: 149396 entries, 0 to 149395\n",
      "Data columns (total 5 columns):\n",
      " #   Column        Non-Null Count   Dtype  \n",
      "---  ------        --------------   -----  \n",
      " 0   Unnamed: 0    149396 non-null  int64  \n",
      " 1   id            149396 non-null  object \n",
      " 2   mb_used       149396 non-null  float64\n",
      " 3   session_date  149396 non-null  object \n",
      " 4   user_id       149396 non-null  int64  \n",
      "dtypes: float64(1), int64(2), object(2)\n",
      "memory usage: 5.7+ MB\n"
     ]
    },
    {
     "data": {
      "text/html": [
       "<div>\n",
       "<style scoped>\n",
       "    .dataframe tbody tr th:only-of-type {\n",
       "        vertical-align: middle;\n",
       "    }\n",
       "\n",
       "    .dataframe tbody tr th {\n",
       "        vertical-align: top;\n",
       "    }\n",
       "\n",
       "    .dataframe thead th {\n",
       "        text-align: right;\n",
       "    }\n",
       "</style>\n",
       "<table border=\"1\" class=\"dataframe\">\n",
       "  <thead>\n",
       "    <tr style=\"text-align: right;\">\n",
       "      <th></th>\n",
       "      <th>Unnamed: 0</th>\n",
       "      <th>id</th>\n",
       "      <th>mb_used</th>\n",
       "      <th>session_date</th>\n",
       "      <th>user_id</th>\n",
       "    </tr>\n",
       "  </thead>\n",
       "  <tbody>\n",
       "    <tr>\n",
       "      <th>0</th>\n",
       "      <td>0</td>\n",
       "      <td>1000_0</td>\n",
       "      <td>112.95</td>\n",
       "      <td>2018-11-25</td>\n",
       "      <td>1000</td>\n",
       "    </tr>\n",
       "    <tr>\n",
       "      <th>1</th>\n",
       "      <td>1</td>\n",
       "      <td>1000_1</td>\n",
       "      <td>1052.81</td>\n",
       "      <td>2018-09-07</td>\n",
       "      <td>1000</td>\n",
       "    </tr>\n",
       "    <tr>\n",
       "      <th>2</th>\n",
       "      <td>2</td>\n",
       "      <td>1000_2</td>\n",
       "      <td>1197.26</td>\n",
       "      <td>2018-06-25</td>\n",
       "      <td>1000</td>\n",
       "    </tr>\n",
       "    <tr>\n",
       "      <th>3</th>\n",
       "      <td>3</td>\n",
       "      <td>1000_3</td>\n",
       "      <td>550.27</td>\n",
       "      <td>2018-08-22</td>\n",
       "      <td>1000</td>\n",
       "    </tr>\n",
       "    <tr>\n",
       "      <th>4</th>\n",
       "      <td>4</td>\n",
       "      <td>1000_4</td>\n",
       "      <td>302.56</td>\n",
       "      <td>2018-09-24</td>\n",
       "      <td>1000</td>\n",
       "    </tr>\n",
       "    <tr>\n",
       "      <th>5</th>\n",
       "      <td>5</td>\n",
       "      <td>1000_5</td>\n",
       "      <td>399.97</td>\n",
       "      <td>2018-10-02</td>\n",
       "      <td>1000</td>\n",
       "    </tr>\n",
       "    <tr>\n",
       "      <th>6</th>\n",
       "      <td>6</td>\n",
       "      <td>1000_6</td>\n",
       "      <td>540.08</td>\n",
       "      <td>2018-09-07</td>\n",
       "      <td>1000</td>\n",
       "    </tr>\n",
       "    <tr>\n",
       "      <th>7</th>\n",
       "      <td>7</td>\n",
       "      <td>1000_7</td>\n",
       "      <td>415.70</td>\n",
       "      <td>2018-07-11</td>\n",
       "      <td>1000</td>\n",
       "    </tr>\n",
       "    <tr>\n",
       "      <th>8</th>\n",
       "      <td>8</td>\n",
       "      <td>1000_8</td>\n",
       "      <td>505.40</td>\n",
       "      <td>2018-10-08</td>\n",
       "      <td>1000</td>\n",
       "    </tr>\n",
       "    <tr>\n",
       "      <th>9</th>\n",
       "      <td>9</td>\n",
       "      <td>1000_9</td>\n",
       "      <td>345.54</td>\n",
       "      <td>2018-09-03</td>\n",
       "      <td>1000</td>\n",
       "    </tr>\n",
       "    <tr>\n",
       "      <th>10</th>\n",
       "      <td>10</td>\n",
       "      <td>1000_10</td>\n",
       "      <td>385.14</td>\n",
       "      <td>2018-09-27</td>\n",
       "      <td>1000</td>\n",
       "    </tr>\n",
       "    <tr>\n",
       "      <th>11</th>\n",
       "      <td>11</td>\n",
       "      <td>1000_11</td>\n",
       "      <td>0.00</td>\n",
       "      <td>2018-08-28</td>\n",
       "      <td>1000</td>\n",
       "    </tr>\n",
       "    <tr>\n",
       "      <th>12</th>\n",
       "      <td>12</td>\n",
       "      <td>1000_12</td>\n",
       "      <td>375.87</td>\n",
       "      <td>2018-06-20</td>\n",
       "      <td>1000</td>\n",
       "    </tr>\n",
       "    <tr>\n",
       "      <th>13</th>\n",
       "      <td>13</td>\n",
       "      <td>1000_13</td>\n",
       "      <td>393.83</td>\n",
       "      <td>2018-08-09</td>\n",
       "      <td>1000</td>\n",
       "    </tr>\n",
       "    <tr>\n",
       "      <th>14</th>\n",
       "      <td>14</td>\n",
       "      <td>1000_14</td>\n",
       "      <td>180.64</td>\n",
       "      <td>2018-08-11</td>\n",
       "      <td>1000</td>\n",
       "    </tr>\n",
       "    <tr>\n",
       "      <th>15</th>\n",
       "      <td>15</td>\n",
       "      <td>1000_15</td>\n",
       "      <td>337.71</td>\n",
       "      <td>2018-07-21</td>\n",
       "      <td>1000</td>\n",
       "    </tr>\n",
       "    <tr>\n",
       "      <th>16</th>\n",
       "      <td>16</td>\n",
       "      <td>1000_16</td>\n",
       "      <td>459.28</td>\n",
       "      <td>2018-06-09</td>\n",
       "      <td>1000</td>\n",
       "    </tr>\n",
       "    <tr>\n",
       "      <th>17</th>\n",
       "      <td>17</td>\n",
       "      <td>1000_17</td>\n",
       "      <td>204.14</td>\n",
       "      <td>2018-06-03</td>\n",
       "      <td>1000</td>\n",
       "    </tr>\n",
       "    <tr>\n",
       "      <th>18</th>\n",
       "      <td>18</td>\n",
       "      <td>1000_18</td>\n",
       "      <td>658.10</td>\n",
       "      <td>2018-11-01</td>\n",
       "      <td>1000</td>\n",
       "    </tr>\n",
       "    <tr>\n",
       "      <th>19</th>\n",
       "      <td>19</td>\n",
       "      <td>1000_19</td>\n",
       "      <td>452.73</td>\n",
       "      <td>2018-11-28</td>\n",
       "      <td>1000</td>\n",
       "    </tr>\n",
       "  </tbody>\n",
       "</table>\n",
       "</div>"
      ],
      "text/plain": [
       "    Unnamed: 0       id  mb_used session_date  user_id\n",
       "0            0   1000_0   112.95   2018-11-25     1000\n",
       "1            1   1000_1  1052.81   2018-09-07     1000\n",
       "2            2   1000_2  1197.26   2018-06-25     1000\n",
       "3            3   1000_3   550.27   2018-08-22     1000\n",
       "4            4   1000_4   302.56   2018-09-24     1000\n",
       "5            5   1000_5   399.97   2018-10-02     1000\n",
       "6            6   1000_6   540.08   2018-09-07     1000\n",
       "7            7   1000_7   415.70   2018-07-11     1000\n",
       "8            8   1000_8   505.40   2018-10-08     1000\n",
       "9            9   1000_9   345.54   2018-09-03     1000\n",
       "10          10  1000_10   385.14   2018-09-27     1000\n",
       "11          11  1000_11     0.00   2018-08-28     1000\n",
       "12          12  1000_12   375.87   2018-06-20     1000\n",
       "13          13  1000_13   393.83   2018-08-09     1000\n",
       "14          14  1000_14   180.64   2018-08-11     1000\n",
       "15          15  1000_15   337.71   2018-07-21     1000\n",
       "16          16  1000_16   459.28   2018-06-09     1000\n",
       "17          17  1000_17   204.14   2018-06-03     1000\n",
       "18          18  1000_18   658.10   2018-11-01     1000\n",
       "19          19  1000_19   452.73   2018-11-28     1000"
      ]
     },
     "metadata": {},
     "output_type": "display_data"
    },
    {
     "name": "stdout",
     "output_type": "stream",
     "text": [
      "<class 'pandas.core.frame.DataFrame'>\n",
      "RangeIndex: 149396 entries, 0 to 149395\n",
      "Data columns (total 5 columns):\n",
      " #   Column        Non-Null Count   Dtype         \n",
      "---  ------        --------------   -----         \n",
      " 0   Unnamed: 0    149396 non-null  int64         \n",
      " 1   id            149396 non-null  object        \n",
      " 2   mb_used       149396 non-null  float64       \n",
      " 3   session_date  149396 non-null  datetime64[ns]\n",
      " 4   user_id       149396 non-null  int64         \n",
      "dtypes: datetime64[ns](1), float64(1), int64(2), object(1)\n",
      "memory usage: 5.7+ MB\n"
     ]
    },
    {
     "data": {
      "text/html": [
       "<div>\n",
       "<style scoped>\n",
       "    .dataframe tbody tr th:only-of-type {\n",
       "        vertical-align: middle;\n",
       "    }\n",
       "\n",
       "    .dataframe tbody tr th {\n",
       "        vertical-align: top;\n",
       "    }\n",
       "\n",
       "    .dataframe thead th {\n",
       "        text-align: right;\n",
       "    }\n",
       "</style>\n",
       "<table border=\"1\" class=\"dataframe\">\n",
       "  <thead>\n",
       "    <tr style=\"text-align: right;\">\n",
       "      <th></th>\n",
       "      <th>Unnamed: 0</th>\n",
       "      <th>id</th>\n",
       "      <th>mb_used</th>\n",
       "      <th>session_date</th>\n",
       "      <th>user_id</th>\n",
       "    </tr>\n",
       "  </thead>\n",
       "  <tbody>\n",
       "  </tbody>\n",
       "</table>\n",
       "</div>"
      ],
      "text/plain": [
       "Empty DataFrame\n",
       "Columns: [Unnamed: 0, id, mb_used, session_date, user_id]\n",
       "Index: []"
      ]
     },
     "metadata": {},
     "output_type": "display_data"
    },
    {
     "data": {
      "text/plain": [
       "0"
      ]
     },
     "metadata": {},
     "output_type": "display_data"
    },
    {
     "data": {
      "text/plain": [
       "Unnamed: 0      0.0\n",
       "id              0.0\n",
       "mb_used         0.0\n",
       "session_date    0.0\n",
       "user_id         0.0\n",
       "dtype: float64"
      ]
     },
     "execution_count": 3,
     "metadata": {},
     "output_type": "execute_result"
    }
   ],
   "source": [
    "internet = pd.read_csv('/datasets/internet.csv') \n",
    "display(internet.head(20))\n",
    "internet.info()\n",
    "internet['session_date'] = pd.to_datetime(internet['session_date'])  # переводим в дату\n",
    "\n",
    "display(internet.head(20))\n",
    "internet.info()\n",
    "\n",
    "duplicated_internet = internet[internet.duplicated(keep=False)].head(30)\n",
    "#проверяем на дубликаты дубликатов не обнаруженно\n",
    "display(duplicated_internet) \n",
    "display(duplicated_internet.duplicated().sum())\n",
    "\n",
    "\n",
    "round((internet.isna().mean()*100),2)\n",
    "round((internet.isnull().mean()*100),2)\n",
    "#проверить на isna() или isnull()"
   ]
  },
  {
   "cell_type": "code",
   "execution_count": 4,
   "metadata": {},
   "outputs": [
    {
     "data": {
      "text/html": [
       "<div>\n",
       "<style scoped>\n",
       "    .dataframe tbody tr th:only-of-type {\n",
       "        vertical-align: middle;\n",
       "    }\n",
       "\n",
       "    .dataframe tbody tr th {\n",
       "        vertical-align: top;\n",
       "    }\n",
       "\n",
       "    .dataframe thead th {\n",
       "        text-align: right;\n",
       "    }\n",
       "</style>\n",
       "<table border=\"1\" class=\"dataframe\">\n",
       "  <thead>\n",
       "    <tr style=\"text-align: right;\">\n",
       "      <th></th>\n",
       "      <th>id</th>\n",
       "      <th>message_date</th>\n",
       "      <th>user_id</th>\n",
       "    </tr>\n",
       "  </thead>\n",
       "  <tbody>\n",
       "    <tr>\n",
       "      <th>0</th>\n",
       "      <td>1000_0</td>\n",
       "      <td>2018-06-27</td>\n",
       "      <td>1000</td>\n",
       "    </tr>\n",
       "    <tr>\n",
       "      <th>1</th>\n",
       "      <td>1000_1</td>\n",
       "      <td>2018-10-08</td>\n",
       "      <td>1000</td>\n",
       "    </tr>\n",
       "    <tr>\n",
       "      <th>2</th>\n",
       "      <td>1000_2</td>\n",
       "      <td>2018-08-04</td>\n",
       "      <td>1000</td>\n",
       "    </tr>\n",
       "    <tr>\n",
       "      <th>3</th>\n",
       "      <td>1000_3</td>\n",
       "      <td>2018-06-16</td>\n",
       "      <td>1000</td>\n",
       "    </tr>\n",
       "    <tr>\n",
       "      <th>4</th>\n",
       "      <td>1000_4</td>\n",
       "      <td>2018-12-05</td>\n",
       "      <td>1000</td>\n",
       "    </tr>\n",
       "    <tr>\n",
       "      <th>5</th>\n",
       "      <td>1000_5</td>\n",
       "      <td>2018-06-20</td>\n",
       "      <td>1000</td>\n",
       "    </tr>\n",
       "    <tr>\n",
       "      <th>6</th>\n",
       "      <td>1000_6</td>\n",
       "      <td>2018-11-19</td>\n",
       "      <td>1000</td>\n",
       "    </tr>\n",
       "    <tr>\n",
       "      <th>7</th>\n",
       "      <td>1000_7</td>\n",
       "      <td>2018-10-29</td>\n",
       "      <td>1000</td>\n",
       "    </tr>\n",
       "    <tr>\n",
       "      <th>8</th>\n",
       "      <td>1000_8</td>\n",
       "      <td>2018-06-25</td>\n",
       "      <td>1000</td>\n",
       "    </tr>\n",
       "    <tr>\n",
       "      <th>9</th>\n",
       "      <td>1000_9</td>\n",
       "      <td>2018-12-18</td>\n",
       "      <td>1000</td>\n",
       "    </tr>\n",
       "    <tr>\n",
       "      <th>10</th>\n",
       "      <td>1000_10</td>\n",
       "      <td>2018-05-30</td>\n",
       "      <td>1000</td>\n",
       "    </tr>\n",
       "    <tr>\n",
       "      <th>11</th>\n",
       "      <td>1000_11</td>\n",
       "      <td>2018-07-06</td>\n",
       "      <td>1000</td>\n",
       "    </tr>\n",
       "    <tr>\n",
       "      <th>12</th>\n",
       "      <td>1000_12</td>\n",
       "      <td>2018-08-20</td>\n",
       "      <td>1000</td>\n",
       "    </tr>\n",
       "    <tr>\n",
       "      <th>13</th>\n",
       "      <td>1000_13</td>\n",
       "      <td>2018-10-30</td>\n",
       "      <td>1000</td>\n",
       "    </tr>\n",
       "    <tr>\n",
       "      <th>14</th>\n",
       "      <td>1000_14</td>\n",
       "      <td>2018-09-14</td>\n",
       "      <td>1000</td>\n",
       "    </tr>\n",
       "    <tr>\n",
       "      <th>15</th>\n",
       "      <td>1000_15</td>\n",
       "      <td>2018-08-28</td>\n",
       "      <td>1000</td>\n",
       "    </tr>\n",
       "    <tr>\n",
       "      <th>16</th>\n",
       "      <td>1000_16</td>\n",
       "      <td>2018-06-25</td>\n",
       "      <td>1000</td>\n",
       "    </tr>\n",
       "    <tr>\n",
       "      <th>17</th>\n",
       "      <td>1000_17</td>\n",
       "      <td>2018-06-29</td>\n",
       "      <td>1000</td>\n",
       "    </tr>\n",
       "    <tr>\n",
       "      <th>18</th>\n",
       "      <td>1000_18</td>\n",
       "      <td>2018-07-07</td>\n",
       "      <td>1000</td>\n",
       "    </tr>\n",
       "    <tr>\n",
       "      <th>19</th>\n",
       "      <td>1000_19</td>\n",
       "      <td>2018-05-29</td>\n",
       "      <td>1000</td>\n",
       "    </tr>\n",
       "  </tbody>\n",
       "</table>\n",
       "</div>"
      ],
      "text/plain": [
       "         id message_date  user_id\n",
       "0    1000_0   2018-06-27     1000\n",
       "1    1000_1   2018-10-08     1000\n",
       "2    1000_2   2018-08-04     1000\n",
       "3    1000_3   2018-06-16     1000\n",
       "4    1000_4   2018-12-05     1000\n",
       "5    1000_5   2018-06-20     1000\n",
       "6    1000_6   2018-11-19     1000\n",
       "7    1000_7   2018-10-29     1000\n",
       "8    1000_8   2018-06-25     1000\n",
       "9    1000_9   2018-12-18     1000\n",
       "10  1000_10   2018-05-30     1000\n",
       "11  1000_11   2018-07-06     1000\n",
       "12  1000_12   2018-08-20     1000\n",
       "13  1000_13   2018-10-30     1000\n",
       "14  1000_14   2018-09-14     1000\n",
       "15  1000_15   2018-08-28     1000\n",
       "16  1000_16   2018-06-25     1000\n",
       "17  1000_17   2018-06-29     1000\n",
       "18  1000_18   2018-07-07     1000\n",
       "19  1000_19   2018-05-29     1000"
      ]
     },
     "metadata": {},
     "output_type": "display_data"
    },
    {
     "name": "stdout",
     "output_type": "stream",
     "text": [
      "<class 'pandas.core.frame.DataFrame'>\n",
      "RangeIndex: 123036 entries, 0 to 123035\n",
      "Data columns (total 3 columns):\n",
      " #   Column        Non-Null Count   Dtype \n",
      "---  ------        --------------   ----- \n",
      " 0   id            123036 non-null  object\n",
      " 1   message_date  123036 non-null  object\n",
      " 2   user_id       123036 non-null  int64 \n",
      "dtypes: int64(1), object(2)\n",
      "memory usage: 2.8+ MB\n"
     ]
    },
    {
     "data": {
      "text/html": [
       "<div>\n",
       "<style scoped>\n",
       "    .dataframe tbody tr th:only-of-type {\n",
       "        vertical-align: middle;\n",
       "    }\n",
       "\n",
       "    .dataframe tbody tr th {\n",
       "        vertical-align: top;\n",
       "    }\n",
       "\n",
       "    .dataframe thead th {\n",
       "        text-align: right;\n",
       "    }\n",
       "</style>\n",
       "<table border=\"1\" class=\"dataframe\">\n",
       "  <thead>\n",
       "    <tr style=\"text-align: right;\">\n",
       "      <th></th>\n",
       "      <th>id</th>\n",
       "      <th>message_date</th>\n",
       "      <th>user_id</th>\n",
       "    </tr>\n",
       "  </thead>\n",
       "  <tbody>\n",
       "    <tr>\n",
       "      <th>0</th>\n",
       "      <td>1000_0</td>\n",
       "      <td>2018-06-27</td>\n",
       "      <td>1000</td>\n",
       "    </tr>\n",
       "    <tr>\n",
       "      <th>1</th>\n",
       "      <td>1000_1</td>\n",
       "      <td>2018-10-08</td>\n",
       "      <td>1000</td>\n",
       "    </tr>\n",
       "    <tr>\n",
       "      <th>2</th>\n",
       "      <td>1000_2</td>\n",
       "      <td>2018-08-04</td>\n",
       "      <td>1000</td>\n",
       "    </tr>\n",
       "    <tr>\n",
       "      <th>3</th>\n",
       "      <td>1000_3</td>\n",
       "      <td>2018-06-16</td>\n",
       "      <td>1000</td>\n",
       "    </tr>\n",
       "    <tr>\n",
       "      <th>4</th>\n",
       "      <td>1000_4</td>\n",
       "      <td>2018-12-05</td>\n",
       "      <td>1000</td>\n",
       "    </tr>\n",
       "    <tr>\n",
       "      <th>5</th>\n",
       "      <td>1000_5</td>\n",
       "      <td>2018-06-20</td>\n",
       "      <td>1000</td>\n",
       "    </tr>\n",
       "    <tr>\n",
       "      <th>6</th>\n",
       "      <td>1000_6</td>\n",
       "      <td>2018-11-19</td>\n",
       "      <td>1000</td>\n",
       "    </tr>\n",
       "    <tr>\n",
       "      <th>7</th>\n",
       "      <td>1000_7</td>\n",
       "      <td>2018-10-29</td>\n",
       "      <td>1000</td>\n",
       "    </tr>\n",
       "    <tr>\n",
       "      <th>8</th>\n",
       "      <td>1000_8</td>\n",
       "      <td>2018-06-25</td>\n",
       "      <td>1000</td>\n",
       "    </tr>\n",
       "    <tr>\n",
       "      <th>9</th>\n",
       "      <td>1000_9</td>\n",
       "      <td>2018-12-18</td>\n",
       "      <td>1000</td>\n",
       "    </tr>\n",
       "    <tr>\n",
       "      <th>10</th>\n",
       "      <td>1000_10</td>\n",
       "      <td>2018-05-30</td>\n",
       "      <td>1000</td>\n",
       "    </tr>\n",
       "    <tr>\n",
       "      <th>11</th>\n",
       "      <td>1000_11</td>\n",
       "      <td>2018-07-06</td>\n",
       "      <td>1000</td>\n",
       "    </tr>\n",
       "    <tr>\n",
       "      <th>12</th>\n",
       "      <td>1000_12</td>\n",
       "      <td>2018-08-20</td>\n",
       "      <td>1000</td>\n",
       "    </tr>\n",
       "    <tr>\n",
       "      <th>13</th>\n",
       "      <td>1000_13</td>\n",
       "      <td>2018-10-30</td>\n",
       "      <td>1000</td>\n",
       "    </tr>\n",
       "    <tr>\n",
       "      <th>14</th>\n",
       "      <td>1000_14</td>\n",
       "      <td>2018-09-14</td>\n",
       "      <td>1000</td>\n",
       "    </tr>\n",
       "    <tr>\n",
       "      <th>15</th>\n",
       "      <td>1000_15</td>\n",
       "      <td>2018-08-28</td>\n",
       "      <td>1000</td>\n",
       "    </tr>\n",
       "    <tr>\n",
       "      <th>16</th>\n",
       "      <td>1000_16</td>\n",
       "      <td>2018-06-25</td>\n",
       "      <td>1000</td>\n",
       "    </tr>\n",
       "    <tr>\n",
       "      <th>17</th>\n",
       "      <td>1000_17</td>\n",
       "      <td>2018-06-29</td>\n",
       "      <td>1000</td>\n",
       "    </tr>\n",
       "    <tr>\n",
       "      <th>18</th>\n",
       "      <td>1000_18</td>\n",
       "      <td>2018-07-07</td>\n",
       "      <td>1000</td>\n",
       "    </tr>\n",
       "    <tr>\n",
       "      <th>19</th>\n",
       "      <td>1000_19</td>\n",
       "      <td>2018-05-29</td>\n",
       "      <td>1000</td>\n",
       "    </tr>\n",
       "  </tbody>\n",
       "</table>\n",
       "</div>"
      ],
      "text/plain": [
       "         id message_date  user_id\n",
       "0    1000_0   2018-06-27     1000\n",
       "1    1000_1   2018-10-08     1000\n",
       "2    1000_2   2018-08-04     1000\n",
       "3    1000_3   2018-06-16     1000\n",
       "4    1000_4   2018-12-05     1000\n",
       "5    1000_5   2018-06-20     1000\n",
       "6    1000_6   2018-11-19     1000\n",
       "7    1000_7   2018-10-29     1000\n",
       "8    1000_8   2018-06-25     1000\n",
       "9    1000_9   2018-12-18     1000\n",
       "10  1000_10   2018-05-30     1000\n",
       "11  1000_11   2018-07-06     1000\n",
       "12  1000_12   2018-08-20     1000\n",
       "13  1000_13   2018-10-30     1000\n",
       "14  1000_14   2018-09-14     1000\n",
       "15  1000_15   2018-08-28     1000\n",
       "16  1000_16   2018-06-25     1000\n",
       "17  1000_17   2018-06-29     1000\n",
       "18  1000_18   2018-07-07     1000\n",
       "19  1000_19   2018-05-29     1000"
      ]
     },
     "metadata": {},
     "output_type": "display_data"
    },
    {
     "name": "stdout",
     "output_type": "stream",
     "text": [
      "<class 'pandas.core.frame.DataFrame'>\n",
      "RangeIndex: 123036 entries, 0 to 123035\n",
      "Data columns (total 3 columns):\n",
      " #   Column        Non-Null Count   Dtype         \n",
      "---  ------        --------------   -----         \n",
      " 0   id            123036 non-null  object        \n",
      " 1   message_date  123036 non-null  datetime64[ns]\n",
      " 2   user_id       123036 non-null  int64         \n",
      "dtypes: datetime64[ns](1), int64(1), object(1)\n",
      "memory usage: 2.8+ MB\n"
     ]
    },
    {
     "data": {
      "text/html": [
       "<div>\n",
       "<style scoped>\n",
       "    .dataframe tbody tr th:only-of-type {\n",
       "        vertical-align: middle;\n",
       "    }\n",
       "\n",
       "    .dataframe tbody tr th {\n",
       "        vertical-align: top;\n",
       "    }\n",
       "\n",
       "    .dataframe thead th {\n",
       "        text-align: right;\n",
       "    }\n",
       "</style>\n",
       "<table border=\"1\" class=\"dataframe\">\n",
       "  <thead>\n",
       "    <tr style=\"text-align: right;\">\n",
       "      <th></th>\n",
       "      <th>id</th>\n",
       "      <th>message_date</th>\n",
       "      <th>user_id</th>\n",
       "    </tr>\n",
       "  </thead>\n",
       "  <tbody>\n",
       "  </tbody>\n",
       "</table>\n",
       "</div>"
      ],
      "text/plain": [
       "Empty DataFrame\n",
       "Columns: [id, message_date, user_id]\n",
       "Index: []"
      ]
     },
     "metadata": {},
     "output_type": "display_data"
    },
    {
     "data": {
      "text/plain": [
       "0"
      ]
     },
     "metadata": {},
     "output_type": "display_data"
    },
    {
     "data": {
      "text/plain": [
       "id              0.0\n",
       "message_date    0.0\n",
       "user_id         0.0\n",
       "dtype: float64"
      ]
     },
     "execution_count": 4,
     "metadata": {},
     "output_type": "execute_result"
    }
   ],
   "source": [
    "messages = pd.read_csv('/datasets/messages.csv') \n",
    "display(messages.head(20))\n",
    "messages.info()\n",
    "messages['message_date'] = pd.to_datetime(messages['message_date'])  # переводим в дату\n",
    "display(messages.head(20))\n",
    "messages.info()\n",
    "\n",
    "duplicated_messages = messages[messages.duplicated(keep=False)].head(30)\n",
    "#проверяем на дубликаты дубликатов не обнаруженно\n",
    "display(duplicated_messages) \n",
    "display(duplicated_messages.duplicated().sum())\n",
    "\n",
    "\n",
    "round((messages.isna().mean()*100),2)\n",
    "round((messages.isnull().mean()*100),2)\n",
    "#проверить на isna() или isnull()"
   ]
  },
  {
   "cell_type": "code",
   "execution_count": 5,
   "metadata": {},
   "outputs": [
    {
     "data": {
      "text/html": [
       "<div>\n",
       "<style scoped>\n",
       "    .dataframe tbody tr th:only-of-type {\n",
       "        vertical-align: middle;\n",
       "    }\n",
       "\n",
       "    .dataframe tbody tr th {\n",
       "        vertical-align: top;\n",
       "    }\n",
       "\n",
       "    .dataframe thead th {\n",
       "        text-align: right;\n",
       "    }\n",
       "</style>\n",
       "<table border=\"1\" class=\"dataframe\">\n",
       "  <thead>\n",
       "    <tr style=\"text-align: right;\">\n",
       "      <th></th>\n",
       "      <th>messages_included</th>\n",
       "      <th>mb_per_month_included</th>\n",
       "      <th>minutes_included</th>\n",
       "      <th>rub_monthly_fee</th>\n",
       "      <th>rub_per_gb</th>\n",
       "      <th>rub_per_message</th>\n",
       "      <th>rub_per_minute</th>\n",
       "      <th>tariff_name</th>\n",
       "    </tr>\n",
       "  </thead>\n",
       "  <tbody>\n",
       "    <tr>\n",
       "      <th>0</th>\n",
       "      <td>50</td>\n",
       "      <td>15360</td>\n",
       "      <td>500</td>\n",
       "      <td>550</td>\n",
       "      <td>200</td>\n",
       "      <td>3</td>\n",
       "      <td>3</td>\n",
       "      <td>smart</td>\n",
       "    </tr>\n",
       "    <tr>\n",
       "      <th>1</th>\n",
       "      <td>1000</td>\n",
       "      <td>30720</td>\n",
       "      <td>3000</td>\n",
       "      <td>1950</td>\n",
       "      <td>150</td>\n",
       "      <td>1</td>\n",
       "      <td>1</td>\n",
       "      <td>ultra</td>\n",
       "    </tr>\n",
       "  </tbody>\n",
       "</table>\n",
       "</div>"
      ],
      "text/plain": [
       "   messages_included  mb_per_month_included  minutes_included  \\\n",
       "0                 50                  15360               500   \n",
       "1               1000                  30720              3000   \n",
       "\n",
       "   rub_monthly_fee  rub_per_gb  rub_per_message  rub_per_minute tariff_name  \n",
       "0              550         200                3               3       smart  \n",
       "1             1950         150                1               1       ultra  "
      ]
     },
     "metadata": {},
     "output_type": "display_data"
    },
    {
     "name": "stdout",
     "output_type": "stream",
     "text": [
      "<class 'pandas.core.frame.DataFrame'>\n",
      "RangeIndex: 2 entries, 0 to 1\n",
      "Data columns (total 8 columns):\n",
      " #   Column                 Non-Null Count  Dtype \n",
      "---  ------                 --------------  ----- \n",
      " 0   messages_included      2 non-null      int64 \n",
      " 1   mb_per_month_included  2 non-null      int64 \n",
      " 2   minutes_included       2 non-null      int64 \n",
      " 3   rub_monthly_fee        2 non-null      int64 \n",
      " 4   rub_per_gb             2 non-null      int64 \n",
      " 5   rub_per_message        2 non-null      int64 \n",
      " 6   rub_per_minute         2 non-null      int64 \n",
      " 7   tariff_name            2 non-null      object\n",
      "dtypes: int64(7), object(1)\n",
      "memory usage: 256.0+ bytes\n"
     ]
    }
   ],
   "source": [
    "tariffs = pd.read_csv('/datasets/tariffs.csv') \n",
    "display(tariffs.head(20))\n",
    "tariffs.info()\n",
    "#все столбцы в нужном формате"
   ]
  },
  {
   "cell_type": "code",
   "execution_count": 6,
   "metadata": {
    "scrolled": false
   },
   "outputs": [
    {
     "data": {
      "text/html": [
       "<div>\n",
       "<style scoped>\n",
       "    .dataframe tbody tr th:only-of-type {\n",
       "        vertical-align: middle;\n",
       "    }\n",
       "\n",
       "    .dataframe tbody tr th {\n",
       "        vertical-align: top;\n",
       "    }\n",
       "\n",
       "    .dataframe thead th {\n",
       "        text-align: right;\n",
       "    }\n",
       "</style>\n",
       "<table border=\"1\" class=\"dataframe\">\n",
       "  <thead>\n",
       "    <tr style=\"text-align: right;\">\n",
       "      <th></th>\n",
       "      <th>user_id</th>\n",
       "      <th>age</th>\n",
       "      <th>churn_date</th>\n",
       "      <th>city</th>\n",
       "      <th>first_name</th>\n",
       "      <th>last_name</th>\n",
       "      <th>reg_date</th>\n",
       "      <th>tariff</th>\n",
       "    </tr>\n",
       "  </thead>\n",
       "  <tbody>\n",
       "    <tr>\n",
       "      <th>0</th>\n",
       "      <td>1000</td>\n",
       "      <td>52</td>\n",
       "      <td>NaN</td>\n",
       "      <td>Краснодар</td>\n",
       "      <td>Рафаил</td>\n",
       "      <td>Верещагин</td>\n",
       "      <td>2018-05-25</td>\n",
       "      <td>ultra</td>\n",
       "    </tr>\n",
       "    <tr>\n",
       "      <th>1</th>\n",
       "      <td>1001</td>\n",
       "      <td>41</td>\n",
       "      <td>NaN</td>\n",
       "      <td>Москва</td>\n",
       "      <td>Иван</td>\n",
       "      <td>Ежов</td>\n",
       "      <td>2018-11-01</td>\n",
       "      <td>smart</td>\n",
       "    </tr>\n",
       "    <tr>\n",
       "      <th>2</th>\n",
       "      <td>1002</td>\n",
       "      <td>59</td>\n",
       "      <td>NaN</td>\n",
       "      <td>Стерлитамак</td>\n",
       "      <td>Евгений</td>\n",
       "      <td>Абрамович</td>\n",
       "      <td>2018-06-17</td>\n",
       "      <td>smart</td>\n",
       "    </tr>\n",
       "    <tr>\n",
       "      <th>3</th>\n",
       "      <td>1003</td>\n",
       "      <td>23</td>\n",
       "      <td>NaN</td>\n",
       "      <td>Москва</td>\n",
       "      <td>Белла</td>\n",
       "      <td>Белякова</td>\n",
       "      <td>2018-08-17</td>\n",
       "      <td>ultra</td>\n",
       "    </tr>\n",
       "    <tr>\n",
       "      <th>4</th>\n",
       "      <td>1004</td>\n",
       "      <td>68</td>\n",
       "      <td>NaN</td>\n",
       "      <td>Новокузнецк</td>\n",
       "      <td>Татьяна</td>\n",
       "      <td>Авдеенко</td>\n",
       "      <td>2018-05-14</td>\n",
       "      <td>ultra</td>\n",
       "    </tr>\n",
       "    <tr>\n",
       "      <th>5</th>\n",
       "      <td>1005</td>\n",
       "      <td>67</td>\n",
       "      <td>NaN</td>\n",
       "      <td>Набережные Челны</td>\n",
       "      <td>Афанасий</td>\n",
       "      <td>Горлов</td>\n",
       "      <td>2018-01-25</td>\n",
       "      <td>smart</td>\n",
       "    </tr>\n",
       "    <tr>\n",
       "      <th>6</th>\n",
       "      <td>1006</td>\n",
       "      <td>21</td>\n",
       "      <td>NaN</td>\n",
       "      <td>Ульяновск</td>\n",
       "      <td>Леонид</td>\n",
       "      <td>Ермолаев</td>\n",
       "      <td>2018-02-26</td>\n",
       "      <td>smart</td>\n",
       "    </tr>\n",
       "    <tr>\n",
       "      <th>7</th>\n",
       "      <td>1007</td>\n",
       "      <td>65</td>\n",
       "      <td>NaN</td>\n",
       "      <td>Москва</td>\n",
       "      <td>Юна</td>\n",
       "      <td>Березина</td>\n",
       "      <td>2018-04-19</td>\n",
       "      <td>smart</td>\n",
       "    </tr>\n",
       "    <tr>\n",
       "      <th>8</th>\n",
       "      <td>1008</td>\n",
       "      <td>63</td>\n",
       "      <td>NaN</td>\n",
       "      <td>Челябинск</td>\n",
       "      <td>Рустэм</td>\n",
       "      <td>Пономарёв</td>\n",
       "      <td>2018-12-19</td>\n",
       "      <td>smart</td>\n",
       "    </tr>\n",
       "    <tr>\n",
       "      <th>9</th>\n",
       "      <td>1009</td>\n",
       "      <td>24</td>\n",
       "      <td>NaN</td>\n",
       "      <td>Пермь</td>\n",
       "      <td>Василиса</td>\n",
       "      <td>Блинова</td>\n",
       "      <td>2018-03-22</td>\n",
       "      <td>smart</td>\n",
       "    </tr>\n",
       "    <tr>\n",
       "      <th>10</th>\n",
       "      <td>1010</td>\n",
       "      <td>26</td>\n",
       "      <td>NaN</td>\n",
       "      <td>Тюмень</td>\n",
       "      <td>Эдуард</td>\n",
       "      <td>Кононов</td>\n",
       "      <td>2018-08-05</td>\n",
       "      <td>smart</td>\n",
       "    </tr>\n",
       "    <tr>\n",
       "      <th>11</th>\n",
       "      <td>1011</td>\n",
       "      <td>44</td>\n",
       "      <td>NaN</td>\n",
       "      <td>Самара</td>\n",
       "      <td>Веселина</td>\n",
       "      <td>Алёшко</td>\n",
       "      <td>2018-03-19</td>\n",
       "      <td>smart</td>\n",
       "    </tr>\n",
       "    <tr>\n",
       "      <th>12</th>\n",
       "      <td>1012</td>\n",
       "      <td>38</td>\n",
       "      <td>NaN</td>\n",
       "      <td>Санкт-Петербург</td>\n",
       "      <td>Варлам</td>\n",
       "      <td>Соловьев</td>\n",
       "      <td>2018-03-28</td>\n",
       "      <td>smart</td>\n",
       "    </tr>\n",
       "    <tr>\n",
       "      <th>13</th>\n",
       "      <td>1013</td>\n",
       "      <td>36</td>\n",
       "      <td>NaN</td>\n",
       "      <td>Иваново</td>\n",
       "      <td>Борис</td>\n",
       "      <td>Андреенко</td>\n",
       "      <td>2018-11-14</td>\n",
       "      <td>ultra</td>\n",
       "    </tr>\n",
       "    <tr>\n",
       "      <th>14</th>\n",
       "      <td>1014</td>\n",
       "      <td>64</td>\n",
       "      <td>NaN</td>\n",
       "      <td>Чебоксары</td>\n",
       "      <td>Яков</td>\n",
       "      <td>Акинфьев</td>\n",
       "      <td>2018-05-15</td>\n",
       "      <td>smart</td>\n",
       "    </tr>\n",
       "    <tr>\n",
       "      <th>15</th>\n",
       "      <td>1015</td>\n",
       "      <td>26</td>\n",
       "      <td>NaN</td>\n",
       "      <td>Челябинск</td>\n",
       "      <td>Рузана</td>\n",
       "      <td>Алюшина</td>\n",
       "      <td>2018-04-30</td>\n",
       "      <td>smart</td>\n",
       "    </tr>\n",
       "    <tr>\n",
       "      <th>16</th>\n",
       "      <td>1016</td>\n",
       "      <td>58</td>\n",
       "      <td>NaN</td>\n",
       "      <td>Омск</td>\n",
       "      <td>Марица</td>\n",
       "      <td>Сазонова</td>\n",
       "      <td>2018-11-21</td>\n",
       "      <td>ultra</td>\n",
       "    </tr>\n",
       "    <tr>\n",
       "      <th>17</th>\n",
       "      <td>1017</td>\n",
       "      <td>73</td>\n",
       "      <td>NaN</td>\n",
       "      <td>Краснодар</td>\n",
       "      <td>Мария</td>\n",
       "      <td>Аленникова</td>\n",
       "      <td>2018-05-22</td>\n",
       "      <td>smart</td>\n",
       "    </tr>\n",
       "    <tr>\n",
       "      <th>18</th>\n",
       "      <td>1018</td>\n",
       "      <td>71</td>\n",
       "      <td>NaN</td>\n",
       "      <td>Уфа</td>\n",
       "      <td>Матвей</td>\n",
       "      <td>Золотов</td>\n",
       "      <td>2018-04-01</td>\n",
       "      <td>ultra</td>\n",
       "    </tr>\n",
       "    <tr>\n",
       "      <th>19</th>\n",
       "      <td>1019</td>\n",
       "      <td>63</td>\n",
       "      <td>2018-10-05</td>\n",
       "      <td>Томск</td>\n",
       "      <td>Игнатий</td>\n",
       "      <td>Круглов</td>\n",
       "      <td>2018-05-16</td>\n",
       "      <td>ultra</td>\n",
       "    </tr>\n",
       "  </tbody>\n",
       "</table>\n",
       "</div>"
      ],
      "text/plain": [
       "    user_id  age  churn_date              city first_name   last_name  \\\n",
       "0      1000   52         NaN         Краснодар     Рафаил   Верещагин   \n",
       "1      1001   41         NaN            Москва       Иван        Ежов   \n",
       "2      1002   59         NaN       Стерлитамак    Евгений   Абрамович   \n",
       "3      1003   23         NaN            Москва      Белла    Белякова   \n",
       "4      1004   68         NaN       Новокузнецк    Татьяна    Авдеенко   \n",
       "5      1005   67         NaN  Набережные Челны   Афанасий      Горлов   \n",
       "6      1006   21         NaN         Ульяновск     Леонид    Ермолаев   \n",
       "7      1007   65         NaN            Москва        Юна    Березина   \n",
       "8      1008   63         NaN         Челябинск     Рустэм   Пономарёв   \n",
       "9      1009   24         NaN             Пермь   Василиса     Блинова   \n",
       "10     1010   26         NaN            Тюмень     Эдуард     Кононов   \n",
       "11     1011   44         NaN            Самара   Веселина      Алёшко   \n",
       "12     1012   38         NaN   Санкт-Петербург     Варлам    Соловьев   \n",
       "13     1013   36         NaN           Иваново      Борис   Андреенко   \n",
       "14     1014   64         NaN         Чебоксары       Яков    Акинфьев   \n",
       "15     1015   26         NaN         Челябинск     Рузана     Алюшина   \n",
       "16     1016   58         NaN              Омск     Марица    Сазонова   \n",
       "17     1017   73         NaN         Краснодар      Мария  Аленникова   \n",
       "18     1018   71         NaN               Уфа     Матвей     Золотов   \n",
       "19     1019   63  2018-10-05             Томск    Игнатий     Круглов   \n",
       "\n",
       "      reg_date tariff  \n",
       "0   2018-05-25  ultra  \n",
       "1   2018-11-01  smart  \n",
       "2   2018-06-17  smart  \n",
       "3   2018-08-17  ultra  \n",
       "4   2018-05-14  ultra  \n",
       "5   2018-01-25  smart  \n",
       "6   2018-02-26  smart  \n",
       "7   2018-04-19  smart  \n",
       "8   2018-12-19  smart  \n",
       "9   2018-03-22  smart  \n",
       "10  2018-08-05  smart  \n",
       "11  2018-03-19  smart  \n",
       "12  2018-03-28  smart  \n",
       "13  2018-11-14  ultra  \n",
       "14  2018-05-15  smart  \n",
       "15  2018-04-30  smart  \n",
       "16  2018-11-21  ultra  \n",
       "17  2018-05-22  smart  \n",
       "18  2018-04-01  ultra  \n",
       "19  2018-05-16  ultra  "
      ]
     },
     "metadata": {},
     "output_type": "display_data"
    },
    {
     "name": "stdout",
     "output_type": "stream",
     "text": [
      "<class 'pandas.core.frame.DataFrame'>\n",
      "RangeIndex: 500 entries, 0 to 499\n",
      "Data columns (total 8 columns):\n",
      " #   Column      Non-Null Count  Dtype \n",
      "---  ------      --------------  ----- \n",
      " 0   user_id     500 non-null    int64 \n",
      " 1   age         500 non-null    int64 \n",
      " 2   churn_date  38 non-null     object\n",
      " 3   city        500 non-null    object\n",
      " 4   first_name  500 non-null    object\n",
      " 5   last_name   500 non-null    object\n",
      " 6   reg_date    500 non-null    object\n",
      " 7   tariff      500 non-null    object\n",
      "dtypes: int64(2), object(6)\n",
      "memory usage: 31.4+ KB\n"
     ]
    },
    {
     "data": {
      "text/html": [
       "<div>\n",
       "<style scoped>\n",
       "    .dataframe tbody tr th:only-of-type {\n",
       "        vertical-align: middle;\n",
       "    }\n",
       "\n",
       "    .dataframe tbody tr th {\n",
       "        vertical-align: top;\n",
       "    }\n",
       "\n",
       "    .dataframe thead th {\n",
       "        text-align: right;\n",
       "    }\n",
       "</style>\n",
       "<table border=\"1\" class=\"dataframe\">\n",
       "  <thead>\n",
       "    <tr style=\"text-align: right;\">\n",
       "      <th></th>\n",
       "      <th>user_id</th>\n",
       "      <th>age</th>\n",
       "      <th>churn_date</th>\n",
       "      <th>city</th>\n",
       "      <th>first_name</th>\n",
       "      <th>last_name</th>\n",
       "      <th>reg_date</th>\n",
       "      <th>tariff</th>\n",
       "    </tr>\n",
       "  </thead>\n",
       "  <tbody>\n",
       "    <tr>\n",
       "      <th>0</th>\n",
       "      <td>1000</td>\n",
       "      <td>52</td>\n",
       "      <td>NaT</td>\n",
       "      <td>Краснодар</td>\n",
       "      <td>Рафаил</td>\n",
       "      <td>Верещагин</td>\n",
       "      <td>2018-05-25</td>\n",
       "      <td>ultra</td>\n",
       "    </tr>\n",
       "    <tr>\n",
       "      <th>1</th>\n",
       "      <td>1001</td>\n",
       "      <td>41</td>\n",
       "      <td>NaT</td>\n",
       "      <td>Москва</td>\n",
       "      <td>Иван</td>\n",
       "      <td>Ежов</td>\n",
       "      <td>2018-11-01</td>\n",
       "      <td>smart</td>\n",
       "    </tr>\n",
       "    <tr>\n",
       "      <th>2</th>\n",
       "      <td>1002</td>\n",
       "      <td>59</td>\n",
       "      <td>NaT</td>\n",
       "      <td>Стерлитамак</td>\n",
       "      <td>Евгений</td>\n",
       "      <td>Абрамович</td>\n",
       "      <td>2018-06-17</td>\n",
       "      <td>smart</td>\n",
       "    </tr>\n",
       "    <tr>\n",
       "      <th>3</th>\n",
       "      <td>1003</td>\n",
       "      <td>23</td>\n",
       "      <td>NaT</td>\n",
       "      <td>Москва</td>\n",
       "      <td>Белла</td>\n",
       "      <td>Белякова</td>\n",
       "      <td>2018-08-17</td>\n",
       "      <td>ultra</td>\n",
       "    </tr>\n",
       "    <tr>\n",
       "      <th>4</th>\n",
       "      <td>1004</td>\n",
       "      <td>68</td>\n",
       "      <td>NaT</td>\n",
       "      <td>Новокузнецк</td>\n",
       "      <td>Татьяна</td>\n",
       "      <td>Авдеенко</td>\n",
       "      <td>2018-05-14</td>\n",
       "      <td>ultra</td>\n",
       "    </tr>\n",
       "    <tr>\n",
       "      <th>5</th>\n",
       "      <td>1005</td>\n",
       "      <td>67</td>\n",
       "      <td>NaT</td>\n",
       "      <td>Набережные Челны</td>\n",
       "      <td>Афанасий</td>\n",
       "      <td>Горлов</td>\n",
       "      <td>2018-01-25</td>\n",
       "      <td>smart</td>\n",
       "    </tr>\n",
       "    <tr>\n",
       "      <th>6</th>\n",
       "      <td>1006</td>\n",
       "      <td>21</td>\n",
       "      <td>NaT</td>\n",
       "      <td>Ульяновск</td>\n",
       "      <td>Леонид</td>\n",
       "      <td>Ермолаев</td>\n",
       "      <td>2018-02-26</td>\n",
       "      <td>smart</td>\n",
       "    </tr>\n",
       "    <tr>\n",
       "      <th>7</th>\n",
       "      <td>1007</td>\n",
       "      <td>65</td>\n",
       "      <td>NaT</td>\n",
       "      <td>Москва</td>\n",
       "      <td>Юна</td>\n",
       "      <td>Березина</td>\n",
       "      <td>2018-04-19</td>\n",
       "      <td>smart</td>\n",
       "    </tr>\n",
       "    <tr>\n",
       "      <th>8</th>\n",
       "      <td>1008</td>\n",
       "      <td>63</td>\n",
       "      <td>NaT</td>\n",
       "      <td>Челябинск</td>\n",
       "      <td>Рустэм</td>\n",
       "      <td>Пономарёв</td>\n",
       "      <td>2018-12-19</td>\n",
       "      <td>smart</td>\n",
       "    </tr>\n",
       "    <tr>\n",
       "      <th>9</th>\n",
       "      <td>1009</td>\n",
       "      <td>24</td>\n",
       "      <td>NaT</td>\n",
       "      <td>Пермь</td>\n",
       "      <td>Василиса</td>\n",
       "      <td>Блинова</td>\n",
       "      <td>2018-03-22</td>\n",
       "      <td>smart</td>\n",
       "    </tr>\n",
       "    <tr>\n",
       "      <th>10</th>\n",
       "      <td>1010</td>\n",
       "      <td>26</td>\n",
       "      <td>NaT</td>\n",
       "      <td>Тюмень</td>\n",
       "      <td>Эдуард</td>\n",
       "      <td>Кононов</td>\n",
       "      <td>2018-08-05</td>\n",
       "      <td>smart</td>\n",
       "    </tr>\n",
       "    <tr>\n",
       "      <th>11</th>\n",
       "      <td>1011</td>\n",
       "      <td>44</td>\n",
       "      <td>NaT</td>\n",
       "      <td>Самара</td>\n",
       "      <td>Веселина</td>\n",
       "      <td>Алёшко</td>\n",
       "      <td>2018-03-19</td>\n",
       "      <td>smart</td>\n",
       "    </tr>\n",
       "    <tr>\n",
       "      <th>12</th>\n",
       "      <td>1012</td>\n",
       "      <td>38</td>\n",
       "      <td>NaT</td>\n",
       "      <td>Санкт-Петербург</td>\n",
       "      <td>Варлам</td>\n",
       "      <td>Соловьев</td>\n",
       "      <td>2018-03-28</td>\n",
       "      <td>smart</td>\n",
       "    </tr>\n",
       "    <tr>\n",
       "      <th>13</th>\n",
       "      <td>1013</td>\n",
       "      <td>36</td>\n",
       "      <td>NaT</td>\n",
       "      <td>Иваново</td>\n",
       "      <td>Борис</td>\n",
       "      <td>Андреенко</td>\n",
       "      <td>2018-11-14</td>\n",
       "      <td>ultra</td>\n",
       "    </tr>\n",
       "    <tr>\n",
       "      <th>14</th>\n",
       "      <td>1014</td>\n",
       "      <td>64</td>\n",
       "      <td>NaT</td>\n",
       "      <td>Чебоксары</td>\n",
       "      <td>Яков</td>\n",
       "      <td>Акинфьев</td>\n",
       "      <td>2018-05-15</td>\n",
       "      <td>smart</td>\n",
       "    </tr>\n",
       "    <tr>\n",
       "      <th>15</th>\n",
       "      <td>1015</td>\n",
       "      <td>26</td>\n",
       "      <td>NaT</td>\n",
       "      <td>Челябинск</td>\n",
       "      <td>Рузана</td>\n",
       "      <td>Алюшина</td>\n",
       "      <td>2018-04-30</td>\n",
       "      <td>smart</td>\n",
       "    </tr>\n",
       "    <tr>\n",
       "      <th>16</th>\n",
       "      <td>1016</td>\n",
       "      <td>58</td>\n",
       "      <td>NaT</td>\n",
       "      <td>Омск</td>\n",
       "      <td>Марица</td>\n",
       "      <td>Сазонова</td>\n",
       "      <td>2018-11-21</td>\n",
       "      <td>ultra</td>\n",
       "    </tr>\n",
       "    <tr>\n",
       "      <th>17</th>\n",
       "      <td>1017</td>\n",
       "      <td>73</td>\n",
       "      <td>NaT</td>\n",
       "      <td>Краснодар</td>\n",
       "      <td>Мария</td>\n",
       "      <td>Аленникова</td>\n",
       "      <td>2018-05-22</td>\n",
       "      <td>smart</td>\n",
       "    </tr>\n",
       "    <tr>\n",
       "      <th>18</th>\n",
       "      <td>1018</td>\n",
       "      <td>71</td>\n",
       "      <td>NaT</td>\n",
       "      <td>Уфа</td>\n",
       "      <td>Матвей</td>\n",
       "      <td>Золотов</td>\n",
       "      <td>2018-04-01</td>\n",
       "      <td>ultra</td>\n",
       "    </tr>\n",
       "    <tr>\n",
       "      <th>19</th>\n",
       "      <td>1019</td>\n",
       "      <td>63</td>\n",
       "      <td>2018-10-05</td>\n",
       "      <td>Томск</td>\n",
       "      <td>Игнатий</td>\n",
       "      <td>Круглов</td>\n",
       "      <td>2018-05-16</td>\n",
       "      <td>ultra</td>\n",
       "    </tr>\n",
       "  </tbody>\n",
       "</table>\n",
       "</div>"
      ],
      "text/plain": [
       "    user_id  age churn_date              city first_name   last_name  \\\n",
       "0      1000   52        NaT         Краснодар     Рафаил   Верещагин   \n",
       "1      1001   41        NaT            Москва       Иван        Ежов   \n",
       "2      1002   59        NaT       Стерлитамак    Евгений   Абрамович   \n",
       "3      1003   23        NaT            Москва      Белла    Белякова   \n",
       "4      1004   68        NaT       Новокузнецк    Татьяна    Авдеенко   \n",
       "5      1005   67        NaT  Набережные Челны   Афанасий      Горлов   \n",
       "6      1006   21        NaT         Ульяновск     Леонид    Ермолаев   \n",
       "7      1007   65        NaT            Москва        Юна    Березина   \n",
       "8      1008   63        NaT         Челябинск     Рустэм   Пономарёв   \n",
       "9      1009   24        NaT             Пермь   Василиса     Блинова   \n",
       "10     1010   26        NaT            Тюмень     Эдуард     Кононов   \n",
       "11     1011   44        NaT            Самара   Веселина      Алёшко   \n",
       "12     1012   38        NaT   Санкт-Петербург     Варлам    Соловьев   \n",
       "13     1013   36        NaT           Иваново      Борис   Андреенко   \n",
       "14     1014   64        NaT         Чебоксары       Яков    Акинфьев   \n",
       "15     1015   26        NaT         Челябинск     Рузана     Алюшина   \n",
       "16     1016   58        NaT              Омск     Марица    Сазонова   \n",
       "17     1017   73        NaT         Краснодар      Мария  Аленникова   \n",
       "18     1018   71        NaT               Уфа     Матвей     Золотов   \n",
       "19     1019   63 2018-10-05             Томск    Игнатий     Круглов   \n",
       "\n",
       "     reg_date tariff  \n",
       "0  2018-05-25  ultra  \n",
       "1  2018-11-01  smart  \n",
       "2  2018-06-17  smart  \n",
       "3  2018-08-17  ultra  \n",
       "4  2018-05-14  ultra  \n",
       "5  2018-01-25  smart  \n",
       "6  2018-02-26  smart  \n",
       "7  2018-04-19  smart  \n",
       "8  2018-12-19  smart  \n",
       "9  2018-03-22  smart  \n",
       "10 2018-08-05  smart  \n",
       "11 2018-03-19  smart  \n",
       "12 2018-03-28  smart  \n",
       "13 2018-11-14  ultra  \n",
       "14 2018-05-15  smart  \n",
       "15 2018-04-30  smart  \n",
       "16 2018-11-21  ultra  \n",
       "17 2018-05-22  smart  \n",
       "18 2018-04-01  ultra  \n",
       "19 2018-05-16  ultra  "
      ]
     },
     "metadata": {},
     "output_type": "display_data"
    },
    {
     "name": "stdout",
     "output_type": "stream",
     "text": [
      "<class 'pandas.core.frame.DataFrame'>\n",
      "RangeIndex: 500 entries, 0 to 499\n",
      "Data columns (total 8 columns):\n",
      " #   Column      Non-Null Count  Dtype         \n",
      "---  ------      --------------  -----         \n",
      " 0   user_id     500 non-null    int64         \n",
      " 1   age         500 non-null    int64         \n",
      " 2   churn_date  38 non-null     datetime64[ns]\n",
      " 3   city        500 non-null    object        \n",
      " 4   first_name  500 non-null    object        \n",
      " 5   last_name   500 non-null    object        \n",
      " 6   reg_date    500 non-null    datetime64[ns]\n",
      " 7   tariff      500 non-null    object        \n",
      "dtypes: datetime64[ns](2), int64(2), object(4)\n",
      "memory usage: 31.4+ KB\n"
     ]
    },
    {
     "data": {
      "text/html": [
       "<div>\n",
       "<style scoped>\n",
       "    .dataframe tbody tr th:only-of-type {\n",
       "        vertical-align: middle;\n",
       "    }\n",
       "\n",
       "    .dataframe tbody tr th {\n",
       "        vertical-align: top;\n",
       "    }\n",
       "\n",
       "    .dataframe thead th {\n",
       "        text-align: right;\n",
       "    }\n",
       "</style>\n",
       "<table border=\"1\" class=\"dataframe\">\n",
       "  <thead>\n",
       "    <tr style=\"text-align: right;\">\n",
       "      <th></th>\n",
       "      <th>user_id</th>\n",
       "      <th>age</th>\n",
       "      <th>churn_date</th>\n",
       "      <th>city</th>\n",
       "      <th>first_name</th>\n",
       "      <th>last_name</th>\n",
       "      <th>reg_date</th>\n",
       "      <th>tariff</th>\n",
       "    </tr>\n",
       "  </thead>\n",
       "  <tbody>\n",
       "  </tbody>\n",
       "</table>\n",
       "</div>"
      ],
      "text/plain": [
       "Empty DataFrame\n",
       "Columns: [user_id, age, churn_date, city, first_name, last_name, reg_date, tariff]\n",
       "Index: []"
      ]
     },
     "metadata": {},
     "output_type": "display_data"
    },
    {
     "data": {
      "text/plain": [
       "0"
      ]
     },
     "metadata": {},
     "output_type": "display_data"
    },
    {
     "data": {
      "text/plain": [
       "user_id        0.0\n",
       "age            0.0\n",
       "churn_date    92.4\n",
       "city           0.0\n",
       "first_name     0.0\n",
       "last_name      0.0\n",
       "reg_date       0.0\n",
       "tariff         0.0\n",
       "dtype: float64"
      ]
     },
     "execution_count": 6,
     "metadata": {},
     "output_type": "execute_result"
    }
   ],
   "source": [
    "users = pd.read_csv('/datasets/users.csv') \n",
    "display(users.head(20))\n",
    "users.info()\n",
    "\n",
    "\n",
    "users['churn_date'] = pd.to_datetime(users['churn_date'])  # переводим в дату\n",
    "users['reg_date'] = pd.to_datetime(users['reg_date'])  # переводим в дату\n",
    "display(users.head(20))\n",
    "users.info()\n",
    "\n",
    "duplicated_users = users[users.duplicated(keep=False)].head(30)\n",
    "#проверяем на дубликаты дубликатов не обнаруженно\n",
    "display(duplicated_users) \n",
    "display(duplicated_users.duplicated().sum())\n",
    "\n",
    "\n",
    "round((users.isna().mean()*100),2)\n",
    "round((users.isnull().mean()*100),2)\n",
    "#проверить на isna() или isnull()\n",
    "\n"
   ]
  },
  {
   "cell_type": "code",
   "execution_count": 7,
   "metadata": {},
   "outputs": [
    {
     "data": {
      "text/plain": [
       "user_id       149\n",
       "age           149\n",
       "churn_date     15\n",
       "city          149\n",
       "first_name    149\n",
       "last_name     149\n",
       "reg_date      149\n",
       "tariff        149\n",
       "dtype: int64"
      ]
     },
     "metadata": {},
     "output_type": "display_data"
    },
    {
     "data": {
      "text/plain": [
       "user_id       351\n",
       "age           351\n",
       "churn_date     23\n",
       "city          351\n",
       "first_name    351\n",
       "last_name     351\n",
       "reg_date      351\n",
       "tariff        351\n",
       "dtype: int64"
      ]
     },
     "metadata": {},
     "output_type": "display_data"
    }
   ],
   "source": [
    "display(users.query('tariff == \"ultra\"').count()) #итого 149 человека в выборке на тарифе ультра \n",
    "display(users.query('tariff == \"smart\"').count()) #итого 351 человека в выборке на тарифе смарт "
   ]
  },
  {
   "cell_type": "code",
   "execution_count": 8,
   "metadata": {},
   "outputs": [
    {
     "data": {
      "text/plain": [
       "array(['ultra', 'smart'], dtype=object)"
      ]
     },
     "metadata": {},
     "output_type": "display_data"
    },
    {
     "data": {
      "text/plain": [
       "array(['Краснодар', 'Москва', 'Стерлитамак', 'Новокузнецк',\n",
       "       'Набережные Челны', 'Ульяновск', 'Челябинск', 'Пермь', 'Тюмень',\n",
       "       'Самара', 'Санкт-Петербург', 'Иваново', 'Чебоксары', 'Омск', 'Уфа',\n",
       "       'Томск', 'Чита', 'Мурманск', 'Петрозаводск', 'Тверь',\n",
       "       'Екатеринбург', 'Махачкала', 'Вологда', 'Череповец', 'Ярославль',\n",
       "       'Сочи', 'Хабаровск', 'Ставрополь', 'Рязань', 'Улан-Удэ', 'Тула',\n",
       "       'Саратов', 'Ростов-на-Дону', 'Казань', 'Иркутск', 'Курск',\n",
       "       'Калуга', 'Якутск', 'Астрахань', 'Химки', 'Владикавказ',\n",
       "       'Волгоград', 'Саранск', 'Ижевск', 'Новосибирск', 'Брянск',\n",
       "       'Тольятти', 'Нижний Тагил', 'Орёл', 'Белгород', 'Воронеж',\n",
       "       'Волжский', 'Курган', 'Барнаул', 'Красноярск', 'Архангельск',\n",
       "       'Липецк', 'Кемерово', 'Киров', 'Сургут', 'Пенза', 'Магнитогорск',\n",
       "       'Нижний Новгород', 'Кострома', 'Владивосток', 'Тамбов', 'Балашиха',\n",
       "       'Севастополь', 'Калининград', 'Оренбург', 'Смоленск',\n",
       "       'Нижневартовск', 'Владимир', 'Новороссийск', 'Грозный', 'Подольск'],\n",
       "      dtype=object)"
      ]
     },
     "metadata": {},
     "output_type": "display_data"
    },
    {
     "data": {
      "text/html": [
       "<div>\n",
       "<style scoped>\n",
       "    .dataframe tbody tr th:only-of-type {\n",
       "        vertical-align: middle;\n",
       "    }\n",
       "\n",
       "    .dataframe tbody tr th {\n",
       "        vertical-align: top;\n",
       "    }\n",
       "\n",
       "    .dataframe thead th {\n",
       "        text-align: right;\n",
       "    }\n",
       "</style>\n",
       "<table border=\"1\" class=\"dataframe\">\n",
       "  <thead>\n",
       "    <tr style=\"text-align: right;\">\n",
       "      <th></th>\n",
       "      <th>tariff</th>\n",
       "    </tr>\n",
       "    <tr>\n",
       "      <th>city</th>\n",
       "      <th></th>\n",
       "    </tr>\n",
       "  </thead>\n",
       "  <tbody>\n",
       "    <tr>\n",
       "      <th>Архангельск</th>\n",
       "      <td>1</td>\n",
       "    </tr>\n",
       "    <tr>\n",
       "      <th>Астрахань</th>\n",
       "      <td>4</td>\n",
       "    </tr>\n",
       "    <tr>\n",
       "      <th>Балашиха</th>\n",
       "      <td>5</td>\n",
       "    </tr>\n",
       "    <tr>\n",
       "      <th>Барнаул</th>\n",
       "      <td>3</td>\n",
       "    </tr>\n",
       "    <tr>\n",
       "      <th>Белгород</th>\n",
       "      <td>2</td>\n",
       "    </tr>\n",
       "    <tr>\n",
       "      <th>...</th>\n",
       "      <td>...</td>\n",
       "    </tr>\n",
       "    <tr>\n",
       "      <th>Челябинск</th>\n",
       "      <td>9</td>\n",
       "    </tr>\n",
       "    <tr>\n",
       "      <th>Череповец</th>\n",
       "      <td>3</td>\n",
       "    </tr>\n",
       "    <tr>\n",
       "      <th>Чита</th>\n",
       "      <td>4</td>\n",
       "    </tr>\n",
       "    <tr>\n",
       "      <th>Якутск</th>\n",
       "      <td>3</td>\n",
       "    </tr>\n",
       "    <tr>\n",
       "      <th>Ярославль</th>\n",
       "      <td>3</td>\n",
       "    </tr>\n",
       "  </tbody>\n",
       "</table>\n",
       "<p>76 rows × 1 columns</p>\n",
       "</div>"
      ],
      "text/plain": [
       "             tariff\n",
       "city               \n",
       "Архангельск       1\n",
       "Астрахань         4\n",
       "Балашиха          5\n",
       "Барнаул           3\n",
       "Белгород          2\n",
       "...             ...\n",
       "Челябинск         9\n",
       "Череповец         3\n",
       "Чита              4\n",
       "Якутск            3\n",
       "Ярославль         3\n",
       "\n",
       "[76 rows x 1 columns]"
      ]
     },
     "metadata": {},
     "output_type": "display_data"
    }
   ],
   "source": [
    "display(users['tariff'].unique())#проверим что нет по два тарифа у одного пользователя\n",
    "display(users['city'].unique())#проверим написание городов\n",
    "\n",
    "display(users.groupby(['city']).agg({'tariff': 'count'}).sort_values(by = ['city'], ascending = True).head(76))"
   ]
  },
  {
   "cell_type": "code",
   "execution_count": 9,
   "metadata": {},
   "outputs": [
    {
     "data": {
      "text/plain": [
       "Timestamp('2018-12-30 00:00:00')"
      ]
     },
     "metadata": {},
     "output_type": "display_data"
    },
    {
     "data": {
      "text/plain": [
       "user_id       0.0\n",
       "age           0.0\n",
       "churn_date    0.0\n",
       "city          0.0\n",
       "first_name    0.0\n",
       "last_name     0.0\n",
       "reg_date      0.0\n",
       "tariff        0.0\n",
       "dtype: float64"
      ]
     },
     "execution_count": 9,
     "metadata": {},
     "output_type": "execute_result"
    }
   ],
   "source": [
    "display(users['churn_date'].max()) #т.к. пропуски это те что действовали на момент выгрузки значит заменим самой поздней датой\n",
    "users['churn_date'] = users['churn_date'].fillna(users['churn_date'].max()) \n",
    "\n",
    "round((users.isna().mean()*100),2)\n",
    "round((users.isnull().mean()*100),2)"
   ]
  },
  {
   "cell_type": "code",
   "execution_count": 10,
   "metadata": {},
   "outputs": [
    {
     "data": {
      "text/html": [
       "<div>\n",
       "<style scoped>\n",
       "    .dataframe tbody tr th:only-of-type {\n",
       "        vertical-align: middle;\n",
       "    }\n",
       "\n",
       "    .dataframe tbody tr th {\n",
       "        vertical-align: top;\n",
       "    }\n",
       "\n",
       "    .dataframe thead th {\n",
       "        text-align: right;\n",
       "    }\n",
       "</style>\n",
       "<table border=\"1\" class=\"dataframe\">\n",
       "  <thead>\n",
       "    <tr style=\"text-align: right;\">\n",
       "      <th></th>\n",
       "      <th>month</th>\n",
       "      <th>user_id</th>\n",
       "      <th>calls_count</th>\n",
       "      <th>calls_sum</th>\n",
       "    </tr>\n",
       "  </thead>\n",
       "  <tbody>\n",
       "    <tr>\n",
       "      <th>0</th>\n",
       "      <td>5</td>\n",
       "      <td>1000</td>\n",
       "      <td>22</td>\n",
       "      <td>159.0</td>\n",
       "    </tr>\n",
       "    <tr>\n",
       "      <th>1</th>\n",
       "      <td>6</td>\n",
       "      <td>1000</td>\n",
       "      <td>43</td>\n",
       "      <td>172.0</td>\n",
       "    </tr>\n",
       "    <tr>\n",
       "      <th>2</th>\n",
       "      <td>7</td>\n",
       "      <td>1000</td>\n",
       "      <td>47</td>\n",
       "      <td>340.0</td>\n",
       "    </tr>\n",
       "    <tr>\n",
       "      <th>3</th>\n",
       "      <td>8</td>\n",
       "      <td>1000</td>\n",
       "      <td>52</td>\n",
       "      <td>408.0</td>\n",
       "    </tr>\n",
       "    <tr>\n",
       "      <th>4</th>\n",
       "      <td>9</td>\n",
       "      <td>1000</td>\n",
       "      <td>58</td>\n",
       "      <td>466.0</td>\n",
       "    </tr>\n",
       "    <tr>\n",
       "      <th>...</th>\n",
       "      <td>...</td>\n",
       "      <td>...</td>\n",
       "      <td>...</td>\n",
       "      <td>...</td>\n",
       "    </tr>\n",
       "    <tr>\n",
       "      <th>3169</th>\n",
       "      <td>10</td>\n",
       "      <td>1498</td>\n",
       "      <td>41</td>\n",
       "      <td>247.0</td>\n",
       "    </tr>\n",
       "    <tr>\n",
       "      <th>3170</th>\n",
       "      <td>9</td>\n",
       "      <td>1499</td>\n",
       "      <td>9</td>\n",
       "      <td>70.0</td>\n",
       "    </tr>\n",
       "    <tr>\n",
       "      <th>3171</th>\n",
       "      <td>10</td>\n",
       "      <td>1499</td>\n",
       "      <td>68</td>\n",
       "      <td>449.0</td>\n",
       "    </tr>\n",
       "    <tr>\n",
       "      <th>3172</th>\n",
       "      <td>11</td>\n",
       "      <td>1499</td>\n",
       "      <td>74</td>\n",
       "      <td>612.0</td>\n",
       "    </tr>\n",
       "    <tr>\n",
       "      <th>3173</th>\n",
       "      <td>12</td>\n",
       "      <td>1499</td>\n",
       "      <td>69</td>\n",
       "      <td>492.0</td>\n",
       "    </tr>\n",
       "  </tbody>\n",
       "</table>\n",
       "<p>3174 rows × 4 columns</p>\n",
       "</div>"
      ],
      "text/plain": [
       "      month  user_id  calls_count  calls_sum\n",
       "0         5     1000           22      159.0\n",
       "1         6     1000           43      172.0\n",
       "2         7     1000           47      340.0\n",
       "3         8     1000           52      408.0\n",
       "4         9     1000           58      466.0\n",
       "...     ...      ...          ...        ...\n",
       "3169     10     1498           41      247.0\n",
       "3170      9     1499            9       70.0\n",
       "3171     10     1499           68      449.0\n",
       "3172     11     1499           74      612.0\n",
       "3173     12     1499           69      492.0\n",
       "\n",
       "[3174 rows x 4 columns]"
      ]
     },
     "metadata": {},
     "output_type": "display_data"
    }
   ],
   "source": [
    "calls['month'] = calls['call_date'].dt.month \n",
    "#ВЫДЕЛИТЬ МЕСЯЦ ИЗ ДАТЫ\n",
    "\n",
    "calls_group = calls.groupby(['month','user_id']).agg({'call_date': 'count', 'duration': 'sum'}).sort_values(by = ['user_id','month'], ascending = True)\n",
    "calls_group.columns = ['calls_count', 'calls_sum']\n",
    "calls_group = calls_group.reset_index() \n",
    "#display(calls_group)\n",
    "\n",
    "#call_date — дата звонка\n",
    "#duration — длительность звонка в минутах\n",
    "#user_id — идентификатор пользователя, сделавшего звонок\n",
    "#для каждого пользователя: количество сделанных звонков и израсходованных минут разговора по месяцам; \n",
    "#Каждый звонок округляется отдельно: даже если он длился всего 1 секунду, будет засчитан как 1 минута.\n",
    "\n",
    "#отбрасываем хвост округляем делаем целое потом считаем что любая лишняя секунда считаеться за использованную минуту\n",
    "#calls_group['calls_sum2'] = calls_group['calls_sum'] -(calls_group['calls_sum'].astype('int')) \n",
    "#\n",
    "#def calls_sum2_1(row):\n",
    "#\n",
    " #   income = row['calls_sum2']\n",
    "  #  if income <= 0:\n",
    "   #     return 0  \n",
    "    #if income > 0:\n",
    "     #   return 1\n",
    "   \n",
    "        \n",
    "#calls_group['calls_sum2'] = calls_group.apply(calls_sum2_1, axis=1)\n",
    "\n",
    "#calls_group['calls_sum'] = (calls_group['calls_sum'].astype('int')) + calls_group['calls_sum2']\n",
    "calls_group = calls_group.loc[:, ['month','user_id','calls_count','calls_sum']]\n",
    "display(calls_group)"
   ]
  },
  {
   "cell_type": "code",
   "execution_count": 11,
   "metadata": {},
   "outputs": [
    {
     "data": {
      "text/html": [
       "<div>\n",
       "<style scoped>\n",
       "    .dataframe tbody tr th:only-of-type {\n",
       "        vertical-align: middle;\n",
       "    }\n",
       "\n",
       "    .dataframe tbody tr th {\n",
       "        vertical-align: top;\n",
       "    }\n",
       "\n",
       "    .dataframe thead th {\n",
       "        text-align: right;\n",
       "    }\n",
       "</style>\n",
       "<table border=\"1\" class=\"dataframe\">\n",
       "  <thead>\n",
       "    <tr style=\"text-align: right;\">\n",
       "      <th>month</th>\n",
       "      <th>1</th>\n",
       "      <th>2</th>\n",
       "      <th>3</th>\n",
       "      <th>4</th>\n",
       "      <th>5</th>\n",
       "      <th>6</th>\n",
       "      <th>7</th>\n",
       "      <th>8</th>\n",
       "      <th>9</th>\n",
       "      <th>10</th>\n",
       "      <th>11</th>\n",
       "      <th>12</th>\n",
       "    </tr>\n",
       "    <tr>\n",
       "      <th>user_id</th>\n",
       "      <th></th>\n",
       "      <th></th>\n",
       "      <th></th>\n",
       "      <th></th>\n",
       "      <th></th>\n",
       "      <th></th>\n",
       "      <th></th>\n",
       "      <th></th>\n",
       "      <th></th>\n",
       "      <th></th>\n",
       "      <th></th>\n",
       "      <th></th>\n",
       "    </tr>\n",
       "  </thead>\n",
       "  <tbody>\n",
       "    <tr>\n",
       "      <th>1000</th>\n",
       "      <td>NaN</td>\n",
       "      <td>NaN</td>\n",
       "      <td>NaN</td>\n",
       "      <td>NaN</td>\n",
       "      <td>159.0</td>\n",
       "      <td>172.0</td>\n",
       "      <td>340.0</td>\n",
       "      <td>408.0</td>\n",
       "      <td>466.0</td>\n",
       "      <td>350.0</td>\n",
       "      <td>338.0</td>\n",
       "      <td>333.0</td>\n",
       "    </tr>\n",
       "    <tr>\n",
       "      <th>1001</th>\n",
       "      <td>NaN</td>\n",
       "      <td>NaN</td>\n",
       "      <td>NaN</td>\n",
       "      <td>NaN</td>\n",
       "      <td>NaN</td>\n",
       "      <td>NaN</td>\n",
       "      <td>NaN</td>\n",
       "      <td>NaN</td>\n",
       "      <td>NaN</td>\n",
       "      <td>NaN</td>\n",
       "      <td>430.0</td>\n",
       "      <td>414.0</td>\n",
       "    </tr>\n",
       "    <tr>\n",
       "      <th>1002</th>\n",
       "      <td>NaN</td>\n",
       "      <td>NaN</td>\n",
       "      <td>NaN</td>\n",
       "      <td>NaN</td>\n",
       "      <td>NaN</td>\n",
       "      <td>117.0</td>\n",
       "      <td>214.0</td>\n",
       "      <td>289.0</td>\n",
       "      <td>206.0</td>\n",
       "      <td>212.0</td>\n",
       "      <td>243.0</td>\n",
       "      <td>236.0</td>\n",
       "    </tr>\n",
       "    <tr>\n",
       "      <th>1003</th>\n",
       "      <td>NaN</td>\n",
       "      <td>NaN</td>\n",
       "      <td>NaN</td>\n",
       "      <td>NaN</td>\n",
       "      <td>NaN</td>\n",
       "      <td>NaN</td>\n",
       "      <td>NaN</td>\n",
       "      <td>380.0</td>\n",
       "      <td>961.0</td>\n",
       "      <td>855.0</td>\n",
       "      <td>824.0</td>\n",
       "      <td>802.0</td>\n",
       "    </tr>\n",
       "    <tr>\n",
       "      <th>1004</th>\n",
       "      <td>NaN</td>\n",
       "      <td>NaN</td>\n",
       "      <td>NaN</td>\n",
       "      <td>NaN</td>\n",
       "      <td>35.0</td>\n",
       "      <td>171.0</td>\n",
       "      <td>135.0</td>\n",
       "      <td>137.0</td>\n",
       "      <td>117.0</td>\n",
       "      <td>145.0</td>\n",
       "      <td>117.0</td>\n",
       "      <td>130.0</td>\n",
       "    </tr>\n",
       "    <tr>\n",
       "      <th>...</th>\n",
       "      <td>...</td>\n",
       "      <td>...</td>\n",
       "      <td>...</td>\n",
       "      <td>...</td>\n",
       "      <td>...</td>\n",
       "      <td>...</td>\n",
       "      <td>...</td>\n",
       "      <td>...</td>\n",
       "      <td>...</td>\n",
       "      <td>...</td>\n",
       "      <td>...</td>\n",
       "      <td>...</td>\n",
       "    </tr>\n",
       "    <tr>\n",
       "      <th>1495</th>\n",
       "      <td>NaN</td>\n",
       "      <td>NaN</td>\n",
       "      <td>NaN</td>\n",
       "      <td>NaN</td>\n",
       "      <td>NaN</td>\n",
       "      <td>NaN</td>\n",
       "      <td>NaN</td>\n",
       "      <td>92.0</td>\n",
       "      <td>813.0</td>\n",
       "      <td>1030.0</td>\n",
       "      <td>954.0</td>\n",
       "      <td>1031.0</td>\n",
       "    </tr>\n",
       "    <tr>\n",
       "      <th>1496</th>\n",
       "      <td>48.0</td>\n",
       "      <td>594.0</td>\n",
       "      <td>557.0</td>\n",
       "      <td>521.0</td>\n",
       "      <td>484.0</td>\n",
       "      <td>555.0</td>\n",
       "      <td>582.0</td>\n",
       "      <td>527.0</td>\n",
       "      <td>486.0</td>\n",
       "      <td>450.0</td>\n",
       "      <td>662.0</td>\n",
       "      <td>518.0</td>\n",
       "    </tr>\n",
       "    <tr>\n",
       "      <th>1497</th>\n",
       "      <td>NaN</td>\n",
       "      <td>NaN</td>\n",
       "      <td>NaN</td>\n",
       "      <td>NaN</td>\n",
       "      <td>NaN</td>\n",
       "      <td>NaN</td>\n",
       "      <td>NaN</td>\n",
       "      <td>NaN</td>\n",
       "      <td>NaN</td>\n",
       "      <td>490.0</td>\n",
       "      <td>371.0</td>\n",
       "      <td>545.0</td>\n",
       "    </tr>\n",
       "    <tr>\n",
       "      <th>1498</th>\n",
       "      <td>NaN</td>\n",
       "      <td>NaN</td>\n",
       "      <td>NaN</td>\n",
       "      <td>NaN</td>\n",
       "      <td>NaN</td>\n",
       "      <td>NaN</td>\n",
       "      <td>175.0</td>\n",
       "      <td>400.0</td>\n",
       "      <td>471.0</td>\n",
       "      <td>247.0</td>\n",
       "      <td>NaN</td>\n",
       "      <td>NaN</td>\n",
       "    </tr>\n",
       "    <tr>\n",
       "      <th>1499</th>\n",
       "      <td>NaN</td>\n",
       "      <td>NaN</td>\n",
       "      <td>NaN</td>\n",
       "      <td>NaN</td>\n",
       "      <td>NaN</td>\n",
       "      <td>NaN</td>\n",
       "      <td>NaN</td>\n",
       "      <td>NaN</td>\n",
       "      <td>70.0</td>\n",
       "      <td>449.0</td>\n",
       "      <td>612.0</td>\n",
       "      <td>492.0</td>\n",
       "    </tr>\n",
       "  </tbody>\n",
       "</table>\n",
       "<p>492 rows × 12 columns</p>\n",
       "</div>"
      ],
      "text/plain": [
       "month      1      2      3      4      5      6      7      8      9       10  \\\n",
       "user_id                                                                         \n",
       "1000      NaN    NaN    NaN    NaN  159.0  172.0  340.0  408.0  466.0   350.0   \n",
       "1001      NaN    NaN    NaN    NaN    NaN    NaN    NaN    NaN    NaN     NaN   \n",
       "1002      NaN    NaN    NaN    NaN    NaN  117.0  214.0  289.0  206.0   212.0   \n",
       "1003      NaN    NaN    NaN    NaN    NaN    NaN    NaN  380.0  961.0   855.0   \n",
       "1004      NaN    NaN    NaN    NaN   35.0  171.0  135.0  137.0  117.0   145.0   \n",
       "...       ...    ...    ...    ...    ...    ...    ...    ...    ...     ...   \n",
       "1495      NaN    NaN    NaN    NaN    NaN    NaN    NaN   92.0  813.0  1030.0   \n",
       "1496     48.0  594.0  557.0  521.0  484.0  555.0  582.0  527.0  486.0   450.0   \n",
       "1497      NaN    NaN    NaN    NaN    NaN    NaN    NaN    NaN    NaN   490.0   \n",
       "1498      NaN    NaN    NaN    NaN    NaN    NaN  175.0  400.0  471.0   247.0   \n",
       "1499      NaN    NaN    NaN    NaN    NaN    NaN    NaN    NaN   70.0   449.0   \n",
       "\n",
       "month       11      12  \n",
       "user_id                 \n",
       "1000     338.0   333.0  \n",
       "1001     430.0   414.0  \n",
       "1002     243.0   236.0  \n",
       "1003     824.0   802.0  \n",
       "1004     117.0   130.0  \n",
       "...        ...     ...  \n",
       "1495     954.0  1031.0  \n",
       "1496     662.0   518.0  \n",
       "1497     371.0   545.0  \n",
       "1498       NaN     NaN  \n",
       "1499     612.0   492.0  \n",
       "\n",
       "[492 rows x 12 columns]"
      ]
     },
     "metadata": {},
     "output_type": "display_data"
    }
   ],
   "source": [
    "calls_group_pivot = calls_group.pivot_table(index = 'user_id',  columns = 'month', values = 'calls_sum', aggfunc = 'sum')\n",
    "display(calls_group_pivot)\n",
    "#calls_group_pivot.T.plot(grid=True, figsize=(15, 10), xticks=list(calls_group_pivot.columns.values))\n",
    "#plt.title('Звонки по месяцам')\n",
    "#plt.ylabel('$')\n",
    "#plt.xlabel('Месяца')\n",
    "#plt.show()"
   ]
  },
  {
   "cell_type": "code",
   "execution_count": 12,
   "metadata": {},
   "outputs": [
    {
     "data": {
      "text/html": [
       "<div>\n",
       "<style scoped>\n",
       "    .dataframe tbody tr th:only-of-type {\n",
       "        vertical-align: middle;\n",
       "    }\n",
       "\n",
       "    .dataframe tbody tr th {\n",
       "        vertical-align: top;\n",
       "    }\n",
       "\n",
       "    .dataframe thead th {\n",
       "        text-align: right;\n",
       "    }\n",
       "</style>\n",
       "<table border=\"1\" class=\"dataframe\">\n",
       "  <thead>\n",
       "    <tr style=\"text-align: right;\">\n",
       "      <th></th>\n",
       "      <th>month</th>\n",
       "      <th>user_id</th>\n",
       "      <th>messages_count</th>\n",
       "    </tr>\n",
       "  </thead>\n",
       "  <tbody>\n",
       "    <tr>\n",
       "      <th>0</th>\n",
       "      <td>5</td>\n",
       "      <td>1000</td>\n",
       "      <td>22</td>\n",
       "    </tr>\n",
       "    <tr>\n",
       "      <th>1</th>\n",
       "      <td>6</td>\n",
       "      <td>1000</td>\n",
       "      <td>60</td>\n",
       "    </tr>\n",
       "    <tr>\n",
       "      <th>2</th>\n",
       "      <td>7</td>\n",
       "      <td>1000</td>\n",
       "      <td>75</td>\n",
       "    </tr>\n",
       "    <tr>\n",
       "      <th>3</th>\n",
       "      <td>8</td>\n",
       "      <td>1000</td>\n",
       "      <td>81</td>\n",
       "    </tr>\n",
       "    <tr>\n",
       "      <th>4</th>\n",
       "      <td>9</td>\n",
       "      <td>1000</td>\n",
       "      <td>57</td>\n",
       "    </tr>\n",
       "    <tr>\n",
       "      <th>...</th>\n",
       "      <td>...</td>\n",
       "      <td>...</td>\n",
       "      <td>...</td>\n",
       "    </tr>\n",
       "    <tr>\n",
       "      <th>2712</th>\n",
       "      <td>10</td>\n",
       "      <td>1498</td>\n",
       "      <td>42</td>\n",
       "    </tr>\n",
       "    <tr>\n",
       "      <th>2713</th>\n",
       "      <td>9</td>\n",
       "      <td>1499</td>\n",
       "      <td>11</td>\n",
       "    </tr>\n",
       "    <tr>\n",
       "      <th>2714</th>\n",
       "      <td>10</td>\n",
       "      <td>1499</td>\n",
       "      <td>48</td>\n",
       "    </tr>\n",
       "    <tr>\n",
       "      <th>2715</th>\n",
       "      <td>11</td>\n",
       "      <td>1499</td>\n",
       "      <td>59</td>\n",
       "    </tr>\n",
       "    <tr>\n",
       "      <th>2716</th>\n",
       "      <td>12</td>\n",
       "      <td>1499</td>\n",
       "      <td>66</td>\n",
       "    </tr>\n",
       "  </tbody>\n",
       "</table>\n",
       "<p>2717 rows × 3 columns</p>\n",
       "</div>"
      ],
      "text/plain": [
       "      month  user_id  messages_count\n",
       "0         5     1000              22\n",
       "1         6     1000              60\n",
       "2         7     1000              75\n",
       "3         8     1000              81\n",
       "4         9     1000              57\n",
       "...     ...      ...             ...\n",
       "2712     10     1498              42\n",
       "2713      9     1499              11\n",
       "2714     10     1499              48\n",
       "2715     11     1499              59\n",
       "2716     12     1499              66\n",
       "\n",
       "[2717 rows x 3 columns]"
      ]
     },
     "metadata": {},
     "output_type": "display_data"
    }
   ],
   "source": [
    "messages['month'] = messages['message_date'].dt.month \n",
    "#ВЫДЕЛИТЬ МЕСЯЦ ИЗ ДАТЫ\n",
    "\n",
    "messages_group = messages.groupby(['month','user_id']).agg({'id': 'count'}).sort_values(by = ['user_id','month'], ascending = True)\n",
    "messages_group.columns = ['messages_count']\n",
    "messages_group = messages_group.reset_index() \n",
    "display(messages_group)\n",
    "\n",
    "#id — уникальный номер сообщения\n",
    "#message_date — дата сообщения\n",
    "#user_id — идентификатор пользователя, отправившего сообщение\n",
    "#для каждого пользователя: количество отправленных сообщений по месяцам; "
   ]
  },
  {
   "cell_type": "code",
   "execution_count": 13,
   "metadata": {},
   "outputs": [
    {
     "data": {
      "text/html": [
       "<div>\n",
       "<style scoped>\n",
       "    .dataframe tbody tr th:only-of-type {\n",
       "        vertical-align: middle;\n",
       "    }\n",
       "\n",
       "    .dataframe tbody tr th {\n",
       "        vertical-align: top;\n",
       "    }\n",
       "\n",
       "    .dataframe thead th {\n",
       "        text-align: right;\n",
       "    }\n",
       "</style>\n",
       "<table border=\"1\" class=\"dataframe\">\n",
       "  <thead>\n",
       "    <tr style=\"text-align: right;\">\n",
       "      <th></th>\n",
       "      <th>month</th>\n",
       "      <th>user_id</th>\n",
       "      <th>internet_sum</th>\n",
       "    </tr>\n",
       "  </thead>\n",
       "  <tbody>\n",
       "    <tr>\n",
       "      <th>0</th>\n",
       "      <td>5</td>\n",
       "      <td>1000</td>\n",
       "      <td>3</td>\n",
       "    </tr>\n",
       "    <tr>\n",
       "      <th>1</th>\n",
       "      <td>6</td>\n",
       "      <td>1000</td>\n",
       "      <td>23</td>\n",
       "    </tr>\n",
       "    <tr>\n",
       "      <th>2</th>\n",
       "      <td>7</td>\n",
       "      <td>1000</td>\n",
       "      <td>14</td>\n",
       "    </tr>\n",
       "    <tr>\n",
       "      <th>3</th>\n",
       "      <td>8</td>\n",
       "      <td>1000</td>\n",
       "      <td>14</td>\n",
       "    </tr>\n",
       "    <tr>\n",
       "      <th>4</th>\n",
       "      <td>9</td>\n",
       "      <td>1000</td>\n",
       "      <td>15</td>\n",
       "    </tr>\n",
       "    <tr>\n",
       "      <th>...</th>\n",
       "      <td>...</td>\n",
       "      <td>...</td>\n",
       "      <td>...</td>\n",
       "    </tr>\n",
       "    <tr>\n",
       "      <th>3198</th>\n",
       "      <td>10</td>\n",
       "      <td>1498</td>\n",
       "      <td>21</td>\n",
       "    </tr>\n",
       "    <tr>\n",
       "      <th>3199</th>\n",
       "      <td>9</td>\n",
       "      <td>1499</td>\n",
       "      <td>2</td>\n",
       "    </tr>\n",
       "    <tr>\n",
       "      <th>3200</th>\n",
       "      <td>10</td>\n",
       "      <td>1499</td>\n",
       "      <td>18</td>\n",
       "    </tr>\n",
       "    <tr>\n",
       "      <th>3201</th>\n",
       "      <td>11</td>\n",
       "      <td>1499</td>\n",
       "      <td>18</td>\n",
       "    </tr>\n",
       "    <tr>\n",
       "      <th>3202</th>\n",
       "      <td>12</td>\n",
       "      <td>1499</td>\n",
       "      <td>13</td>\n",
       "    </tr>\n",
       "  </tbody>\n",
       "</table>\n",
       "<p>3203 rows × 3 columns</p>\n",
       "</div>"
      ],
      "text/plain": [
       "      month  user_id  internet_sum\n",
       "0         5     1000             3\n",
       "1         6     1000            23\n",
       "2         7     1000            14\n",
       "3         8     1000            14\n",
       "4         9     1000            15\n",
       "...     ...      ...           ...\n",
       "3198     10     1498            21\n",
       "3199      9     1499             2\n",
       "3200     10     1499            18\n",
       "3201     11     1499            18\n",
       "3202     12     1499            13\n",
       "\n",
       "[3203 rows x 3 columns]"
      ]
     },
     "metadata": {},
     "output_type": "display_data"
    }
   ],
   "source": [
    "internet['month'] = internet['session_date'].dt.month \n",
    "#ВЫДЕЛИТЬ МЕСЯЦ ИЗ ДАТЫ\n",
    "\n",
    "internet_group = internet.groupby(['month','user_id']).agg({'mb_used': 'sum'}).sort_values(by = ['user_id','month'], ascending = True)\n",
    "internet_group.columns = ['internet_sum']\n",
    "internet_group = internet_group.reset_index() \n",
    "#display(internet_group)\n",
    "\n",
    "#id — уникальный номер сессии\n",
    "#mb_used — объём потраченного за сессию интернет-трафика (в мегабайтах)\n",
    "#session_date — дата интернет-сессии\n",
    "#user_id — идентификатор пользователя\n",
    "#для каждого пользователя: объем израсходованного интернет-трафика по месяцам; \n",
    "#отбрасываем хвост округляем делаем целое потом считаем что:\n",
    "#Если абонент использует 1025 мегабайт в этом месяце, с него возьмут плату за 2 гигабайта.\n",
    "\n",
    "\n",
    "internet_group['internet_sum'] = internet_group['internet_sum']/1024\n",
    "internet_group['internet_sum2'] = internet_group['internet_sum'] -(internet_group['internet_sum'].astype('int')) \n",
    "\n",
    "def internet_sum2_1(row):\n",
    "\n",
    "    income = row['internet_sum2']\n",
    "    if income <= 0:\n",
    "        return 0  \n",
    "    if income > 0:\n",
    "        return 1\n",
    "   \n",
    "        \n",
    "internet_group['internet_sum2'] = internet_group.apply(internet_sum2_1, axis=1)\n",
    "\n",
    "internet_group['internet_sum'] = (internet_group['internet_sum'].astype('int')) + internet_group['internet_sum2']\n",
    "internet_group = internet_group.loc[:, ['month','user_id','internet_sum']]\n",
    "display(internet_group)"
   ]
  },
  {
   "cell_type": "code",
   "execution_count": 14,
   "metadata": {},
   "outputs": [
    {
     "data": {
      "text/html": [
       "<div>\n",
       "<style scoped>\n",
       "    .dataframe tbody tr th:only-of-type {\n",
       "        vertical-align: middle;\n",
       "    }\n",
       "\n",
       "    .dataframe tbody tr th {\n",
       "        vertical-align: top;\n",
       "    }\n",
       "\n",
       "    .dataframe thead th {\n",
       "        text-align: right;\n",
       "    }\n",
       "</style>\n",
       "<table border=\"1\" class=\"dataframe\">\n",
       "  <thead>\n",
       "    <tr style=\"text-align: right;\">\n",
       "      <th></th>\n",
       "      <th>month</th>\n",
       "      <th>user_id</th>\n",
       "      <th>calls_count</th>\n",
       "      <th>calls_sum</th>\n",
       "      <th>messages_count</th>\n",
       "      <th>internet_sum</th>\n",
       "      <th>tariff_name</th>\n",
       "      <th>city</th>\n",
       "      <th>messages_included</th>\n",
       "      <th>mb_per_month_included</th>\n",
       "      <th>minutes_included</th>\n",
       "      <th>rub_monthly_fee</th>\n",
       "      <th>rub_per_gb</th>\n",
       "      <th>rub_per_message</th>\n",
       "      <th>rub_per_minute</th>\n",
       "    </tr>\n",
       "  </thead>\n",
       "  <tbody>\n",
       "    <tr>\n",
       "      <th>0</th>\n",
       "      <td>5.0</td>\n",
       "      <td>1000</td>\n",
       "      <td>22.0</td>\n",
       "      <td>159.0</td>\n",
       "      <td>22.0</td>\n",
       "      <td>3.0</td>\n",
       "      <td>ultra</td>\n",
       "      <td>Краснодар</td>\n",
       "      <td>1000</td>\n",
       "      <td>30720</td>\n",
       "      <td>3000</td>\n",
       "      <td>1950</td>\n",
       "      <td>150</td>\n",
       "      <td>1</td>\n",
       "      <td>1</td>\n",
       "    </tr>\n",
       "    <tr>\n",
       "      <th>1</th>\n",
       "      <td>6.0</td>\n",
       "      <td>1000</td>\n",
       "      <td>43.0</td>\n",
       "      <td>172.0</td>\n",
       "      <td>60.0</td>\n",
       "      <td>23.0</td>\n",
       "      <td>ultra</td>\n",
       "      <td>Краснодар</td>\n",
       "      <td>1000</td>\n",
       "      <td>30720</td>\n",
       "      <td>3000</td>\n",
       "      <td>1950</td>\n",
       "      <td>150</td>\n",
       "      <td>1</td>\n",
       "      <td>1</td>\n",
       "    </tr>\n",
       "    <tr>\n",
       "      <th>2</th>\n",
       "      <td>7.0</td>\n",
       "      <td>1000</td>\n",
       "      <td>47.0</td>\n",
       "      <td>340.0</td>\n",
       "      <td>75.0</td>\n",
       "      <td>14.0</td>\n",
       "      <td>ultra</td>\n",
       "      <td>Краснодар</td>\n",
       "      <td>1000</td>\n",
       "      <td>30720</td>\n",
       "      <td>3000</td>\n",
       "      <td>1950</td>\n",
       "      <td>150</td>\n",
       "      <td>1</td>\n",
       "      <td>1</td>\n",
       "    </tr>\n",
       "    <tr>\n",
       "      <th>3</th>\n",
       "      <td>8.0</td>\n",
       "      <td>1000</td>\n",
       "      <td>52.0</td>\n",
       "      <td>408.0</td>\n",
       "      <td>81.0</td>\n",
       "      <td>14.0</td>\n",
       "      <td>ultra</td>\n",
       "      <td>Краснодар</td>\n",
       "      <td>1000</td>\n",
       "      <td>30720</td>\n",
       "      <td>3000</td>\n",
       "      <td>1950</td>\n",
       "      <td>150</td>\n",
       "      <td>1</td>\n",
       "      <td>1</td>\n",
       "    </tr>\n",
       "    <tr>\n",
       "      <th>4</th>\n",
       "      <td>9.0</td>\n",
       "      <td>1000</td>\n",
       "      <td>58.0</td>\n",
       "      <td>466.0</td>\n",
       "      <td>57.0</td>\n",
       "      <td>15.0</td>\n",
       "      <td>ultra</td>\n",
       "      <td>Краснодар</td>\n",
       "      <td>1000</td>\n",
       "      <td>30720</td>\n",
       "      <td>3000</td>\n",
       "      <td>1950</td>\n",
       "      <td>150</td>\n",
       "      <td>1</td>\n",
       "      <td>1</td>\n",
       "    </tr>\n",
       "    <tr>\n",
       "      <th>...</th>\n",
       "      <td>...</td>\n",
       "      <td>...</td>\n",
       "      <td>...</td>\n",
       "      <td>...</td>\n",
       "      <td>...</td>\n",
       "      <td>...</td>\n",
       "      <td>...</td>\n",
       "      <td>...</td>\n",
       "      <td>...</td>\n",
       "      <td>...</td>\n",
       "      <td>...</td>\n",
       "      <td>...</td>\n",
       "      <td>...</td>\n",
       "      <td>...</td>\n",
       "      <td>...</td>\n",
       "    </tr>\n",
       "    <tr>\n",
       "      <th>3211</th>\n",
       "      <td>9.0</td>\n",
       "      <td>1489</td>\n",
       "      <td>NaN</td>\n",
       "      <td>NaN</td>\n",
       "      <td>32.0</td>\n",
       "      <td>17.0</td>\n",
       "      <td>smart</td>\n",
       "      <td>Санкт-Петербург</td>\n",
       "      <td>50</td>\n",
       "      <td>15360</td>\n",
       "      <td>500</td>\n",
       "      <td>550</td>\n",
       "      <td>200</td>\n",
       "      <td>3</td>\n",
       "      <td>3</td>\n",
       "    </tr>\n",
       "    <tr>\n",
       "      <th>3212</th>\n",
       "      <td>10.0</td>\n",
       "      <td>1489</td>\n",
       "      <td>NaN</td>\n",
       "      <td>NaN</td>\n",
       "      <td>21.0</td>\n",
       "      <td>20.0</td>\n",
       "      <td>smart</td>\n",
       "      <td>Санкт-Петербург</td>\n",
       "      <td>50</td>\n",
       "      <td>15360</td>\n",
       "      <td>500</td>\n",
       "      <td>550</td>\n",
       "      <td>200</td>\n",
       "      <td>3</td>\n",
       "      <td>3</td>\n",
       "    </tr>\n",
       "    <tr>\n",
       "      <th>3213</th>\n",
       "      <td>11.0</td>\n",
       "      <td>1489</td>\n",
       "      <td>NaN</td>\n",
       "      <td>NaN</td>\n",
       "      <td>20.0</td>\n",
       "      <td>18.0</td>\n",
       "      <td>smart</td>\n",
       "      <td>Санкт-Петербург</td>\n",
       "      <td>50</td>\n",
       "      <td>15360</td>\n",
       "      <td>500</td>\n",
       "      <td>550</td>\n",
       "      <td>200</td>\n",
       "      <td>3</td>\n",
       "      <td>3</td>\n",
       "    </tr>\n",
       "    <tr>\n",
       "      <th>3214</th>\n",
       "      <td>12.0</td>\n",
       "      <td>1489</td>\n",
       "      <td>NaN</td>\n",
       "      <td>NaN</td>\n",
       "      <td>35.0</td>\n",
       "      <td>17.0</td>\n",
       "      <td>smart</td>\n",
       "      <td>Санкт-Петербург</td>\n",
       "      <td>50</td>\n",
       "      <td>15360</td>\n",
       "      <td>500</td>\n",
       "      <td>550</td>\n",
       "      <td>200</td>\n",
       "      <td>3</td>\n",
       "      <td>3</td>\n",
       "    </tr>\n",
       "    <tr>\n",
       "      <th>3215</th>\n",
       "      <td>NaN</td>\n",
       "      <td>1371</td>\n",
       "      <td>NaN</td>\n",
       "      <td>NaN</td>\n",
       "      <td>NaN</td>\n",
       "      <td>NaN</td>\n",
       "      <td>smart</td>\n",
       "      <td>Омск</td>\n",
       "      <td>50</td>\n",
       "      <td>15360</td>\n",
       "      <td>500</td>\n",
       "      <td>550</td>\n",
       "      <td>200</td>\n",
       "      <td>3</td>\n",
       "      <td>3</td>\n",
       "    </tr>\n",
       "  </tbody>\n",
       "</table>\n",
       "<p>3216 rows × 15 columns</p>\n",
       "</div>"
      ],
      "text/plain": [
       "      month  user_id  calls_count  calls_sum  messages_count  internet_sum  \\\n",
       "0       5.0     1000         22.0      159.0            22.0           3.0   \n",
       "1       6.0     1000         43.0      172.0            60.0          23.0   \n",
       "2       7.0     1000         47.0      340.0            75.0          14.0   \n",
       "3       8.0     1000         52.0      408.0            81.0          14.0   \n",
       "4       9.0     1000         58.0      466.0            57.0          15.0   \n",
       "...     ...      ...          ...        ...             ...           ...   \n",
       "3211    9.0     1489          NaN        NaN            32.0          17.0   \n",
       "3212   10.0     1489          NaN        NaN            21.0          20.0   \n",
       "3213   11.0     1489          NaN        NaN            20.0          18.0   \n",
       "3214   12.0     1489          NaN        NaN            35.0          17.0   \n",
       "3215    NaN     1371          NaN        NaN             NaN           NaN   \n",
       "\n",
       "     tariff_name             city  messages_included  mb_per_month_included  \\\n",
       "0          ultra        Краснодар               1000                  30720   \n",
       "1          ultra        Краснодар               1000                  30720   \n",
       "2          ultra        Краснодар               1000                  30720   \n",
       "3          ultra        Краснодар               1000                  30720   \n",
       "4          ultra        Краснодар               1000                  30720   \n",
       "...          ...              ...                ...                    ...   \n",
       "3211       smart  Санкт-Петербург                 50                  15360   \n",
       "3212       smart  Санкт-Петербург                 50                  15360   \n",
       "3213       smart  Санкт-Петербург                 50                  15360   \n",
       "3214       smart  Санкт-Петербург                 50                  15360   \n",
       "3215       smart             Омск                 50                  15360   \n",
       "\n",
       "      minutes_included  rub_monthly_fee  rub_per_gb  rub_per_message  \\\n",
       "0                 3000             1950         150                1   \n",
       "1                 3000             1950         150                1   \n",
       "2                 3000             1950         150                1   \n",
       "3                 3000             1950         150                1   \n",
       "4                 3000             1950         150                1   \n",
       "...                ...              ...         ...              ...   \n",
       "3211               500              550         200                3   \n",
       "3212               500              550         200                3   \n",
       "3213               500              550         200                3   \n",
       "3214               500              550         200                3   \n",
       "3215               500              550         200                3   \n",
       "\n",
       "      rub_per_minute  \n",
       "0                  1  \n",
       "1                  1  \n",
       "2                  1  \n",
       "3                  1  \n",
       "4                  1  \n",
       "...              ...  \n",
       "3211               3  \n",
       "3212               3  \n",
       "3213               3  \n",
       "3214               3  \n",
       "3215               3  \n",
       "\n",
       "[3216 rows x 15 columns]"
      ]
     },
     "metadata": {},
     "output_type": "display_data"
    },
    {
     "data": {
      "text/html": [
       "<div>\n",
       "<style scoped>\n",
       "    .dataframe tbody tr th:only-of-type {\n",
       "        vertical-align: middle;\n",
       "    }\n",
       "\n",
       "    .dataframe tbody tr th {\n",
       "        vertical-align: top;\n",
       "    }\n",
       "\n",
       "    .dataframe thead th {\n",
       "        text-align: right;\n",
       "    }\n",
       "</style>\n",
       "<table border=\"1\" class=\"dataframe\">\n",
       "  <thead>\n",
       "    <tr style=\"text-align: right;\">\n",
       "      <th></th>\n",
       "      <th>month</th>\n",
       "      <th>user_id</th>\n",
       "      <th>calls_count</th>\n",
       "      <th>calls_sum</th>\n",
       "      <th>messages_count</th>\n",
       "      <th>internet_sum</th>\n",
       "      <th>tariff_name</th>\n",
       "      <th>city</th>\n",
       "      <th>messages_included</th>\n",
       "      <th>mb_per_month_included</th>\n",
       "      <th>minutes_included</th>\n",
       "      <th>rub_monthly_fee</th>\n",
       "      <th>rub_per_gb</th>\n",
       "      <th>rub_per_message</th>\n",
       "      <th>rub_per_minute</th>\n",
       "    </tr>\n",
       "  </thead>\n",
       "  <tbody>\n",
       "    <tr>\n",
       "      <th>0</th>\n",
       "      <td>5.0</td>\n",
       "      <td>1000</td>\n",
       "      <td>22.0</td>\n",
       "      <td>159.0</td>\n",
       "      <td>22.0</td>\n",
       "      <td>3.0</td>\n",
       "      <td>ultra</td>\n",
       "      <td>Краснодар</td>\n",
       "      <td>1000</td>\n",
       "      <td>30720</td>\n",
       "      <td>3000</td>\n",
       "      <td>1950</td>\n",
       "      <td>150</td>\n",
       "      <td>1</td>\n",
       "      <td>1</td>\n",
       "    </tr>\n",
       "    <tr>\n",
       "      <th>1</th>\n",
       "      <td>6.0</td>\n",
       "      <td>1000</td>\n",
       "      <td>43.0</td>\n",
       "      <td>172.0</td>\n",
       "      <td>60.0</td>\n",
       "      <td>23.0</td>\n",
       "      <td>ultra</td>\n",
       "      <td>Краснодар</td>\n",
       "      <td>1000</td>\n",
       "      <td>30720</td>\n",
       "      <td>3000</td>\n",
       "      <td>1950</td>\n",
       "      <td>150</td>\n",
       "      <td>1</td>\n",
       "      <td>1</td>\n",
       "    </tr>\n",
       "    <tr>\n",
       "      <th>2</th>\n",
       "      <td>7.0</td>\n",
       "      <td>1000</td>\n",
       "      <td>47.0</td>\n",
       "      <td>340.0</td>\n",
       "      <td>75.0</td>\n",
       "      <td>14.0</td>\n",
       "      <td>ultra</td>\n",
       "      <td>Краснодар</td>\n",
       "      <td>1000</td>\n",
       "      <td>30720</td>\n",
       "      <td>3000</td>\n",
       "      <td>1950</td>\n",
       "      <td>150</td>\n",
       "      <td>1</td>\n",
       "      <td>1</td>\n",
       "    </tr>\n",
       "    <tr>\n",
       "      <th>3</th>\n",
       "      <td>8.0</td>\n",
       "      <td>1000</td>\n",
       "      <td>52.0</td>\n",
       "      <td>408.0</td>\n",
       "      <td>81.0</td>\n",
       "      <td>14.0</td>\n",
       "      <td>ultra</td>\n",
       "      <td>Краснодар</td>\n",
       "      <td>1000</td>\n",
       "      <td>30720</td>\n",
       "      <td>3000</td>\n",
       "      <td>1950</td>\n",
       "      <td>150</td>\n",
       "      <td>1</td>\n",
       "      <td>1</td>\n",
       "    </tr>\n",
       "    <tr>\n",
       "      <th>4</th>\n",
       "      <td>9.0</td>\n",
       "      <td>1000</td>\n",
       "      <td>58.0</td>\n",
       "      <td>466.0</td>\n",
       "      <td>57.0</td>\n",
       "      <td>15.0</td>\n",
       "      <td>ultra</td>\n",
       "      <td>Краснодар</td>\n",
       "      <td>1000</td>\n",
       "      <td>30720</td>\n",
       "      <td>3000</td>\n",
       "      <td>1950</td>\n",
       "      <td>150</td>\n",
       "      <td>1</td>\n",
       "      <td>1</td>\n",
       "    </tr>\n",
       "    <tr>\n",
       "      <th>...</th>\n",
       "      <td>...</td>\n",
       "      <td>...</td>\n",
       "      <td>...</td>\n",
       "      <td>...</td>\n",
       "      <td>...</td>\n",
       "      <td>...</td>\n",
       "      <td>...</td>\n",
       "      <td>...</td>\n",
       "      <td>...</td>\n",
       "      <td>...</td>\n",
       "      <td>...</td>\n",
       "      <td>...</td>\n",
       "      <td>...</td>\n",
       "      <td>...</td>\n",
       "      <td>...</td>\n",
       "    </tr>\n",
       "    <tr>\n",
       "      <th>3211</th>\n",
       "      <td>9.0</td>\n",
       "      <td>1489</td>\n",
       "      <td>0.0</td>\n",
       "      <td>0.0</td>\n",
       "      <td>32.0</td>\n",
       "      <td>17.0</td>\n",
       "      <td>smart</td>\n",
       "      <td>Санкт-Петербург</td>\n",
       "      <td>50</td>\n",
       "      <td>15360</td>\n",
       "      <td>500</td>\n",
       "      <td>550</td>\n",
       "      <td>200</td>\n",
       "      <td>3</td>\n",
       "      <td>3</td>\n",
       "    </tr>\n",
       "    <tr>\n",
       "      <th>3212</th>\n",
       "      <td>10.0</td>\n",
       "      <td>1489</td>\n",
       "      <td>0.0</td>\n",
       "      <td>0.0</td>\n",
       "      <td>21.0</td>\n",
       "      <td>20.0</td>\n",
       "      <td>smart</td>\n",
       "      <td>Санкт-Петербург</td>\n",
       "      <td>50</td>\n",
       "      <td>15360</td>\n",
       "      <td>500</td>\n",
       "      <td>550</td>\n",
       "      <td>200</td>\n",
       "      <td>3</td>\n",
       "      <td>3</td>\n",
       "    </tr>\n",
       "    <tr>\n",
       "      <th>3213</th>\n",
       "      <td>11.0</td>\n",
       "      <td>1489</td>\n",
       "      <td>0.0</td>\n",
       "      <td>0.0</td>\n",
       "      <td>20.0</td>\n",
       "      <td>18.0</td>\n",
       "      <td>smart</td>\n",
       "      <td>Санкт-Петербург</td>\n",
       "      <td>50</td>\n",
       "      <td>15360</td>\n",
       "      <td>500</td>\n",
       "      <td>550</td>\n",
       "      <td>200</td>\n",
       "      <td>3</td>\n",
       "      <td>3</td>\n",
       "    </tr>\n",
       "    <tr>\n",
       "      <th>3214</th>\n",
       "      <td>12.0</td>\n",
       "      <td>1489</td>\n",
       "      <td>0.0</td>\n",
       "      <td>0.0</td>\n",
       "      <td>35.0</td>\n",
       "      <td>17.0</td>\n",
       "      <td>smart</td>\n",
       "      <td>Санкт-Петербург</td>\n",
       "      <td>50</td>\n",
       "      <td>15360</td>\n",
       "      <td>500</td>\n",
       "      <td>550</td>\n",
       "      <td>200</td>\n",
       "      <td>3</td>\n",
       "      <td>3</td>\n",
       "    </tr>\n",
       "    <tr>\n",
       "      <th>3215</th>\n",
       "      <td>0.0</td>\n",
       "      <td>1371</td>\n",
       "      <td>0.0</td>\n",
       "      <td>0.0</td>\n",
       "      <td>0.0</td>\n",
       "      <td>0.0</td>\n",
       "      <td>smart</td>\n",
       "      <td>Омск</td>\n",
       "      <td>50</td>\n",
       "      <td>15360</td>\n",
       "      <td>500</td>\n",
       "      <td>550</td>\n",
       "      <td>200</td>\n",
       "      <td>3</td>\n",
       "      <td>3</td>\n",
       "    </tr>\n",
       "  </tbody>\n",
       "</table>\n",
       "<p>3216 rows × 15 columns</p>\n",
       "</div>"
      ],
      "text/plain": [
       "      month  user_id  calls_count  calls_sum  messages_count  internet_sum  \\\n",
       "0       5.0     1000         22.0      159.0            22.0           3.0   \n",
       "1       6.0     1000         43.0      172.0            60.0          23.0   \n",
       "2       7.0     1000         47.0      340.0            75.0          14.0   \n",
       "3       8.0     1000         52.0      408.0            81.0          14.0   \n",
       "4       9.0     1000         58.0      466.0            57.0          15.0   \n",
       "...     ...      ...          ...        ...             ...           ...   \n",
       "3211    9.0     1489          0.0        0.0            32.0          17.0   \n",
       "3212   10.0     1489          0.0        0.0            21.0          20.0   \n",
       "3213   11.0     1489          0.0        0.0            20.0          18.0   \n",
       "3214   12.0     1489          0.0        0.0            35.0          17.0   \n",
       "3215    0.0     1371          0.0        0.0             0.0           0.0   \n",
       "\n",
       "     tariff_name             city  messages_included  mb_per_month_included  \\\n",
       "0          ultra        Краснодар               1000                  30720   \n",
       "1          ultra        Краснодар               1000                  30720   \n",
       "2          ultra        Краснодар               1000                  30720   \n",
       "3          ultra        Краснодар               1000                  30720   \n",
       "4          ultra        Краснодар               1000                  30720   \n",
       "...          ...              ...                ...                    ...   \n",
       "3211       smart  Санкт-Петербург                 50                  15360   \n",
       "3212       smart  Санкт-Петербург                 50                  15360   \n",
       "3213       smart  Санкт-Петербург                 50                  15360   \n",
       "3214       smart  Санкт-Петербург                 50                  15360   \n",
       "3215       smart             Омск                 50                  15360   \n",
       "\n",
       "      minutes_included  rub_monthly_fee  rub_per_gb  rub_per_message  \\\n",
       "0                 3000             1950         150                1   \n",
       "1                 3000             1950         150                1   \n",
       "2                 3000             1950         150                1   \n",
       "3                 3000             1950         150                1   \n",
       "4                 3000             1950         150                1   \n",
       "...                ...              ...         ...              ...   \n",
       "3211               500              550         200                3   \n",
       "3212               500              550         200                3   \n",
       "3213               500              550         200                3   \n",
       "3214               500              550         200                3   \n",
       "3215               500              550         200                3   \n",
       "\n",
       "      rub_per_minute  \n",
       "0                  1  \n",
       "1                  1  \n",
       "2                  1  \n",
       "3                  1  \n",
       "4                  1  \n",
       "...              ...  \n",
       "3211               3  \n",
       "3212               3  \n",
       "3213               3  \n",
       "3214               3  \n",
       "3215               3  \n",
       "\n",
       "[3216 rows x 15 columns]"
      ]
     },
     "metadata": {},
     "output_type": "display_data"
    },
    {
     "data": {
      "text/html": [
       "<div>\n",
       "<style scoped>\n",
       "    .dataframe tbody tr th:only-of-type {\n",
       "        vertical-align: middle;\n",
       "    }\n",
       "\n",
       "    .dataframe tbody tr th {\n",
       "        vertical-align: top;\n",
       "    }\n",
       "\n",
       "    .dataframe thead th {\n",
       "        text-align: right;\n",
       "    }\n",
       "</style>\n",
       "<table border=\"1\" class=\"dataframe\">\n",
       "  <thead>\n",
       "    <tr style=\"text-align: right;\">\n",
       "      <th></th>\n",
       "      <th>month</th>\n",
       "      <th>user_id</th>\n",
       "      <th>calls_count</th>\n",
       "      <th>calls_sum</th>\n",
       "      <th>messages_count</th>\n",
       "      <th>internet_sum</th>\n",
       "      <th>tariff_name</th>\n",
       "      <th>city</th>\n",
       "      <th>messages_included</th>\n",
       "      <th>mb_per_month_included</th>\n",
       "      <th>minutes_included</th>\n",
       "      <th>rub_monthly_fee</th>\n",
       "      <th>rub_per_gb</th>\n",
       "      <th>rub_per_message</th>\n",
       "      <th>rub_per_minute</th>\n",
       "      <th>minutes_calls_sverhtarifa</th>\n",
       "      <th>messages_sverhtarifa</th>\n",
       "      <th>gb_per_month_included</th>\n",
       "      <th>internet_sverhtarifa_gb</th>\n",
       "    </tr>\n",
       "  </thead>\n",
       "  <tbody>\n",
       "    <tr>\n",
       "      <th>0</th>\n",
       "      <td>5.0</td>\n",
       "      <td>1000</td>\n",
       "      <td>22.0</td>\n",
       "      <td>159.0</td>\n",
       "      <td>22.0</td>\n",
       "      <td>3.0</td>\n",
       "      <td>ultra</td>\n",
       "      <td>Краснодар</td>\n",
       "      <td>1000</td>\n",
       "      <td>30720</td>\n",
       "      <td>3000</td>\n",
       "      <td>1950</td>\n",
       "      <td>150</td>\n",
       "      <td>1</td>\n",
       "      <td>1</td>\n",
       "      <td>-2841.0</td>\n",
       "      <td>-978.0</td>\n",
       "      <td>30.0</td>\n",
       "      <td>-27.0</td>\n",
       "    </tr>\n",
       "    <tr>\n",
       "      <th>1</th>\n",
       "      <td>6.0</td>\n",
       "      <td>1000</td>\n",
       "      <td>43.0</td>\n",
       "      <td>172.0</td>\n",
       "      <td>60.0</td>\n",
       "      <td>23.0</td>\n",
       "      <td>ultra</td>\n",
       "      <td>Краснодар</td>\n",
       "      <td>1000</td>\n",
       "      <td>30720</td>\n",
       "      <td>3000</td>\n",
       "      <td>1950</td>\n",
       "      <td>150</td>\n",
       "      <td>1</td>\n",
       "      <td>1</td>\n",
       "      <td>-2828.0</td>\n",
       "      <td>-940.0</td>\n",
       "      <td>30.0</td>\n",
       "      <td>-7.0</td>\n",
       "    </tr>\n",
       "    <tr>\n",
       "      <th>2</th>\n",
       "      <td>7.0</td>\n",
       "      <td>1000</td>\n",
       "      <td>47.0</td>\n",
       "      <td>340.0</td>\n",
       "      <td>75.0</td>\n",
       "      <td>14.0</td>\n",
       "      <td>ultra</td>\n",
       "      <td>Краснодар</td>\n",
       "      <td>1000</td>\n",
       "      <td>30720</td>\n",
       "      <td>3000</td>\n",
       "      <td>1950</td>\n",
       "      <td>150</td>\n",
       "      <td>1</td>\n",
       "      <td>1</td>\n",
       "      <td>-2660.0</td>\n",
       "      <td>-925.0</td>\n",
       "      <td>30.0</td>\n",
       "      <td>-16.0</td>\n",
       "    </tr>\n",
       "    <tr>\n",
       "      <th>3</th>\n",
       "      <td>8.0</td>\n",
       "      <td>1000</td>\n",
       "      <td>52.0</td>\n",
       "      <td>408.0</td>\n",
       "      <td>81.0</td>\n",
       "      <td>14.0</td>\n",
       "      <td>ultra</td>\n",
       "      <td>Краснодар</td>\n",
       "      <td>1000</td>\n",
       "      <td>30720</td>\n",
       "      <td>3000</td>\n",
       "      <td>1950</td>\n",
       "      <td>150</td>\n",
       "      <td>1</td>\n",
       "      <td>1</td>\n",
       "      <td>-2592.0</td>\n",
       "      <td>-919.0</td>\n",
       "      <td>30.0</td>\n",
       "      <td>-16.0</td>\n",
       "    </tr>\n",
       "    <tr>\n",
       "      <th>4</th>\n",
       "      <td>9.0</td>\n",
       "      <td>1000</td>\n",
       "      <td>58.0</td>\n",
       "      <td>466.0</td>\n",
       "      <td>57.0</td>\n",
       "      <td>15.0</td>\n",
       "      <td>ultra</td>\n",
       "      <td>Краснодар</td>\n",
       "      <td>1000</td>\n",
       "      <td>30720</td>\n",
       "      <td>3000</td>\n",
       "      <td>1950</td>\n",
       "      <td>150</td>\n",
       "      <td>1</td>\n",
       "      <td>1</td>\n",
       "      <td>-2534.0</td>\n",
       "      <td>-943.0</td>\n",
       "      <td>30.0</td>\n",
       "      <td>-15.0</td>\n",
       "    </tr>\n",
       "    <tr>\n",
       "      <th>...</th>\n",
       "      <td>...</td>\n",
       "      <td>...</td>\n",
       "      <td>...</td>\n",
       "      <td>...</td>\n",
       "      <td>...</td>\n",
       "      <td>...</td>\n",
       "      <td>...</td>\n",
       "      <td>...</td>\n",
       "      <td>...</td>\n",
       "      <td>...</td>\n",
       "      <td>...</td>\n",
       "      <td>...</td>\n",
       "      <td>...</td>\n",
       "      <td>...</td>\n",
       "      <td>...</td>\n",
       "      <td>...</td>\n",
       "      <td>...</td>\n",
       "      <td>...</td>\n",
       "      <td>...</td>\n",
       "    </tr>\n",
       "    <tr>\n",
       "      <th>3211</th>\n",
       "      <td>9.0</td>\n",
       "      <td>1489</td>\n",
       "      <td>0.0</td>\n",
       "      <td>0.0</td>\n",
       "      <td>32.0</td>\n",
       "      <td>17.0</td>\n",
       "      <td>smart</td>\n",
       "      <td>Санкт-Петербург</td>\n",
       "      <td>50</td>\n",
       "      <td>15360</td>\n",
       "      <td>500</td>\n",
       "      <td>550</td>\n",
       "      <td>200</td>\n",
       "      <td>3</td>\n",
       "      <td>3</td>\n",
       "      <td>-500.0</td>\n",
       "      <td>-18.0</td>\n",
       "      <td>15.0</td>\n",
       "      <td>2.0</td>\n",
       "    </tr>\n",
       "    <tr>\n",
       "      <th>3212</th>\n",
       "      <td>10.0</td>\n",
       "      <td>1489</td>\n",
       "      <td>0.0</td>\n",
       "      <td>0.0</td>\n",
       "      <td>21.0</td>\n",
       "      <td>20.0</td>\n",
       "      <td>smart</td>\n",
       "      <td>Санкт-Петербург</td>\n",
       "      <td>50</td>\n",
       "      <td>15360</td>\n",
       "      <td>500</td>\n",
       "      <td>550</td>\n",
       "      <td>200</td>\n",
       "      <td>3</td>\n",
       "      <td>3</td>\n",
       "      <td>-500.0</td>\n",
       "      <td>-29.0</td>\n",
       "      <td>15.0</td>\n",
       "      <td>5.0</td>\n",
       "    </tr>\n",
       "    <tr>\n",
       "      <th>3213</th>\n",
       "      <td>11.0</td>\n",
       "      <td>1489</td>\n",
       "      <td>0.0</td>\n",
       "      <td>0.0</td>\n",
       "      <td>20.0</td>\n",
       "      <td>18.0</td>\n",
       "      <td>smart</td>\n",
       "      <td>Санкт-Петербург</td>\n",
       "      <td>50</td>\n",
       "      <td>15360</td>\n",
       "      <td>500</td>\n",
       "      <td>550</td>\n",
       "      <td>200</td>\n",
       "      <td>3</td>\n",
       "      <td>3</td>\n",
       "      <td>-500.0</td>\n",
       "      <td>-30.0</td>\n",
       "      <td>15.0</td>\n",
       "      <td>3.0</td>\n",
       "    </tr>\n",
       "    <tr>\n",
       "      <th>3214</th>\n",
       "      <td>12.0</td>\n",
       "      <td>1489</td>\n",
       "      <td>0.0</td>\n",
       "      <td>0.0</td>\n",
       "      <td>35.0</td>\n",
       "      <td>17.0</td>\n",
       "      <td>smart</td>\n",
       "      <td>Санкт-Петербург</td>\n",
       "      <td>50</td>\n",
       "      <td>15360</td>\n",
       "      <td>500</td>\n",
       "      <td>550</td>\n",
       "      <td>200</td>\n",
       "      <td>3</td>\n",
       "      <td>3</td>\n",
       "      <td>-500.0</td>\n",
       "      <td>-15.0</td>\n",
       "      <td>15.0</td>\n",
       "      <td>2.0</td>\n",
       "    </tr>\n",
       "    <tr>\n",
       "      <th>3215</th>\n",
       "      <td>0.0</td>\n",
       "      <td>1371</td>\n",
       "      <td>0.0</td>\n",
       "      <td>0.0</td>\n",
       "      <td>0.0</td>\n",
       "      <td>0.0</td>\n",
       "      <td>smart</td>\n",
       "      <td>Омск</td>\n",
       "      <td>50</td>\n",
       "      <td>15360</td>\n",
       "      <td>500</td>\n",
       "      <td>550</td>\n",
       "      <td>200</td>\n",
       "      <td>3</td>\n",
       "      <td>3</td>\n",
       "      <td>-500.0</td>\n",
       "      <td>-50.0</td>\n",
       "      <td>15.0</td>\n",
       "      <td>-15.0</td>\n",
       "    </tr>\n",
       "  </tbody>\n",
       "</table>\n",
       "<p>3216 rows × 19 columns</p>\n",
       "</div>"
      ],
      "text/plain": [
       "      month  user_id  calls_count  calls_sum  messages_count  internet_sum  \\\n",
       "0       5.0     1000         22.0      159.0            22.0           3.0   \n",
       "1       6.0     1000         43.0      172.0            60.0          23.0   \n",
       "2       7.0     1000         47.0      340.0            75.0          14.0   \n",
       "3       8.0     1000         52.0      408.0            81.0          14.0   \n",
       "4       9.0     1000         58.0      466.0            57.0          15.0   \n",
       "...     ...      ...          ...        ...             ...           ...   \n",
       "3211    9.0     1489          0.0        0.0            32.0          17.0   \n",
       "3212   10.0     1489          0.0        0.0            21.0          20.0   \n",
       "3213   11.0     1489          0.0        0.0            20.0          18.0   \n",
       "3214   12.0     1489          0.0        0.0            35.0          17.0   \n",
       "3215    0.0     1371          0.0        0.0             0.0           0.0   \n",
       "\n",
       "     tariff_name             city  messages_included  mb_per_month_included  \\\n",
       "0          ultra        Краснодар               1000                  30720   \n",
       "1          ultra        Краснодар               1000                  30720   \n",
       "2          ultra        Краснодар               1000                  30720   \n",
       "3          ultra        Краснодар               1000                  30720   \n",
       "4          ultra        Краснодар               1000                  30720   \n",
       "...          ...              ...                ...                    ...   \n",
       "3211       smart  Санкт-Петербург                 50                  15360   \n",
       "3212       smart  Санкт-Петербург                 50                  15360   \n",
       "3213       smart  Санкт-Петербург                 50                  15360   \n",
       "3214       smart  Санкт-Петербург                 50                  15360   \n",
       "3215       smart             Омск                 50                  15360   \n",
       "\n",
       "      minutes_included  rub_monthly_fee  rub_per_gb  rub_per_message  \\\n",
       "0                 3000             1950         150                1   \n",
       "1                 3000             1950         150                1   \n",
       "2                 3000             1950         150                1   \n",
       "3                 3000             1950         150                1   \n",
       "4                 3000             1950         150                1   \n",
       "...                ...              ...         ...              ...   \n",
       "3211               500              550         200                3   \n",
       "3212               500              550         200                3   \n",
       "3213               500              550         200                3   \n",
       "3214               500              550         200                3   \n",
       "3215               500              550         200                3   \n",
       "\n",
       "      rub_per_minute  minutes_calls_sverhtarifa  messages_sverhtarifa  \\\n",
       "0                  1                    -2841.0                -978.0   \n",
       "1                  1                    -2828.0                -940.0   \n",
       "2                  1                    -2660.0                -925.0   \n",
       "3                  1                    -2592.0                -919.0   \n",
       "4                  1                    -2534.0                -943.0   \n",
       "...              ...                        ...                   ...   \n",
       "3211               3                     -500.0                 -18.0   \n",
       "3212               3                     -500.0                 -29.0   \n",
       "3213               3                     -500.0                 -30.0   \n",
       "3214               3                     -500.0                 -15.0   \n",
       "3215               3                     -500.0                 -50.0   \n",
       "\n",
       "      gb_per_month_included  internet_sverhtarifa_gb  \n",
       "0                      30.0                    -27.0  \n",
       "1                      30.0                     -7.0  \n",
       "2                      30.0                    -16.0  \n",
       "3                      30.0                    -16.0  \n",
       "4                      30.0                    -15.0  \n",
       "...                     ...                      ...  \n",
       "3211                   15.0                      2.0  \n",
       "3212                   15.0                      5.0  \n",
       "3213                   15.0                      3.0  \n",
       "3214                   15.0                      2.0  \n",
       "3215                   15.0                    -15.0  \n",
       "\n",
       "[3216 rows x 19 columns]"
      ]
     },
     "metadata": {},
     "output_type": "display_data"
    }
   ],
   "source": [
    "\n",
    "#display(calls_group)\n",
    "calls_group_messages_group = calls_group.merge(messages_group, on=('month','user_id'), how='outer')\n",
    "calls_group_messages_group_internet_group = calls_group_messages_group.merge(internet_group, on=('month','user_id'), how='outer')\n",
    "\n",
    "#display(calls_group_messages_group_internet_group)\n",
    "\n",
    "\n",
    "users_tariff = users.loc[:, ['user_id','tariff', 'city']] #оставляем только нужные столбцы\n",
    "users_tariff = users_tariff.rename(columns={'tariff': 'tariff_name'}) #переименновываем столбцы для удобного мерджа\n",
    " \n",
    "calls_group_messages_group_internet_group_tariff= calls_group_messages_group_internet_group.merge(users_tariff, on='user_id', how='outer')\n",
    "#display(calls_group_messages_group_internet_group_tariff)\n",
    "users_profil_tariff= calls_group_messages_group_internet_group_tariff.merge(tariffs, on='tariff_name', how='outer')\n",
    "#display(users_profil_tariff)\n",
    "display(users_profil_tariff)\n",
    "users_profil_tariff = users_profil_tariff.fillna(0) #заменим НАН NAN на 0\n",
    "display(users_profil_tariff)\n",
    "\n",
    "#вычтите бесплатный лимит из суммарного количества звонков, \n",
    "users_profil_tariff['minutes_calls_sverhtarifa'] =  users_profil_tariff['calls_sum'] - users_profil_tariff['minutes_included']\n",
    "\n",
    "#вычтите бесплатный лимит из суммарного количества сообщений \n",
    "users_profil_tariff['messages_sverhtarifa'] = users_profil_tariff['messages_count'] -  users_profil_tariff['messages_included']\n",
    "\n",
    "#вычтите бесплатный лимит из суммарного количества интернет-трафика; все приводим к ГБ\n",
    "users_profil_tariff['gb_per_month_included'] = users_profil_tariff['mb_per_month_included']/1024\n",
    "\n",
    "users_profil_tariff['internet_sverhtarifa_gb'] =  users_profil_tariff['internet_sum'] - users_profil_tariff['gb_per_month_included']\n",
    "\n",
    "\n",
    "display(users_profil_tariff)\n"
   ]
  },
  {
   "cell_type": "code",
   "execution_count": 15,
   "metadata": {},
   "outputs": [
    {
     "data": {
      "text/html": [
       "<div>\n",
       "<style scoped>\n",
       "    .dataframe tbody tr th:only-of-type {\n",
       "        vertical-align: middle;\n",
       "    }\n",
       "\n",
       "    .dataframe tbody tr th {\n",
       "        vertical-align: top;\n",
       "    }\n",
       "\n",
       "    .dataframe thead th {\n",
       "        text-align: right;\n",
       "    }\n",
       "</style>\n",
       "<table border=\"1\" class=\"dataframe\">\n",
       "  <thead>\n",
       "    <tr style=\"text-align: right;\">\n",
       "      <th></th>\n",
       "      <th>month</th>\n",
       "      <th>user_id</th>\n",
       "      <th>calls_count</th>\n",
       "      <th>calls_sum</th>\n",
       "      <th>messages_count</th>\n",
       "      <th>internet_sum</th>\n",
       "      <th>tariff_name</th>\n",
       "      <th>city</th>\n",
       "      <th>messages_included</th>\n",
       "      <th>mb_per_month_included</th>\n",
       "      <th>minutes_included</th>\n",
       "      <th>rub_monthly_fee</th>\n",
       "      <th>rub_per_gb</th>\n",
       "      <th>rub_per_message</th>\n",
       "      <th>rub_per_minute</th>\n",
       "      <th>minutes_calls_sverhtarifa</th>\n",
       "      <th>messages_sverhtarifa</th>\n",
       "      <th>gb_per_month_included</th>\n",
       "      <th>internet_sverhtarifa_gb</th>\n",
       "    </tr>\n",
       "  </thead>\n",
       "  <tbody>\n",
       "    <tr>\n",
       "      <th>0</th>\n",
       "      <td>5.0</td>\n",
       "      <td>1000</td>\n",
       "      <td>22.0</td>\n",
       "      <td>159.0</td>\n",
       "      <td>22.0</td>\n",
       "      <td>3.0</td>\n",
       "      <td>ultra</td>\n",
       "      <td>Краснодар</td>\n",
       "      <td>1000</td>\n",
       "      <td>30720</td>\n",
       "      <td>3000</td>\n",
       "      <td>1950</td>\n",
       "      <td>150</td>\n",
       "      <td>1</td>\n",
       "      <td>1</td>\n",
       "      <td>0.0</td>\n",
       "      <td>0.0</td>\n",
       "      <td>30.0</td>\n",
       "      <td>0.0</td>\n",
       "    </tr>\n",
       "    <tr>\n",
       "      <th>1</th>\n",
       "      <td>6.0</td>\n",
       "      <td>1000</td>\n",
       "      <td>43.0</td>\n",
       "      <td>172.0</td>\n",
       "      <td>60.0</td>\n",
       "      <td>23.0</td>\n",
       "      <td>ultra</td>\n",
       "      <td>Краснодар</td>\n",
       "      <td>1000</td>\n",
       "      <td>30720</td>\n",
       "      <td>3000</td>\n",
       "      <td>1950</td>\n",
       "      <td>150</td>\n",
       "      <td>1</td>\n",
       "      <td>1</td>\n",
       "      <td>0.0</td>\n",
       "      <td>0.0</td>\n",
       "      <td>30.0</td>\n",
       "      <td>0.0</td>\n",
       "    </tr>\n",
       "    <tr>\n",
       "      <th>2</th>\n",
       "      <td>7.0</td>\n",
       "      <td>1000</td>\n",
       "      <td>47.0</td>\n",
       "      <td>340.0</td>\n",
       "      <td>75.0</td>\n",
       "      <td>14.0</td>\n",
       "      <td>ultra</td>\n",
       "      <td>Краснодар</td>\n",
       "      <td>1000</td>\n",
       "      <td>30720</td>\n",
       "      <td>3000</td>\n",
       "      <td>1950</td>\n",
       "      <td>150</td>\n",
       "      <td>1</td>\n",
       "      <td>1</td>\n",
       "      <td>0.0</td>\n",
       "      <td>0.0</td>\n",
       "      <td>30.0</td>\n",
       "      <td>0.0</td>\n",
       "    </tr>\n",
       "    <tr>\n",
       "      <th>3</th>\n",
       "      <td>8.0</td>\n",
       "      <td>1000</td>\n",
       "      <td>52.0</td>\n",
       "      <td>408.0</td>\n",
       "      <td>81.0</td>\n",
       "      <td>14.0</td>\n",
       "      <td>ultra</td>\n",
       "      <td>Краснодар</td>\n",
       "      <td>1000</td>\n",
       "      <td>30720</td>\n",
       "      <td>3000</td>\n",
       "      <td>1950</td>\n",
       "      <td>150</td>\n",
       "      <td>1</td>\n",
       "      <td>1</td>\n",
       "      <td>0.0</td>\n",
       "      <td>0.0</td>\n",
       "      <td>30.0</td>\n",
       "      <td>0.0</td>\n",
       "    </tr>\n",
       "    <tr>\n",
       "      <th>4</th>\n",
       "      <td>9.0</td>\n",
       "      <td>1000</td>\n",
       "      <td>58.0</td>\n",
       "      <td>466.0</td>\n",
       "      <td>57.0</td>\n",
       "      <td>15.0</td>\n",
       "      <td>ultra</td>\n",
       "      <td>Краснодар</td>\n",
       "      <td>1000</td>\n",
       "      <td>30720</td>\n",
       "      <td>3000</td>\n",
       "      <td>1950</td>\n",
       "      <td>150</td>\n",
       "      <td>1</td>\n",
       "      <td>1</td>\n",
       "      <td>0.0</td>\n",
       "      <td>0.0</td>\n",
       "      <td>30.0</td>\n",
       "      <td>0.0</td>\n",
       "    </tr>\n",
       "    <tr>\n",
       "      <th>...</th>\n",
       "      <td>...</td>\n",
       "      <td>...</td>\n",
       "      <td>...</td>\n",
       "      <td>...</td>\n",
       "      <td>...</td>\n",
       "      <td>...</td>\n",
       "      <td>...</td>\n",
       "      <td>...</td>\n",
       "      <td>...</td>\n",
       "      <td>...</td>\n",
       "      <td>...</td>\n",
       "      <td>...</td>\n",
       "      <td>...</td>\n",
       "      <td>...</td>\n",
       "      <td>...</td>\n",
       "      <td>...</td>\n",
       "      <td>...</td>\n",
       "      <td>...</td>\n",
       "      <td>...</td>\n",
       "    </tr>\n",
       "    <tr>\n",
       "      <th>3211</th>\n",
       "      <td>9.0</td>\n",
       "      <td>1489</td>\n",
       "      <td>0.0</td>\n",
       "      <td>0.0</td>\n",
       "      <td>32.0</td>\n",
       "      <td>17.0</td>\n",
       "      <td>smart</td>\n",
       "      <td>Санкт-Петербург</td>\n",
       "      <td>50</td>\n",
       "      <td>15360</td>\n",
       "      <td>500</td>\n",
       "      <td>550</td>\n",
       "      <td>200</td>\n",
       "      <td>3</td>\n",
       "      <td>3</td>\n",
       "      <td>0.0</td>\n",
       "      <td>0.0</td>\n",
       "      <td>15.0</td>\n",
       "      <td>2.0</td>\n",
       "    </tr>\n",
       "    <tr>\n",
       "      <th>3212</th>\n",
       "      <td>10.0</td>\n",
       "      <td>1489</td>\n",
       "      <td>0.0</td>\n",
       "      <td>0.0</td>\n",
       "      <td>21.0</td>\n",
       "      <td>20.0</td>\n",
       "      <td>smart</td>\n",
       "      <td>Санкт-Петербург</td>\n",
       "      <td>50</td>\n",
       "      <td>15360</td>\n",
       "      <td>500</td>\n",
       "      <td>550</td>\n",
       "      <td>200</td>\n",
       "      <td>3</td>\n",
       "      <td>3</td>\n",
       "      <td>0.0</td>\n",
       "      <td>0.0</td>\n",
       "      <td>15.0</td>\n",
       "      <td>5.0</td>\n",
       "    </tr>\n",
       "    <tr>\n",
       "      <th>3213</th>\n",
       "      <td>11.0</td>\n",
       "      <td>1489</td>\n",
       "      <td>0.0</td>\n",
       "      <td>0.0</td>\n",
       "      <td>20.0</td>\n",
       "      <td>18.0</td>\n",
       "      <td>smart</td>\n",
       "      <td>Санкт-Петербург</td>\n",
       "      <td>50</td>\n",
       "      <td>15360</td>\n",
       "      <td>500</td>\n",
       "      <td>550</td>\n",
       "      <td>200</td>\n",
       "      <td>3</td>\n",
       "      <td>3</td>\n",
       "      <td>0.0</td>\n",
       "      <td>0.0</td>\n",
       "      <td>15.0</td>\n",
       "      <td>3.0</td>\n",
       "    </tr>\n",
       "    <tr>\n",
       "      <th>3214</th>\n",
       "      <td>12.0</td>\n",
       "      <td>1489</td>\n",
       "      <td>0.0</td>\n",
       "      <td>0.0</td>\n",
       "      <td>35.0</td>\n",
       "      <td>17.0</td>\n",
       "      <td>smart</td>\n",
       "      <td>Санкт-Петербург</td>\n",
       "      <td>50</td>\n",
       "      <td>15360</td>\n",
       "      <td>500</td>\n",
       "      <td>550</td>\n",
       "      <td>200</td>\n",
       "      <td>3</td>\n",
       "      <td>3</td>\n",
       "      <td>0.0</td>\n",
       "      <td>0.0</td>\n",
       "      <td>15.0</td>\n",
       "      <td>2.0</td>\n",
       "    </tr>\n",
       "    <tr>\n",
       "      <th>3215</th>\n",
       "      <td>0.0</td>\n",
       "      <td>1371</td>\n",
       "      <td>0.0</td>\n",
       "      <td>0.0</td>\n",
       "      <td>0.0</td>\n",
       "      <td>0.0</td>\n",
       "      <td>smart</td>\n",
       "      <td>Омск</td>\n",
       "      <td>50</td>\n",
       "      <td>15360</td>\n",
       "      <td>500</td>\n",
       "      <td>550</td>\n",
       "      <td>200</td>\n",
       "      <td>3</td>\n",
       "      <td>3</td>\n",
       "      <td>0.0</td>\n",
       "      <td>0.0</td>\n",
       "      <td>15.0</td>\n",
       "      <td>0.0</td>\n",
       "    </tr>\n",
       "  </tbody>\n",
       "</table>\n",
       "<p>3216 rows × 19 columns</p>\n",
       "</div>"
      ],
      "text/plain": [
       "      month  user_id  calls_count  calls_sum  messages_count  internet_sum  \\\n",
       "0       5.0     1000         22.0      159.0            22.0           3.0   \n",
       "1       6.0     1000         43.0      172.0            60.0          23.0   \n",
       "2       7.0     1000         47.0      340.0            75.0          14.0   \n",
       "3       8.0     1000         52.0      408.0            81.0          14.0   \n",
       "4       9.0     1000         58.0      466.0            57.0          15.0   \n",
       "...     ...      ...          ...        ...             ...           ...   \n",
       "3211    9.0     1489          0.0        0.0            32.0          17.0   \n",
       "3212   10.0     1489          0.0        0.0            21.0          20.0   \n",
       "3213   11.0     1489          0.0        0.0            20.0          18.0   \n",
       "3214   12.0     1489          0.0        0.0            35.0          17.0   \n",
       "3215    0.0     1371          0.0        0.0             0.0           0.0   \n",
       "\n",
       "     tariff_name             city  messages_included  mb_per_month_included  \\\n",
       "0          ultra        Краснодар               1000                  30720   \n",
       "1          ultra        Краснодар               1000                  30720   \n",
       "2          ultra        Краснодар               1000                  30720   \n",
       "3          ultra        Краснодар               1000                  30720   \n",
       "4          ultra        Краснодар               1000                  30720   \n",
       "...          ...              ...                ...                    ...   \n",
       "3211       smart  Санкт-Петербург                 50                  15360   \n",
       "3212       smart  Санкт-Петербург                 50                  15360   \n",
       "3213       smart  Санкт-Петербург                 50                  15360   \n",
       "3214       smart  Санкт-Петербург                 50                  15360   \n",
       "3215       smart             Омск                 50                  15360   \n",
       "\n",
       "      minutes_included  rub_monthly_fee  rub_per_gb  rub_per_message  \\\n",
       "0                 3000             1950         150                1   \n",
       "1                 3000             1950         150                1   \n",
       "2                 3000             1950         150                1   \n",
       "3                 3000             1950         150                1   \n",
       "4                 3000             1950         150                1   \n",
       "...                ...              ...         ...              ...   \n",
       "3211               500              550         200                3   \n",
       "3212               500              550         200                3   \n",
       "3213               500              550         200                3   \n",
       "3214               500              550         200                3   \n",
       "3215               500              550         200                3   \n",
       "\n",
       "      rub_per_minute  minutes_calls_sverhtarifa  messages_sverhtarifa  \\\n",
       "0                  1                        0.0                   0.0   \n",
       "1                  1                        0.0                   0.0   \n",
       "2                  1                        0.0                   0.0   \n",
       "3                  1                        0.0                   0.0   \n",
       "4                  1                        0.0                   0.0   \n",
       "...              ...                        ...                   ...   \n",
       "3211               3                        0.0                   0.0   \n",
       "3212               3                        0.0                   0.0   \n",
       "3213               3                        0.0                   0.0   \n",
       "3214               3                        0.0                   0.0   \n",
       "3215               3                        0.0                   0.0   \n",
       "\n",
       "      gb_per_month_included  internet_sverhtarifa_gb  \n",
       "0                      30.0                      0.0  \n",
       "1                      30.0                      0.0  \n",
       "2                      30.0                      0.0  \n",
       "3                      30.0                      0.0  \n",
       "4                      30.0                      0.0  \n",
       "...                     ...                      ...  \n",
       "3211                   15.0                      2.0  \n",
       "3212                   15.0                      5.0  \n",
       "3213                   15.0                      3.0  \n",
       "3214                   15.0                      2.0  \n",
       "3215                   15.0                      0.0  \n",
       "\n",
       "[3216 rows x 19 columns]"
      ]
     },
     "metadata": {},
     "output_type": "display_data"
    }
   ],
   "source": [
    "\n",
    "\n",
    "def minutes_calls_sverhtarifa_1(row):\n",
    "\n",
    "    income = row['minutes_calls_sverhtarifa']\n",
    "    if income <= 0:\n",
    "        return 0  \n",
    "    if income > 0:\n",
    "        return row['minutes_calls_sverhtarifa']\n",
    "        \n",
    "users_profil_tariff['minutes_calls_sverhtarifa'] = users_profil_tariff.apply(minutes_calls_sverhtarifa_1, axis=1)\n",
    "\n",
    "\n",
    "def messages_sverhtarifa_1(row):\n",
    "\n",
    "    income = row['messages_sverhtarifa']\n",
    "    if income <= 0:\n",
    "        return 0  \n",
    "    if income > 0:\n",
    "        return row['messages_sverhtarifa']\n",
    "        \n",
    "users_profil_tariff['messages_sverhtarifa'] = users_profil_tariff.apply(messages_sverhtarifa_1, axis=1)\n",
    "\n",
    "\n",
    "def internet_sverhtarifa_gb_1(row):\n",
    "\n",
    "    income = row['internet_sverhtarifa_gb']\n",
    "    if income <= 0:\n",
    "        return 0  \n",
    "    if income > 0:\n",
    "        return row['internet_sverhtarifa_gb']\n",
    "        \n",
    "users_profil_tariff['internet_sverhtarifa_gb'] = users_profil_tariff.apply(internet_sverhtarifa_gb_1, axis=1)\n",
    "\n",
    "display(users_profil_tariff)\n"
   ]
  },
  {
   "cell_type": "code",
   "execution_count": 16,
   "metadata": {},
   "outputs": [
    {
     "data": {
      "text/html": [
       "<div>\n",
       "<style scoped>\n",
       "    .dataframe tbody tr th:only-of-type {\n",
       "        vertical-align: middle;\n",
       "    }\n",
       "\n",
       "    .dataframe tbody tr th {\n",
       "        vertical-align: top;\n",
       "    }\n",
       "\n",
       "    .dataframe thead th {\n",
       "        text-align: right;\n",
       "    }\n",
       "</style>\n",
       "<table border=\"1\" class=\"dataframe\">\n",
       "  <thead>\n",
       "    <tr style=\"text-align: right;\">\n",
       "      <th></th>\n",
       "      <th>month</th>\n",
       "      <th>user_id</th>\n",
       "      <th>calls_count</th>\n",
       "      <th>calls_sum</th>\n",
       "      <th>messages_count</th>\n",
       "      <th>internet_sum</th>\n",
       "      <th>tariff_name</th>\n",
       "      <th>city</th>\n",
       "      <th>messages_included</th>\n",
       "      <th>mb_per_month_included</th>\n",
       "      <th>...</th>\n",
       "      <th>rub_per_minute</th>\n",
       "      <th>minutes_calls_sverhtarifa</th>\n",
       "      <th>messages_sverhtarifa</th>\n",
       "      <th>gb_per_month_included</th>\n",
       "      <th>internet_sverhtarifa_gb</th>\n",
       "      <th>deneg_minutes_calls</th>\n",
       "      <th>deneg_messages</th>\n",
       "      <th>deneg_internet</th>\n",
       "      <th>deneg_sverh_tariff</th>\n",
       "      <th>deneg_vsego</th>\n",
       "    </tr>\n",
       "  </thead>\n",
       "  <tbody>\n",
       "    <tr>\n",
       "      <th>0</th>\n",
       "      <td>5.0</td>\n",
       "      <td>1000</td>\n",
       "      <td>22.0</td>\n",
       "      <td>159.0</td>\n",
       "      <td>22.0</td>\n",
       "      <td>3.0</td>\n",
       "      <td>ultra</td>\n",
       "      <td>Краснодар</td>\n",
       "      <td>1000</td>\n",
       "      <td>30720</td>\n",
       "      <td>...</td>\n",
       "      <td>1</td>\n",
       "      <td>0.0</td>\n",
       "      <td>0.0</td>\n",
       "      <td>30.0</td>\n",
       "      <td>0.0</td>\n",
       "      <td>0.0</td>\n",
       "      <td>0.0</td>\n",
       "      <td>0.0</td>\n",
       "      <td>0.0</td>\n",
       "      <td>1950.0</td>\n",
       "    </tr>\n",
       "    <tr>\n",
       "      <th>1</th>\n",
       "      <td>6.0</td>\n",
       "      <td>1000</td>\n",
       "      <td>43.0</td>\n",
       "      <td>172.0</td>\n",
       "      <td>60.0</td>\n",
       "      <td>23.0</td>\n",
       "      <td>ultra</td>\n",
       "      <td>Краснодар</td>\n",
       "      <td>1000</td>\n",
       "      <td>30720</td>\n",
       "      <td>...</td>\n",
       "      <td>1</td>\n",
       "      <td>0.0</td>\n",
       "      <td>0.0</td>\n",
       "      <td>30.0</td>\n",
       "      <td>0.0</td>\n",
       "      <td>0.0</td>\n",
       "      <td>0.0</td>\n",
       "      <td>0.0</td>\n",
       "      <td>0.0</td>\n",
       "      <td>1950.0</td>\n",
       "    </tr>\n",
       "    <tr>\n",
       "      <th>2</th>\n",
       "      <td>7.0</td>\n",
       "      <td>1000</td>\n",
       "      <td>47.0</td>\n",
       "      <td>340.0</td>\n",
       "      <td>75.0</td>\n",
       "      <td>14.0</td>\n",
       "      <td>ultra</td>\n",
       "      <td>Краснодар</td>\n",
       "      <td>1000</td>\n",
       "      <td>30720</td>\n",
       "      <td>...</td>\n",
       "      <td>1</td>\n",
       "      <td>0.0</td>\n",
       "      <td>0.0</td>\n",
       "      <td>30.0</td>\n",
       "      <td>0.0</td>\n",
       "      <td>0.0</td>\n",
       "      <td>0.0</td>\n",
       "      <td>0.0</td>\n",
       "      <td>0.0</td>\n",
       "      <td>1950.0</td>\n",
       "    </tr>\n",
       "    <tr>\n",
       "      <th>3</th>\n",
       "      <td>8.0</td>\n",
       "      <td>1000</td>\n",
       "      <td>52.0</td>\n",
       "      <td>408.0</td>\n",
       "      <td>81.0</td>\n",
       "      <td>14.0</td>\n",
       "      <td>ultra</td>\n",
       "      <td>Краснодар</td>\n",
       "      <td>1000</td>\n",
       "      <td>30720</td>\n",
       "      <td>...</td>\n",
       "      <td>1</td>\n",
       "      <td>0.0</td>\n",
       "      <td>0.0</td>\n",
       "      <td>30.0</td>\n",
       "      <td>0.0</td>\n",
       "      <td>0.0</td>\n",
       "      <td>0.0</td>\n",
       "      <td>0.0</td>\n",
       "      <td>0.0</td>\n",
       "      <td>1950.0</td>\n",
       "    </tr>\n",
       "    <tr>\n",
       "      <th>4</th>\n",
       "      <td>9.0</td>\n",
       "      <td>1000</td>\n",
       "      <td>58.0</td>\n",
       "      <td>466.0</td>\n",
       "      <td>57.0</td>\n",
       "      <td>15.0</td>\n",
       "      <td>ultra</td>\n",
       "      <td>Краснодар</td>\n",
       "      <td>1000</td>\n",
       "      <td>30720</td>\n",
       "      <td>...</td>\n",
       "      <td>1</td>\n",
       "      <td>0.0</td>\n",
       "      <td>0.0</td>\n",
       "      <td>30.0</td>\n",
       "      <td>0.0</td>\n",
       "      <td>0.0</td>\n",
       "      <td>0.0</td>\n",
       "      <td>0.0</td>\n",
       "      <td>0.0</td>\n",
       "      <td>1950.0</td>\n",
       "    </tr>\n",
       "    <tr>\n",
       "      <th>...</th>\n",
       "      <td>...</td>\n",
       "      <td>...</td>\n",
       "      <td>...</td>\n",
       "      <td>...</td>\n",
       "      <td>...</td>\n",
       "      <td>...</td>\n",
       "      <td>...</td>\n",
       "      <td>...</td>\n",
       "      <td>...</td>\n",
       "      <td>...</td>\n",
       "      <td>...</td>\n",
       "      <td>...</td>\n",
       "      <td>...</td>\n",
       "      <td>...</td>\n",
       "      <td>...</td>\n",
       "      <td>...</td>\n",
       "      <td>...</td>\n",
       "      <td>...</td>\n",
       "      <td>...</td>\n",
       "      <td>...</td>\n",
       "      <td>...</td>\n",
       "    </tr>\n",
       "    <tr>\n",
       "      <th>3211</th>\n",
       "      <td>9.0</td>\n",
       "      <td>1489</td>\n",
       "      <td>0.0</td>\n",
       "      <td>0.0</td>\n",
       "      <td>32.0</td>\n",
       "      <td>17.0</td>\n",
       "      <td>smart</td>\n",
       "      <td>Санкт-Петербург</td>\n",
       "      <td>50</td>\n",
       "      <td>15360</td>\n",
       "      <td>...</td>\n",
       "      <td>3</td>\n",
       "      <td>0.0</td>\n",
       "      <td>0.0</td>\n",
       "      <td>15.0</td>\n",
       "      <td>2.0</td>\n",
       "      <td>0.0</td>\n",
       "      <td>0.0</td>\n",
       "      <td>400.0</td>\n",
       "      <td>400.0</td>\n",
       "      <td>950.0</td>\n",
       "    </tr>\n",
       "    <tr>\n",
       "      <th>3212</th>\n",
       "      <td>10.0</td>\n",
       "      <td>1489</td>\n",
       "      <td>0.0</td>\n",
       "      <td>0.0</td>\n",
       "      <td>21.0</td>\n",
       "      <td>20.0</td>\n",
       "      <td>smart</td>\n",
       "      <td>Санкт-Петербург</td>\n",
       "      <td>50</td>\n",
       "      <td>15360</td>\n",
       "      <td>...</td>\n",
       "      <td>3</td>\n",
       "      <td>0.0</td>\n",
       "      <td>0.0</td>\n",
       "      <td>15.0</td>\n",
       "      <td>5.0</td>\n",
       "      <td>0.0</td>\n",
       "      <td>0.0</td>\n",
       "      <td>1000.0</td>\n",
       "      <td>1000.0</td>\n",
       "      <td>1550.0</td>\n",
       "    </tr>\n",
       "    <tr>\n",
       "      <th>3213</th>\n",
       "      <td>11.0</td>\n",
       "      <td>1489</td>\n",
       "      <td>0.0</td>\n",
       "      <td>0.0</td>\n",
       "      <td>20.0</td>\n",
       "      <td>18.0</td>\n",
       "      <td>smart</td>\n",
       "      <td>Санкт-Петербург</td>\n",
       "      <td>50</td>\n",
       "      <td>15360</td>\n",
       "      <td>...</td>\n",
       "      <td>3</td>\n",
       "      <td>0.0</td>\n",
       "      <td>0.0</td>\n",
       "      <td>15.0</td>\n",
       "      <td>3.0</td>\n",
       "      <td>0.0</td>\n",
       "      <td>0.0</td>\n",
       "      <td>600.0</td>\n",
       "      <td>600.0</td>\n",
       "      <td>1150.0</td>\n",
       "    </tr>\n",
       "    <tr>\n",
       "      <th>3214</th>\n",
       "      <td>12.0</td>\n",
       "      <td>1489</td>\n",
       "      <td>0.0</td>\n",
       "      <td>0.0</td>\n",
       "      <td>35.0</td>\n",
       "      <td>17.0</td>\n",
       "      <td>smart</td>\n",
       "      <td>Санкт-Петербург</td>\n",
       "      <td>50</td>\n",
       "      <td>15360</td>\n",
       "      <td>...</td>\n",
       "      <td>3</td>\n",
       "      <td>0.0</td>\n",
       "      <td>0.0</td>\n",
       "      <td>15.0</td>\n",
       "      <td>2.0</td>\n",
       "      <td>0.0</td>\n",
       "      <td>0.0</td>\n",
       "      <td>400.0</td>\n",
       "      <td>400.0</td>\n",
       "      <td>950.0</td>\n",
       "    </tr>\n",
       "    <tr>\n",
       "      <th>3215</th>\n",
       "      <td>0.0</td>\n",
       "      <td>1371</td>\n",
       "      <td>0.0</td>\n",
       "      <td>0.0</td>\n",
       "      <td>0.0</td>\n",
       "      <td>0.0</td>\n",
       "      <td>smart</td>\n",
       "      <td>Омск</td>\n",
       "      <td>50</td>\n",
       "      <td>15360</td>\n",
       "      <td>...</td>\n",
       "      <td>3</td>\n",
       "      <td>0.0</td>\n",
       "      <td>0.0</td>\n",
       "      <td>15.0</td>\n",
       "      <td>0.0</td>\n",
       "      <td>0.0</td>\n",
       "      <td>0.0</td>\n",
       "      <td>0.0</td>\n",
       "      <td>0.0</td>\n",
       "      <td>550.0</td>\n",
       "    </tr>\n",
       "  </tbody>\n",
       "</table>\n",
       "<p>3216 rows × 24 columns</p>\n",
       "</div>"
      ],
      "text/plain": [
       "      month  user_id  calls_count  calls_sum  messages_count  internet_sum  \\\n",
       "0       5.0     1000         22.0      159.0            22.0           3.0   \n",
       "1       6.0     1000         43.0      172.0            60.0          23.0   \n",
       "2       7.0     1000         47.0      340.0            75.0          14.0   \n",
       "3       8.0     1000         52.0      408.0            81.0          14.0   \n",
       "4       9.0     1000         58.0      466.0            57.0          15.0   \n",
       "...     ...      ...          ...        ...             ...           ...   \n",
       "3211    9.0     1489          0.0        0.0            32.0          17.0   \n",
       "3212   10.0     1489          0.0        0.0            21.0          20.0   \n",
       "3213   11.0     1489          0.0        0.0            20.0          18.0   \n",
       "3214   12.0     1489          0.0        0.0            35.0          17.0   \n",
       "3215    0.0     1371          0.0        0.0             0.0           0.0   \n",
       "\n",
       "     tariff_name             city  messages_included  mb_per_month_included  \\\n",
       "0          ultra        Краснодар               1000                  30720   \n",
       "1          ultra        Краснодар               1000                  30720   \n",
       "2          ultra        Краснодар               1000                  30720   \n",
       "3          ultra        Краснодар               1000                  30720   \n",
       "4          ultra        Краснодар               1000                  30720   \n",
       "...          ...              ...                ...                    ...   \n",
       "3211       smart  Санкт-Петербург                 50                  15360   \n",
       "3212       smart  Санкт-Петербург                 50                  15360   \n",
       "3213       smart  Санкт-Петербург                 50                  15360   \n",
       "3214       smart  Санкт-Петербург                 50                  15360   \n",
       "3215       smart             Омск                 50                  15360   \n",
       "\n",
       "      ...  rub_per_minute  minutes_calls_sverhtarifa  messages_sverhtarifa  \\\n",
       "0     ...               1                        0.0                   0.0   \n",
       "1     ...               1                        0.0                   0.0   \n",
       "2     ...               1                        0.0                   0.0   \n",
       "3     ...               1                        0.0                   0.0   \n",
       "4     ...               1                        0.0                   0.0   \n",
       "...   ...             ...                        ...                   ...   \n",
       "3211  ...               3                        0.0                   0.0   \n",
       "3212  ...               3                        0.0                   0.0   \n",
       "3213  ...               3                        0.0                   0.0   \n",
       "3214  ...               3                        0.0                   0.0   \n",
       "3215  ...               3                        0.0                   0.0   \n",
       "\n",
       "      gb_per_month_included  internet_sverhtarifa_gb  deneg_minutes_calls  \\\n",
       "0                      30.0                      0.0                  0.0   \n",
       "1                      30.0                      0.0                  0.0   \n",
       "2                      30.0                      0.0                  0.0   \n",
       "3                      30.0                      0.0                  0.0   \n",
       "4                      30.0                      0.0                  0.0   \n",
       "...                     ...                      ...                  ...   \n",
       "3211                   15.0                      2.0                  0.0   \n",
       "3212                   15.0                      5.0                  0.0   \n",
       "3213                   15.0                      3.0                  0.0   \n",
       "3214                   15.0                      2.0                  0.0   \n",
       "3215                   15.0                      0.0                  0.0   \n",
       "\n",
       "      deneg_messages  deneg_internet  deneg_sverh_tariff  deneg_vsego  \n",
       "0                0.0             0.0                 0.0       1950.0  \n",
       "1                0.0             0.0                 0.0       1950.0  \n",
       "2                0.0             0.0                 0.0       1950.0  \n",
       "3                0.0             0.0                 0.0       1950.0  \n",
       "4                0.0             0.0                 0.0       1950.0  \n",
       "...              ...             ...                 ...          ...  \n",
       "3211             0.0           400.0               400.0        950.0  \n",
       "3212             0.0          1000.0              1000.0       1550.0  \n",
       "3213             0.0           600.0               600.0       1150.0  \n",
       "3214             0.0           400.0               400.0        950.0  \n",
       "3215             0.0             0.0                 0.0        550.0  \n",
       "\n",
       "[3216 rows x 24 columns]"
      ]
     },
     "metadata": {},
     "output_type": "display_data"
    }
   ],
   "source": [
    "#помесячную выручку с каждого пользователя, остаток умножьте на значение из тарифного плана; \n",
    "#прибавьте абонентскую плату, соответствующую тарифному плану.\n",
    "users_profil_tariff['deneg_minutes_calls'] = users_profil_tariff['minutes_calls_sverhtarifa']*users_profil_tariff['rub_per_minute']\n",
    "        \n",
    "users_profil_tariff['deneg_messages'] =users_profil_tariff['messages_sverhtarifa']*users_profil_tariff['rub_per_message']\n",
    "       \n",
    "users_profil_tariff['deneg_internet'] =users_profil_tariff['internet_sverhtarifa_gb']*users_profil_tariff['rub_per_gb']\n",
    "users_profil_tariff['deneg_sverh_tariff'] =users_profil_tariff['deneg_internet']+users_profil_tariff['deneg_messages'] + users_profil_tariff['deneg_minutes_calls']\n",
    "users_profil_tariff['deneg_vsego'] =users_profil_tariff['deneg_internet']+users_profil_tariff['deneg_messages'] + users_profil_tariff['deneg_minutes_calls'] + users_profil_tariff['rub_monthly_fee']\n",
    "display(users_profil_tariff)\n"
   ]
  },
  {
   "cell_type": "markdown",
   "metadata": {},
   "source": [
    "## Шаг  Проанализируйте данные\n",
    "Опишите поведение клиентов оператора, исходя из выборки. Сколько минут разговора, сколько сообщений и какой объём интернет-трафика требуется пользователям каждого тарифа в месяц? Посчитайте среднее количество, дисперсию и стандартное отклонение. Постройте гистограммы. Опишите распределения."
   ]
  },
  {
   "cell_type": "code",
   "execution_count": 17,
   "metadata": {},
   "outputs": [
    {
     "data": {
      "text/html": [
       "<div>\n",
       "<style scoped>\n",
       "    .dataframe tbody tr th:only-of-type {\n",
       "        vertical-align: middle;\n",
       "    }\n",
       "\n",
       "    .dataframe tbody tr th {\n",
       "        vertical-align: top;\n",
       "    }\n",
       "\n",
       "    .dataframe thead tr th {\n",
       "        text-align: left;\n",
       "    }\n",
       "\n",
       "    .dataframe thead tr:last-of-type th {\n",
       "        text-align: right;\n",
       "    }\n",
       "</style>\n",
       "<table border=\"1\" class=\"dataframe\">\n",
       "  <thead>\n",
       "    <tr>\n",
       "      <th></th>\n",
       "      <th colspan=\"3\" halign=\"left\">mean</th>\n",
       "      <th colspan=\"3\" halign=\"left\">median</th>\n",
       "    </tr>\n",
       "    <tr>\n",
       "      <th></th>\n",
       "      <th>calls_sum</th>\n",
       "      <th>internet_sum</th>\n",
       "      <th>messages_count</th>\n",
       "      <th>calls_sum</th>\n",
       "      <th>internet_sum</th>\n",
       "      <th>messages_count</th>\n",
       "    </tr>\n",
       "    <tr>\n",
       "      <th>tariff_name</th>\n",
       "      <th></th>\n",
       "      <th></th>\n",
       "      <th></th>\n",
       "      <th></th>\n",
       "      <th></th>\n",
       "      <th></th>\n",
       "    </tr>\n",
       "  </thead>\n",
       "  <tbody>\n",
       "    <tr>\n",
       "      <th>smart</th>\n",
       "      <td>417.747534</td>\n",
       "      <td>16.321525</td>\n",
       "      <td>33.369058</td>\n",
       "      <td>421.5</td>\n",
       "      <td>17.0</td>\n",
       "      <td>28.0</td>\n",
       "    </tr>\n",
       "    <tr>\n",
       "      <th>ultra</th>\n",
       "      <td>526.089249</td>\n",
       "      <td>19.474645</td>\n",
       "      <td>49.313387</td>\n",
       "      <td>518.0</td>\n",
       "      <td>19.0</td>\n",
       "      <td>38.0</td>\n",
       "    </tr>\n",
       "  </tbody>\n",
       "</table>\n",
       "</div>"
      ],
      "text/plain": [
       "                   mean                                median               \\\n",
       "              calls_sum internet_sum messages_count calls_sum internet_sum   \n",
       "tariff_name                                                                  \n",
       "smart        417.747534    16.321525      33.369058     421.5         17.0   \n",
       "ultra        526.089249    19.474645      49.313387     518.0         19.0   \n",
       "\n",
       "                            \n",
       "            messages_count  \n",
       "tariff_name                 \n",
       "smart                 28.0  \n",
       "ultra                 38.0  "
      ]
     },
     "metadata": {},
     "output_type": "display_data"
    },
    {
     "data": {
      "text/plain": [
       "<AxesSubplot:>"
      ]
     },
     "execution_count": 17,
     "metadata": {},
     "output_type": "execute_result"
    },
    {
     "data": {
      "image/png": "[encoded data removed]",
      "text/plain": [
       "<Figure size 432x288 with 1 Axes>"
      ]
     },
     "metadata": {
      "needs_background": "light"
     },
     "output_type": "display_data"
    }
   ],
   "source": [
    "users_profil_ultra= users_profil_tariff.query('tariff_name == \"ultra\"')\n",
    "users_profil_smart= users_profil_tariff.query('tariff_name == \"smart\"')\n",
    "\n",
    "test = users_profil_tariff.pivot_table(index = ['tariff_name'],  values = ['calls_sum', 'messages_count', 'internet_sum'], aggfunc = ['mean','median'])\n",
    "#test.columns = ['count','mean','median']\n",
    "display(test)\n",
    "test.boxplot()\n",
    "\n",
    "#display(users_profil_ultra['calls_sum'].value_counts()) "
   ]
  },
  {
   "cell_type": "code",
   "execution_count": 18,
   "metadata": {},
   "outputs": [
    {
     "data": {
      "image/png": "[encoded data removed]",
      "text/plain": [
       "<Figure size 432x288 with 1 Axes>"
      ]
     },
     "metadata": {
      "needs_background": "light"
     },
     "output_type": "display_data"
    },
    {
     "data": {
      "text/plain": [
       "count    2230.000000\n",
       "mean      417.747534\n",
       "std       190.476754\n",
       "min         0.000000\n",
       "25%       282.000000\n",
       "50%       421.500000\n",
       "75%       545.000000\n",
       "max      1435.000000\n",
       "Name: calls_sum, dtype: float64"
      ]
     },
     "execution_count": 18,
     "metadata": {},
     "output_type": "execute_result"
    }
   ],
   "source": [
    "users_profil_tariff.boxplot(by = 'tariff_name', column='calls_sum')\n",
    "plt.show()\n",
    "\n",
    "users_profil_smart['calls_sum'].describe()  \n"
   ]
  },
  {
   "cell_type": "code",
   "execution_count": 19,
   "metadata": {},
   "outputs": [
    {
     "data": {
      "text/plain": [
       "count     986.000000\n",
       "mean      526.089249\n",
       "std       317.887549\n",
       "min         0.000000\n",
       "25%       282.500000\n",
       "50%       518.000000\n",
       "75%       751.750000\n",
       "max      1673.000000\n",
       "Name: calls_sum, dtype: float64"
      ]
     },
     "execution_count": 19,
     "metadata": {},
     "output_type": "execute_result"
    }
   ],
   "source": [
    "users_profil_ultra['calls_sum'].describe() "
   ]
  },
  {
   "cell_type": "code",
   "execution_count": 20,
   "metadata": {},
   "outputs": [
    {
     "data": {
      "text/plain": [
       "'Дисперсия выборки минут разговора ultra '"
      ]
     },
     "metadata": {},
     "output_type": "display_data"
    },
    {
     "data": {
      "text/plain": [
       "101052.49354928387"
      ]
     },
     "metadata": {},
     "output_type": "display_data"
    },
    {
     "data": {
      "text/plain": [
       "'Дисперсия выборки минут разговора smart'"
      ]
     },
     "metadata": {},
     "output_type": "display_data"
    },
    {
     "data": {
      "text/plain": [
       "36281.39383644458"
      ]
     },
     "metadata": {},
     "output_type": "display_data"
    },
    {
     "data": {
      "text/plain": [
       "'Стандартное отклонение выборки минут разговора ultra'"
      ]
     },
     "metadata": {},
     "output_type": "display_data"
    },
    {
     "data": {
      "text/plain": [
       "317.8875485911392"
      ]
     },
     "metadata": {},
     "output_type": "display_data"
    },
    {
     "data": {
      "text/plain": [
       "'Стандартное отклонение выборки минут разговора smart'"
      ]
     },
     "metadata": {},
     "output_type": "display_data"
    },
    {
     "data": {
      "text/plain": [
       "190.4767540579285"
      ]
     },
     "metadata": {},
     "output_type": "display_data"
    },
    {
     "data": {
      "text/plain": [
       "'Среднее минут разговора ultra'"
      ]
     },
     "metadata": {},
     "output_type": "display_data"
    },
    {
     "data": {
      "text/plain": [
       "526.0892494929006"
      ]
     },
     "metadata": {},
     "output_type": "display_data"
    },
    {
     "data": {
      "text/plain": [
       "'Медиана минут разговора ultra'"
      ]
     },
     "metadata": {},
     "output_type": "display_data"
    },
    {
     "data": {
      "text/plain": [
       "518.0"
      ]
     },
     "metadata": {},
     "output_type": "display_data"
    },
    {
     "data": {
      "text/plain": [
       "'Среднее минут разговора smart'"
      ]
     },
     "metadata": {},
     "output_type": "display_data"
    },
    {
     "data": {
      "text/plain": [
       "417.747533632287"
      ]
     },
     "metadata": {},
     "output_type": "display_data"
    },
    {
     "data": {
      "text/plain": [
       "'Медиана минут разговора smart'"
      ]
     },
     "metadata": {},
     "output_type": "display_data"
    },
    {
     "data": {
      "text/plain": [
       "421.5"
      ]
     },
     "metadata": {},
     "output_type": "display_data"
    },
    {
     "data": {
      "text/plain": [
       "'MAX минут разговора ultra'"
      ]
     },
     "metadata": {},
     "output_type": "display_data"
    },
    {
     "data": {
      "text/plain": [
       "1673.0"
      ]
     },
     "metadata": {},
     "output_type": "display_data"
    },
    {
     "data": {
      "text/plain": [
       "'MAX минут разговора smart'"
      ]
     },
     "metadata": {},
     "output_type": "display_data"
    },
    {
     "data": {
      "text/plain": [
       "1435.0"
      ]
     },
     "metadata": {},
     "output_type": "display_data"
    },
    {
     "data": {
      "image/png": "[encoded data removed]",
      "text/plain": [
       "<Figure size 432x288 with 1 Axes>"
      ]
     },
     "metadata": {
      "needs_background": "light"
     },
     "output_type": "display_data"
    },
    {
     "data": {
      "image/png": "[encoded data removed]",
      "text/plain": [
       "<Figure size 432x288 with 1 Axes>"
      ]
     },
     "metadata": {
      "needs_background": "light"
     },
     "output_type": "display_data"
    },
    {
     "data": {
      "image/png": "[encoded data removed]",
      "text/plain": [
       "<Figure size 432x288 with 1 Axes>"
      ]
     },
     "metadata": {
      "needs_background": "light"
     },
     "output_type": "display_data"
    },
    {
     "data": {
      "image/png": "[encoded data removed]",
      "text/plain": [
       "<Figure size 432x288 with 1 Axes>"
      ]
     },
     "metadata": {
      "needs_background": "light"
     },
     "output_type": "display_data"
    }
   ],
   "source": [
    "# т.к. у нас выборка\n",
    "variance_estimate = np.var(users_profil_ultra['calls_sum'], ddof=1)\n",
    "display('Дисперсия выборки минут разговора ultra ', variance_estimate)  #дисперсия\n",
    "\n",
    "variance_estimate = np.var(users_profil_smart['calls_sum'], ddof=1)\n",
    "display('Дисперсия выборки минут разговора smart', variance_estimate)  #дисперсия\n",
    "\n",
    "\n",
    "standard_deviation = np.std(users_profil_ultra['calls_sum'], ddof=1)\n",
    "display ('Стандартное отклонение выборки минут разговора ultra', standard_deviation) #Стандартное отклонение\n",
    "\n",
    "standard_deviation = np.std(users_profil_smart['calls_sum'], ddof=1)\n",
    "display ('Стандартное отклонение выборки минут разговора smart', standard_deviation) #Стандартное отклонение\n",
    "\n",
    "display('Среднее минут разговора ultra',users_profil_ultra['calls_sum'].mean())\n",
    "display('Медиана минут разговора ultra',users_profil_ultra['calls_sum'].median()) \n",
    " \n",
    "display('Среднее минут разговора smart',users_profil_smart['calls_sum'].mean())\n",
    "display('Медиана минут разговора smart',users_profil_smart['calls_sum'].median()) \n",
    "\n",
    "display('MAX минут разговора ultra',users_profil_ultra['calls_sum'].max()) \n",
    " \n",
    "display('MAX минут разговора smart',users_profil_smart['calls_sum'].max())\n",
    "\n",
    "users_profil_ultra['calls_sum'].hist(bins=100, range=(users_profil_ultra['calls_sum'].min(), users_profil_ultra['calls_sum'].max()))\n",
    "plt.title('Сколько минут разговора ultra', fontsize=15)\n",
    "plt.xlabel('Минуты', fontsize=15, color='black') \n",
    "plt.ylabel('Кол-во человек', fontsize=15, color='black') \n",
    "plt.show()\n",
    "\n",
    "\n",
    "users_profil_smart['calls_sum'].hist(bins=100, range=(users_profil_smart['calls_sum'].min(), users_profil_smart['calls_sum'].max()))\n",
    "plt.title('Сколько минут разговора smart', fontsize=15)\n",
    "plt.xlabel('Минуты', fontsize=15, color='black') \n",
    "plt.ylabel('Кол-во человек', fontsize=15, color='black') \n",
    "plt.show()\n",
    "\n",
    "\n",
    "\n",
    "\n",
    "users_profil_ultra['deneg_minutes_calls'].hist(bins=100, range=(users_profil_ultra['deneg_minutes_calls'].min(), users_profil_ultra['deneg_minutes_calls'].max()))\n",
    "plt.title('Сколько сверх тарифа за минуты разговора ultra', fontsize=15)\n",
    "plt.xlabel('$', fontsize=15, color='black') \n",
    "plt.ylabel('Кол-во человек', fontsize=15, color='black') \n",
    "plt.show()\n",
    "\n",
    "\n",
    "users_profil_smart['deneg_minutes_calls'].hist(bins=100, range=(users_profil_smart['deneg_minutes_calls'].min(), users_profil_smart['deneg_minutes_calls'].max()))\n",
    "plt.title('Сколько сверх тарифа за минуты разговора smart', fontsize=15)\n",
    "plt.xlabel('$', fontsize=15, color='black') \n",
    "plt.ylabel('Кол-во человек', fontsize=15, color='black') \n",
    "plt.show()"
   ]
  },
  {
   "cell_type": "markdown",
   "metadata": {},
   "source": [
    "**Вывод**\n",
    "\n",
    "В тарифе ультра Включено 3000 минут разговора. мы видим что очень большой разброс по количеству минут при этом никто не выговаривает 3000. Основная масса клиентов использует до 800 минут. возможно нужно сократить количество минут и перенаправить их в обьем количество интернета. Никто из них не переплачивает за разговоры\n",
    "\n",
    "В тарифе смарт Включено 500 минут разговора, частенько люди выговаривают сверх - возможна им необходимо количества увеличения минут? до 50 человек переплачивают за дополнительные минуты в разном количестве\n",
    " "
   ]
  },
  {
   "cell_type": "code",
   "execution_count": 21,
   "metadata": {},
   "outputs": [
    {
     "data": {
      "text/plain": [
       "'Дисперсия выборки сообщений ultra '"
      ]
     },
     "metadata": {},
     "output_type": "display_data"
    },
    {
     "data": {
      "text/plain": [
       "2285.4174246558414"
      ]
     },
     "metadata": {},
     "output_type": "display_data"
    },
    {
     "data": {
      "text/plain": [
       "'Дисперсия выборки сообщений smart'"
      ]
     },
     "metadata": {},
     "output_type": "display_data"
    },
    {
     "data": {
      "text/plain": [
       "796.9552557301129"
      ]
     },
     "metadata": {},
     "output_type": "display_data"
    },
    {
     "data": {
      "text/plain": [
       "'Стандартное отклонение выборки сообщений ultra'"
      ]
     },
     "metadata": {},
     "output_type": "display_data"
    },
    {
     "data": {
      "text/plain": [
       "47.80603962530092"
      ]
     },
     "metadata": {},
     "output_type": "display_data"
    },
    {
     "data": {
      "text/plain": [
       "'Стандартное отклонение выборки сообщений smart'"
      ]
     },
     "metadata": {},
     "output_type": "display_data"
    },
    {
     "data": {
      "text/plain": [
       "28.230395954185852"
      ]
     },
     "metadata": {},
     "output_type": "display_data"
    },
    {
     "data": {
      "text/plain": [
       "'Среднее сообщений ultra'"
      ]
     },
     "metadata": {},
     "output_type": "display_data"
    },
    {
     "data": {
      "text/plain": [
       "49.31338742393509"
      ]
     },
     "metadata": {},
     "output_type": "display_data"
    },
    {
     "data": {
      "text/plain": [
       "'Медиана сообщений ultra'"
      ]
     },
     "metadata": {},
     "output_type": "display_data"
    },
    {
     "data": {
      "text/plain": [
       "38.0"
      ]
     },
     "metadata": {},
     "output_type": "display_data"
    },
    {
     "data": {
      "text/plain": [
       "'Среднее сообщений smart'"
      ]
     },
     "metadata": {},
     "output_type": "display_data"
    },
    {
     "data": {
      "text/plain": [
       "33.36905829596412"
      ]
     },
     "metadata": {},
     "output_type": "display_data"
    },
    {
     "data": {
      "text/plain": [
       "'Медиана сообщений smart'"
      ]
     },
     "metadata": {},
     "output_type": "display_data"
    },
    {
     "data": {
      "text/plain": [
       "28.0"
      ]
     },
     "metadata": {},
     "output_type": "display_data"
    },
    {
     "data": {
      "text/plain": [
       "'MAX сообщений ultra'"
      ]
     },
     "metadata": {},
     "output_type": "display_data"
    },
    {
     "data": {
      "text/plain": [
       "224.0"
      ]
     },
     "metadata": {},
     "output_type": "display_data"
    },
    {
     "data": {
      "text/plain": [
       "'MAX сообщений smart'"
      ]
     },
     "metadata": {},
     "output_type": "display_data"
    },
    {
     "data": {
      "text/plain": [
       "143.0"
      ]
     },
     "metadata": {},
     "output_type": "display_data"
    },
    {
     "data": {
      "image/png": "[encoded data removed]",
      "text/plain": [
       "<Figure size 432x288 with 1 Axes>"
      ]
     },
     "metadata": {
      "needs_background": "light"
     },
     "output_type": "display_data"
    },
    {
     "data": {
      "image/png": "[encoded data removed]",
      "text/plain": [
       "<Figure size 432x288 with 1 Axes>"
      ]
     },
     "metadata": {
      "needs_background": "light"
     },
     "output_type": "display_data"
    },
    {
     "data": {
      "image/png": "[encoded data removed]",
      "text/plain": [
       "<Figure size 432x288 with 1 Axes>"
      ]
     },
     "metadata": {
      "needs_background": "light"
     },
     "output_type": "display_data"
    },
    {
     "data": {
      "image/png": "[encoded data removed]",
      "text/plain": [
       "<Figure size 432x288 with 1 Axes>"
      ]
     },
     "metadata": {
      "needs_background": "light"
     },
     "output_type": "display_data"
    }
   ],
   "source": [
    "# т.к. у нас выборка\n",
    "variance_estimate = np.var(users_profil_ultra['messages_count'], ddof=1)\n",
    "display('Дисперсия выборки сообщений ultra ', variance_estimate)  #дисперсия\n",
    "\n",
    "variance_estimate = np.var(users_profil_smart['messages_count'], ddof=1)\n",
    "display('Дисперсия выборки сообщений smart', variance_estimate)  #дисперсия\n",
    "\n",
    "\n",
    "standard_deviation = np.std(users_profil_ultra['messages_count'], ddof=1)\n",
    "display ('Стандартное отклонение выборки сообщений ultra', standard_deviation) #Стандартное отклонение\n",
    "\n",
    "standard_deviation = np.std(users_profil_smart['messages_count'], ddof=1)\n",
    "display ('Стандартное отклонение выборки сообщений smart', standard_deviation) #Стандартное отклонение\n",
    "\n",
    "display('Среднее сообщений ultra',users_profil_ultra['messages_count'].mean())\n",
    "display('Медиана сообщений ultra',users_profil_ultra['messages_count'].median()) \n",
    " \n",
    "display('Среднее сообщений smart',users_profil_smart['messages_count'].mean())\n",
    "display('Медиана сообщений smart',users_profil_smart['messages_count'].median()) \n",
    "\n",
    "display('MAX сообщений ultra',users_profil_ultra['messages_count'].max()) \n",
    " \n",
    "display('MAX сообщений smart',users_profil_smart['messages_count'].max())\n",
    "\n",
    "users_profil_ultra['messages_count'].hist(bins=100, range=(users_profil_ultra['messages_count'].min(), users_profil_ultra['messages_count'].max()))\n",
    "plt.title('Сколько сообщений ultra', fontsize=15)\n",
    "plt.xlabel('Кол-во сообщении', fontsize=15, color='black') \n",
    "plt.ylabel('Кол-во человек', fontsize=15, color='black') \n",
    "plt.show()\n",
    "\n",
    "\n",
    "users_profil_smart['messages_count'].hist(bins=100, range=(users_profil_smart['messages_count'].min(), users_profil_smart['messages_count'].max()))\n",
    "plt.title('Сколько сообщений smart', fontsize=15)\n",
    "plt.xlabel('Кол-во сообщении', fontsize=15, color='black') \n",
    "plt.ylabel('Кол-во человек', fontsize=15, color='black') \n",
    "plt.show()\n",
    "\n",
    "users_profil_ultra['deneg_messages'].hist(bins=100, range=(users_profil_ultra['deneg_messages'].min(), users_profil_ultra['deneg_messages'].max()))\n",
    "plt.title('Сколько сверх тарифа за смс ultra', fontsize=15)\n",
    "plt.xlabel('$', fontsize=15, color='black') \n",
    "plt.ylabel('Кол-во человек', fontsize=15, color='black') \n",
    "plt.show()\n",
    "\n",
    "\n",
    "users_profil_smart['deneg_messages'].hist(bins=100, range=(users_profil_smart['deneg_messages'].min(), users_profil_smart['deneg_messages'].max()))\n",
    "plt.title('Сколько сверх тарифа за смс smart', fontsize=15)\n",
    "plt.xlabel('$', fontsize=15, color='black') \n",
    "plt.ylabel('Кол-во человек', fontsize=15, color='black') \n",
    "plt.show()"
   ]
  },
  {
   "cell_type": "markdown",
   "metadata": {},
   "source": [
    "**Вывод**\n",
    "ультра не используют вою 1000 сообщений им хватает до 200\n",
    "\n",
    "тогда как смарт активно использует сверх 50 пакетных сообщений \n"
   ]
  },
  {
   "cell_type": "code",
   "execution_count": 22,
   "metadata": {},
   "outputs": [
    {
     "data": {
      "text/plain": [
       "'Дисперсия выборки GB интернета ultra '"
      ]
     },
     "metadata": {},
     "output_type": "display_data"
    },
    {
     "data": {
      "text/plain": [
       "97.37854429011234"
      ]
     },
     "metadata": {},
     "output_type": "display_data"
    },
    {
     "data": {
      "text/plain": [
       "'Дисперсия выборки GB интернета smart'"
      ]
     },
     "metadata": {},
     "output_type": "display_data"
    },
    {
     "data": {
      "text/plain": [
       "33.133453035506285"
      ]
     },
     "metadata": {},
     "output_type": "display_data"
    },
    {
     "data": {
      "text/plain": [
       "'Стандартное отклонение выборки GB интернета ultra'"
      ]
     },
     "metadata": {},
     "output_type": "display_data"
    },
    {
     "data": {
      "text/plain": [
       "9.868056763624352"
      ]
     },
     "metadata": {},
     "output_type": "display_data"
    },
    {
     "data": {
      "text/plain": [
       "'Стандартное отклонение выборки GB интернета smart'"
      ]
     },
     "metadata": {},
     "output_type": "display_data"
    },
    {
     "data": {
      "text/plain": [
       "5.7561665225657155"
      ]
     },
     "metadata": {},
     "output_type": "display_data"
    },
    {
     "data": {
      "text/plain": [
       "'Среднее GB интернета ultra'"
      ]
     },
     "metadata": {},
     "output_type": "display_data"
    },
    {
     "data": {
      "text/plain": [
       "19.474645030425965"
      ]
     },
     "metadata": {},
     "output_type": "display_data"
    },
    {
     "data": {
      "text/plain": [
       "'Медиана GB интернета ultra'"
      ]
     },
     "metadata": {},
     "output_type": "display_data"
    },
    {
     "data": {
      "text/plain": [
       "19.0"
      ]
     },
     "metadata": {},
     "output_type": "display_data"
    },
    {
     "data": {
      "text/plain": [
       "'Среднее GB интернета smart'"
      ]
     },
     "metadata": {},
     "output_type": "display_data"
    },
    {
     "data": {
      "text/plain": [
       "16.32152466367713"
      ]
     },
     "metadata": {},
     "output_type": "display_data"
    },
    {
     "data": {
      "text/plain": [
       "'Медиана GB интернета smart'"
      ]
     },
     "metadata": {},
     "output_type": "display_data"
    },
    {
     "data": {
      "text/plain": [
       "17.0"
      ]
     },
     "metadata": {},
     "output_type": "display_data"
    },
    {
     "data": {
      "text/plain": [
       "'MAX GB интернета ultra'"
      ]
     },
     "metadata": {},
     "output_type": "display_data"
    },
    {
     "data": {
      "text/plain": [
       "49.0"
      ]
     },
     "metadata": {},
     "output_type": "display_data"
    },
    {
     "data": {
      "text/plain": [
       "'MAX GB интернета smart'"
      ]
     },
     "metadata": {},
     "output_type": "display_data"
    },
    {
     "data": {
      "text/plain": [
       "38.0"
      ]
     },
     "metadata": {},
     "output_type": "display_data"
    },
    {
     "data": {
      "image/png": "[encoded data removed]",
      "text/plain": [
       "<Figure size 432x288 with 1 Axes>"
      ]
     },
     "metadata": {
      "needs_background": "light"
     },
     "output_type": "display_data"
    },
    {
     "data": {
      "image/png": "[encoded data removed]",
      "text/plain": [
       "<Figure size 432x288 with 1 Axes>"
      ]
     },
     "metadata": {
      "needs_background": "light"
     },
     "output_type": "display_data"
    },
    {
     "data": {
      "image/png": "[encoded data removed]",
      "text/plain": [
       "<Figure size 432x288 with 1 Axes>"
      ]
     },
     "metadata": {
      "needs_background": "light"
     },
     "output_type": "display_data"
    },
    {
     "data": {
      "image/png": "[encoded data removed]",
      "text/plain": [
       "<Figure size 432x288 with 1 Axes>"
      ]
     },
     "metadata": {
      "needs_background": "light"
     },
     "output_type": "display_data"
    }
   ],
   "source": [
    "# т.к. у нас выборка\n",
    "variance_estimate = np.var(users_profil_ultra['internet_sum'], ddof=1)\n",
    "display('Дисперсия выборки GB интернета ultra ', variance_estimate)  #дисперсия\n",
    "\n",
    "variance_estimate = np.var(users_profil_smart['internet_sum'], ddof=1)\n",
    "display('Дисперсия выборки GB интернета smart', variance_estimate)  #дисперсия\n",
    "\n",
    "\n",
    "standard_deviation = np.std(users_profil_ultra['internet_sum'], ddof=1)\n",
    "display ('Стандартное отклонение выборки GB интернета ultra', standard_deviation) #Стандартное отклонение\n",
    "\n",
    "standard_deviation = np.std(users_profil_smart['internet_sum'], ddof=1)\n",
    "display ('Стандартное отклонение выборки GB интернета smart', standard_deviation) #Стандартное отклонение\n",
    "\n",
    "display('Среднее GB интернета ultra',users_profil_ultra['internet_sum'].mean())\n",
    "display('Медиана GB интернета ultra',users_profil_ultra['internet_sum'].median()) \n",
    " \n",
    "display('Среднее GB интернета smart',users_profil_smart['internet_sum'].mean())\n",
    "display('Медиана GB интернета smart',users_profil_smart['internet_sum'].median()) \n",
    "\n",
    "display('MAX GB интернета ultra',users_profil_ultra['internet_sum'].max()) \n",
    " \n",
    "display('MAX GB интернета smart',users_profil_smart['internet_sum'].max())\n",
    "\n",
    "users_profil_ultra['internet_sum'].hist(bins=100, range=(users_profil_ultra['internet_sum'].min(), users_profil_ultra['internet_sum'].max()))\n",
    "plt.title('Сколько GB интернета ultra', fontsize=15)\n",
    "plt.xlabel('GB', fontsize=15, color='black') \n",
    "plt.ylabel('Кол-во человек', fontsize=15, color='black') \n",
    "plt.show()\n",
    "\n",
    "\n",
    "users_profil_smart['internet_sum'].hist(bins=100, range=(users_profil_smart['internet_sum'].min(), users_profil_smart['internet_sum'].max()))\n",
    "plt.title('Сколько GB интернета smart', fontsize=15)\n",
    "plt.xlabel('GB', fontsize=15, color='black') \n",
    "plt.ylabel('Кол-во человек', fontsize=15, color='black') \n",
    "plt.show()\n",
    "\n",
    "\n",
    "\n",
    "users_profil_ultra['deneg_internet'].hist(bins=100, range=(users_profil_ultra['deneg_internet'].min(), users_profil_ultra['deneg_internet'].max()))\n",
    "plt.title('Сколько сверх тарифа за ГБ ultra', fontsize=15)\n",
    "plt.xlabel('$', fontsize=15, color='black') \n",
    "plt.ylabel('Кол-во человек', fontsize=15, color='black') \n",
    "plt.show()\n",
    "\n",
    "\n",
    "users_profil_smart['deneg_internet'].hist(bins=100, range=(users_profil_smart['deneg_internet'].min(), users_profil_smart['deneg_internet'].max()))\n",
    "plt.title('Сколько сверх тарифа за ГБ smart', fontsize=15)\n",
    "plt.xlabel('$', fontsize=15, color='black') \n",
    "plt.ylabel('Кол-во человек', fontsize=15, color='black') \n",
    "plt.show()\n",
    "\n"
   ]
  },
  {
   "cell_type": "markdown",
   "metadata": {},
   "source": [
    "**Вывод**\n",
    "Оба тарифа используют интернет сверх пакета "
   ]
  },
  {
   "cell_type": "code",
   "execution_count": 23,
   "metadata": {},
   "outputs": [
    {
     "data": {
      "image/png": "[encoded data removed]",
      "text/plain": [
       "<Figure size 432x288 with 1 Axes>"
      ]
     },
     "metadata": {
      "needs_background": "light"
     },
     "output_type": "display_data"
    },
    {
     "data": {
      "image/png": "[encoded data removed]",
      "text/plain": [
       "<Figure size 432x288 with 1 Axes>"
      ]
     },
     "metadata": {
      "needs_background": "light"
     },
     "output_type": "display_data"
    }
   ],
   "source": [
    "users_profil_ultra_SVERH = users_profil_ultra.query('deneg_sverh_tariff > 0')\n",
    "users_profil_ultra_SVERH['deneg_sverh_tariff'].hist(bins=100, range=(users_profil_ultra_SVERH['deneg_sverh_tariff'].min(), users_profil_ultra_SVERH['deneg_sverh_tariff'].max()))\n",
    "plt.title('Сколько сверх тарифа ultra', fontsize=15)\n",
    "plt.xlabel('$', fontsize=15, color='black') \n",
    "plt.ylabel('Кол-во человек', fontsize=15, color='black') \n",
    "plt.show()\n",
    "\n",
    "\n",
    "users_profil_smart_SVERH = users_profil_smart.query('deneg_sverh_tariff > 0')\n",
    "users_profil_smart_SVERH['deneg_sverh_tariff'].hist(bins=100, range=(users_profil_smart_SVERH['deneg_sverh_tariff'].min(), users_profil_smart_SVERH['deneg_sverh_tariff'].max()))\n",
    "plt.title('Сколько сверх тарифа smart', fontsize=15)\n",
    "plt.xlabel('$', fontsize=15, color='black') \n",
    "plt.ylabel('Кол-во человек', fontsize=15, color='black') \n",
    "plt.show()"
   ]
  },
  {
   "cell_type": "code",
   "execution_count": 24,
   "metadata": {},
   "outputs": [
    {
     "data": {
      "image/png": "[encoded data removed]",
      "text/plain": [
       "<Figure size 432x288 with 1 Axes>"
      ]
     },
     "metadata": {
      "needs_background": "light"
     },
     "output_type": "display_data"
    },
    {
     "data": {
      "image/png": "[encoded data removed]",
      "text/plain": [
       "<Figure size 432x288 with 1 Axes>"
      ]
     },
     "metadata": {
      "needs_background": "light"
     },
     "output_type": "display_data"
    }
   ],
   "source": [
    "users_profil_ultra_SVERH['deneg_vsego'].hist(bins=100, range=(users_profil_ultra_SVERH['deneg_vsego'].min(), users_profil_ultra_SVERH['deneg_vsego'].max()))\n",
    "plt.title('Сколько денег всего ultra', fontsize=15)\n",
    "plt.xlabel('$', fontsize=15, color='black') \n",
    "plt.ylabel('Кол-во человек', fontsize=15, color='black') \n",
    "plt.show()\n",
    "\n",
    "\n",
    "users_profil_smart_SVERH['deneg_vsego'].hist(bins=100, range=(users_profil_smart_SVERH['deneg_vsego'].min(), users_profil_smart_SVERH['deneg_vsego'].max()))\n",
    "plt.title('Сколько денег всего smart', fontsize=15)\n",
    "plt.xlabel('$', fontsize=15, color='black') \n",
    "plt.ylabel('Кол-во человек', fontsize=15, color='black') \n",
    "plt.show()\n"
   ]
  },
  {
   "cell_type": "markdown",
   "metadata": {},
   "source": [
    "**Итого**\n",
    "т.к. многие пользователи тарифа смарт всегда расходуют сверх пакета в большом количестве денег - они выгоднее"
   ]
  },
  {
   "cell_type": "code",
   "execution_count": 25,
   "metadata": {},
   "outputs": [
    {
     "data": {
      "text/plain": [
       "'Дисперсия выборки денег ultra '"
      ]
     },
     "metadata": {},
     "output_type": "display_data"
    },
    {
     "data": {
      "text/plain": [
       "141387.7148093615"
      ]
     },
     "metadata": {},
     "output_type": "display_data"
    },
    {
     "data": {
      "text/plain": [
       "'Дисперсия выборки денег smart'"
      ]
     },
     "metadata": {},
     "output_type": "display_data"
    },
    {
     "data": {
      "text/plain": [
       "669730.763894807"
      ]
     },
     "metadata": {},
     "output_type": "display_data"
    },
    {
     "data": {
      "text/plain": [
       "'Стандартное отклонение выборки денег ultra'"
      ]
     },
     "metadata": {},
     "output_type": "display_data"
    },
    {
     "data": {
      "text/plain": [
       "376.0155778812382"
      ]
     },
     "metadata": {},
     "output_type": "display_data"
    },
    {
     "data": {
      "text/plain": [
       "'Стандартное отклонение выборки денег smart'"
      ]
     },
     "metadata": {},
     "output_type": "display_data"
    },
    {
     "data": {
      "text/plain": [
       "818.370798534996"
      ]
     },
     "metadata": {},
     "output_type": "display_data"
    },
    {
     "data": {
      "text/plain": [
       "'Среднее денег ultra'"
      ]
     },
     "metadata": {},
     "output_type": "display_data"
    },
    {
     "data": {
      "text/plain": [
       "2070.030425963489"
      ]
     },
     "metadata": {},
     "output_type": "display_data"
    },
    {
     "data": {
      "text/plain": [
       "'Медиана денег ultra'"
      ]
     },
     "metadata": {},
     "output_type": "display_data"
    },
    {
     "data": {
      "text/plain": [
       "1950.0"
      ]
     },
     "metadata": {},
     "output_type": "display_data"
    },
    {
     "data": {
      "text/plain": [
       "'Среднее денег smart'"
      ]
     },
     "metadata": {},
     "output_type": "display_data"
    },
    {
     "data": {
      "text/plain": [
       "1289.6417040358745"
      ]
     },
     "metadata": {},
     "output_type": "display_data"
    },
    {
     "data": {
      "text/plain": [
       "'Медиана денег smart'"
      ]
     },
     "metadata": {},
     "output_type": "display_data"
    },
    {
     "data": {
      "text/plain": [
       "1021.0"
      ]
     },
     "metadata": {},
     "output_type": "display_data"
    },
    {
     "data": {
      "text/plain": [
       "'MAX денег ultra'"
      ]
     },
     "metadata": {},
     "output_type": "display_data"
    },
    {
     "data": {
      "text/plain": [
       "4800.0"
      ]
     },
     "metadata": {},
     "output_type": "display_data"
    },
    {
     "data": {
      "text/plain": [
       "'MAX денег smart'"
      ]
     },
     "metadata": {},
     "output_type": "display_data"
    },
    {
     "data": {
      "text/plain": [
       "6770.0"
      ]
     },
     "metadata": {},
     "output_type": "display_data"
    },
    {
     "data": {
      "image/png": "[encoded data removed]",
      "text/plain": [
       "<Figure size 432x288 with 1 Axes>"
      ]
     },
     "metadata": {
      "needs_background": "light"
     },
     "output_type": "display_data"
    },
    {
     "data": {
      "image/png": "[encoded data removed]",
      "text/plain": [
       "<Figure size 432x288 with 1 Axes>"
      ]
     },
     "metadata": {
      "needs_background": "light"
     },
     "output_type": "display_data"
    },
    {
     "data": {
      "text/plain": [
       "'сумм денег ultra'"
      ]
     },
     "metadata": {},
     "output_type": "display_data"
    },
    {
     "data": {
      "text/plain": [
       "2041050.0"
      ]
     },
     "metadata": {},
     "output_type": "display_data"
    },
    {
     "data": {
      "text/plain": [
       "'сумм денег smart'"
      ]
     },
     "metadata": {},
     "output_type": "display_data"
    },
    {
     "data": {
      "text/plain": [
       "2875901.0"
      ]
     },
     "metadata": {},
     "output_type": "display_data"
    }
   ],
   "source": [
    "\n",
    "\n",
    "# т.к. у нас выборка\n",
    "variance_estimate = np.var(users_profil_ultra['deneg_vsego'], ddof=1)\n",
    "display('Дисперсия выборки денег ultra ', variance_estimate)  #дисперсия\n",
    "\n",
    "variance_estimate = np.var(users_profil_smart['deneg_vsego'], ddof=1)\n",
    "display('Дисперсия выборки денег smart', variance_estimate)  #дисперсия\n",
    "\n",
    "\n",
    "standard_deviation = np.std(users_profil_ultra['deneg_vsego'], ddof=1)\n",
    "display ('Стандартное отклонение выборки денег ultra', standard_deviation) #Стандартное отклонение\n",
    "\n",
    "standard_deviation = np.std(users_profil_smart['deneg_vsego'], ddof=1)\n",
    "display ('Стандартное отклонение выборки денег smart', standard_deviation) #Стандартное отклонение\n",
    "\n",
    "display('Среднее денег ultra',users_profil_ultra['deneg_vsego'].mean())\n",
    "display('Медиана денег ultra',users_profil_ultra['deneg_vsego'].median()) \n",
    " \n",
    "display('Среднее денег smart',users_profil_smart['deneg_vsego'].mean())\n",
    "display('Медиана денег smart',users_profil_smart['deneg_vsego'].median()) \n",
    "\n",
    "display('MAX денег ultra',users_profil_ultra['deneg_vsego'].max()) \n",
    " \n",
    "display('MAX денег smart',users_profil_smart['deneg_vsego'].max())\n",
    "\n",
    "users_profil_ultra['deneg_vsego'].hist(bins=100, range=(users_profil_ultra['deneg_vsego'].min(), users_profil_ultra['deneg_vsego'].max()))\n",
    "plt.title('Сколько денег разговора ultra', fontsize=15)\n",
    "plt.xlabel('$', fontsize=15, color='black') \n",
    "plt.ylabel('Кол-во человек', fontsize=15, color='black') \n",
    "plt.show()\n",
    "\n",
    "\n",
    "users_profil_smart['deneg_vsego'].hist(bins=100, range=(users_profil_smart['deneg_vsego'].min(), users_profil_smart['deneg_vsego'].max()))\n",
    "plt.title('Сколько денег smart', fontsize=15)\n",
    "plt.xlabel('$', fontsize=15, color='black') \n",
    "plt.ylabel('Кол-во человек', fontsize=15, color='black') \n",
    "plt.show()\n",
    "\n",
    "\n",
    "display('сумм денег ultra',users_profil_ultra['deneg_vsego'].sum())\n",
    "display('сумм денег smart',users_profil_smart['deneg_vsego'].sum()) "
   ]
  },
  {
   "cell_type": "markdown",
   "metadata": {},
   "source": [
    " большой разброс данных от среднего, высокое стандартное отклонение. а дисперсия просто огромна . при этом медиана денег смарта сильно отличаеться от их тарифа по пакету тогда как медиана денег ультра равно стоимости тарифа.\n",
    " \n",
    " 'Среднее денег smart'1234.3196964751958  \n",
    " \n",
    " 'Медиана денег smart' 955.859375\n",
    "    \n",
    "    \n",
    " 'Среднее денег ultra'2040.7979112990358\n",
    " \n",
    " 'Медиана денег ultra'\n",
    "1950.0"
   ]
  },
  {
   "cell_type": "markdown",
   "metadata": {},
   "source": [
    "## Шаг Проверка гипотезы\n",
    "    средняя выручка пользователей тарифов «Ультра» и «Смарт» различаются;\n",
    "\n",
    "    средняя выручка пользователей из Москвы отличается от выручки пользователей из других регионов."
   ]
  },
  {
   "cell_type": "markdown",
   "metadata": {},
   "source": [
    "***Проверка гипотезы:\n",
    "    средняя выручка пользователей тарифов «Ультра» и «Смарт» НЕ различаются;***"
   ]
  },
  {
   "cell_type": "code",
   "execution_count": 26,
   "metadata": {},
   "outputs": [
    {
     "name": "stdout",
     "output_type": "stream",
     "text": [
      "p-значение: 8.08190955548901e-161\n",
      "Отвергаем нулевую гипотезу\n"
     ]
    }
   ],
   "source": [
    "deneg_ultra = users_profil_ultra['deneg_vsego']\n",
    "deneg_smart = users_profil_smart['deneg_vsego']\n",
    "\n",
    "\n",
    "alpha = .05 # критический уровень статистической значимости\n",
    "# если p-value окажется меньше него - отвергнем гипотезу\n",
    "\n",
    "results = st.ttest_ind(\n",
    "    deneg_ultra, \n",
    "    deneg_smart)\n",
    "\n",
    "print('p-значение:', results.pvalue)\n",
    "\n",
    "if results.pvalue < alpha:\n",
    "    print(\"Отвергаем нулевую гипотезу\")\n",
    "else:\n",
    "    print(\"Не получилось отвергнуть нулевую гипотезу\")"
   ]
  },
  {
   "cell_type": "markdown",
   "metadata": {},
   "source": [
    "**Вывод**\n",
    "Средняя выручка пользователей тарифов «Ультра» и «Смарт» действительно различаются."
   ]
  },
  {
   "cell_type": "markdown",
   "metadata": {},
   "source": [
    "***Проверка гипотезы:\n",
    "        средняя выручка пользователей из Москвы НЕ отличается от выручки пользователей из других регионов.***"
   ]
  },
  {
   "cell_type": "code",
   "execution_count": 28,
   "metadata": {},
   "outputs": [
    {
     "name": "stdout",
     "output_type": "stream",
     "text": [
      "p-значение: 0.5400751614511182\n",
      "Не получилось отвергнуть нулевую гипотезу\n"
     ]
    }
   ],
   "source": [
    "users_profil_MSK = users_profil_tariff.query('city == \"Москва\"')\n",
    "users_profil_NE_MSK = users_profil_tariff.query('city != \"Москва\"')\n",
    "MSK = users_profil_MSK['deneg_vsego']\n",
    "NE_MSK = users_profil_NE_MSK['deneg_vsego']\n",
    "\n",
    "\n",
    "alpha = .05 # критический уровень статистической значимости\n",
    "# если p-value окажется меньше него - отвергнем гипотезу\n",
    "\n",
    "results = st.ttest_ind(\n",
    "    MSK, \n",
    "    NE_MSK)\n",
    "\n",
    "print('p-значение:', results.pvalue)\n",
    "\n",
    "if results.pvalue < alpha:\n",
    "    print(\"Отвергаем нулевую гипотезу\")\n",
    "else:\n",
    "    print(\"Не получилось отвергнуть нулевую гипотезу\")"
   ]
  },
  {
   "cell_type": "markdown",
   "metadata": {},
   "source": [
    "***Вывод***\n",
    "Не отличаются. вот это я удивлена если честно О_о"
   ]
  },
  {
   "cell_type": "markdown",
   "metadata": {},
   "source": [
    "## Шаг Общий вывод"
   ]
  },
  {
   "cell_type": "markdown",
   "metadata": {},
   "source": [
    "Пользователи тарифа смарт всегда расходуют сверх пакета - они выгоднее. они платят примерно в 2 раза больше. Тогда как на тарифе ультра есть перерасход только за интернет и то слабо выраженный. по региональному признаку у абонентов нет отличий. тогда как пользователи ультры приносят больше дохода"
   ]
  }
 ],
 "metadata": {
  "ExecuteTimeLog": [
   {
    "duration": 436,
    "start_time": "2022-05-24T18:58:30.378Z"
   },
   {
    "duration": 1023,
    "start_time": "2022-05-24T18:58:31.111Z"
   },
   {
    "duration": 235,
    "start_time": "2022-05-24T18:59:28.817Z"
   },
   {
    "duration": 416,
    "start_time": "2022-05-26T17:09:25.784Z"
   },
   {
    "duration": 585,
    "start_time": "2022-05-26T17:09:26.202Z"
   },
   {
    "duration": 479,
    "start_time": "2022-05-26T17:09:26.788Z"
   },
   {
    "duration": 215,
    "start_time": "2022-05-26T17:09:27.269Z"
   },
   {
    "duration": 149,
    "start_time": "2022-05-26T17:09:27.486Z"
   },
   {
    "duration": 84,
    "start_time": "2022-05-26T17:09:27.637Z"
   },
   {
    "duration": 256,
    "start_time": "2022-05-26T17:11:48.034Z"
   },
   {
    "duration": 271,
    "start_time": "2022-05-26T17:12:06.270Z"
   },
   {
    "duration": 269,
    "start_time": "2022-05-26T17:12:17.592Z"
   },
   {
    "duration": 253,
    "start_time": "2022-05-26T17:13:01.051Z"
   },
   {
    "duration": 191,
    "start_time": "2022-05-26T17:13:51.684Z"
   },
   {
    "duration": 421,
    "start_time": "2022-05-27T22:32:57.319Z"
   },
   {
    "duration": 409,
    "start_time": "2022-05-27T22:32:57.822Z"
   },
   {
    "duration": 321,
    "start_time": "2022-05-27T22:35:17.125Z"
   },
   {
    "duration": 442,
    "start_time": "2022-05-27T22:36:32.844Z"
   },
   {
    "duration": 344,
    "start_time": "2022-05-27T22:37:03.202Z"
   },
   {
    "duration": 24,
    "start_time": "2022-05-27T22:37:24.105Z"
   },
   {
    "duration": 455,
    "start_time": "2022-05-27T22:38:42.219Z"
   },
   {
    "duration": 433,
    "start_time": "2022-05-27T22:39:14.286Z"
   },
   {
    "duration": 132,
    "start_time": "2022-05-27T22:39:47.007Z"
   },
   {
    "duration": 4,
    "start_time": "2022-05-27T22:49:24.668Z"
   },
   {
    "duration": 431,
    "start_time": "2022-05-27T22:52:19.313Z"
   },
   {
    "duration": 329,
    "start_time": "2022-05-27T22:52:36.900Z"
   },
   {
    "duration": 361,
    "start_time": "2022-05-27T22:53:03.261Z"
   },
   {
    "duration": 4,
    "start_time": "2022-05-27T22:53:23.021Z"
   },
   {
    "duration": 4,
    "start_time": "2022-05-27T22:56:12.339Z"
   },
   {
    "duration": 9,
    "start_time": "2022-05-27T22:56:23.913Z"
   },
   {
    "duration": 422,
    "start_time": "2022-05-27T22:58:39.594Z"
   },
   {
    "duration": 359,
    "start_time": "2022-05-27T22:58:40.018Z"
   },
   {
    "duration": 268,
    "start_time": "2022-05-27T22:58:40.378Z"
   },
   {
    "duration": 195,
    "start_time": "2022-05-27T22:58:40.647Z"
   },
   {
    "duration": 69,
    "start_time": "2022-05-27T22:58:40.843Z"
   },
   {
    "duration": 75,
    "start_time": "2022-05-27T22:58:40.914Z"
   },
   {
    "duration": 12,
    "start_time": "2022-05-27T22:58:40.991Z"
   },
   {
    "duration": 4,
    "start_time": "2022-05-27T23:10:11.887Z"
   },
   {
    "duration": 114,
    "start_time": "2022-05-27T23:10:20.099Z"
   },
   {
    "duration": 49,
    "start_time": "2022-05-27T23:11:38.371Z"
   },
   {
    "duration": 21,
    "start_time": "2022-05-27T23:17:18.741Z"
   },
   {
    "duration": 34,
    "start_time": "2022-05-27T23:17:40.032Z"
   },
   {
    "duration": 34,
    "start_time": "2022-05-27T23:21:24.697Z"
   },
   {
    "duration": 442,
    "start_time": "2022-05-28T14:48:29.145Z"
   },
   {
    "duration": 1098,
    "start_time": "2022-05-28T14:48:29.589Z"
   },
   {
    "duration": 573,
    "start_time": "2022-05-28T14:48:30.689Z"
   },
   {
    "duration": 264,
    "start_time": "2022-05-28T14:48:31.263Z"
   },
   {
    "duration": 58,
    "start_time": "2022-05-28T14:48:31.529Z"
   },
   {
    "duration": 105,
    "start_time": "2022-05-28T14:48:31.589Z"
   },
   {
    "duration": 12,
    "start_time": "2022-05-28T14:48:31.696Z"
   },
   {
    "duration": 66,
    "start_time": "2022-05-28T14:48:31.710Z"
   },
   {
    "duration": 36,
    "start_time": "2022-05-28T14:48:31.778Z"
   },
   {
    "duration": 56,
    "start_time": "2022-05-28T14:48:31.816Z"
   },
   {
    "duration": 10162,
    "start_time": "2022-05-28T14:52:55.784Z"
   },
   {
    "duration": 9791,
    "start_time": "2022-05-28T14:53:31.364Z"
   },
   {
    "duration": 9777,
    "start_time": "2022-05-28T14:54:14.556Z"
   },
   {
    "duration": 763,
    "start_time": "2022-05-28T14:55:36.815Z"
   },
   {
    "duration": 396,
    "start_time": "2022-05-28T14:55:37.580Z"
   },
   {
    "duration": 289,
    "start_time": "2022-05-28T14:55:37.978Z"
   },
   {
    "duration": 232,
    "start_time": "2022-05-28T14:55:38.270Z"
   },
   {
    "duration": 27,
    "start_time": "2022-05-28T14:55:38.504Z"
   },
   {
    "duration": 91,
    "start_time": "2022-05-28T14:55:38.533Z"
   },
   {
    "duration": 16,
    "start_time": "2022-05-28T14:55:38.626Z"
   },
   {
    "duration": 52,
    "start_time": "2022-05-28T14:55:38.644Z"
   },
   {
    "duration": 9646,
    "start_time": "2022-05-28T14:55:38.698Z"
   },
   {
    "duration": 39,
    "start_time": "2022-05-28T14:55:48.346Z"
   },
   {
    "duration": 88,
    "start_time": "2022-05-28T14:55:48.387Z"
   },
   {
    "duration": 10021,
    "start_time": "2022-05-28T14:56:19.795Z"
   },
   {
    "duration": 31,
    "start_time": "2022-05-28T14:58:40.354Z"
   },
   {
    "duration": 113,
    "start_time": "2022-05-28T15:05:25.962Z"
   },
   {
    "duration": 44,
    "start_time": "2022-05-28T15:05:43.447Z"
   },
   {
    "duration": 35,
    "start_time": "2022-05-28T15:05:50.613Z"
   },
   {
    "duration": 33,
    "start_time": "2022-05-28T15:06:48.244Z"
   },
   {
    "duration": 14,
    "start_time": "2022-05-28T15:06:59.263Z"
   },
   {
    "duration": 45,
    "start_time": "2022-05-28T15:09:07.778Z"
   },
   {
    "duration": 17,
    "start_time": "2022-05-28T15:09:09.100Z"
   },
   {
    "duration": 32,
    "start_time": "2022-05-28T15:09:16.382Z"
   },
   {
    "duration": 36,
    "start_time": "2022-05-28T15:09:17.705Z"
   },
   {
    "duration": 14,
    "start_time": "2022-05-28T15:09:23.060Z"
   },
   {
    "duration": 22,
    "start_time": "2022-05-28T15:09:31.963Z"
   },
   {
    "duration": 40,
    "start_time": "2022-05-28T15:10:44.590Z"
   },
   {
    "duration": 27,
    "start_time": "2022-05-28T15:10:45.402Z"
   },
   {
    "duration": 28,
    "start_time": "2022-05-28T15:11:01.711Z"
   },
   {
    "duration": 85,
    "start_time": "2022-05-28T15:13:07.655Z"
   },
   {
    "duration": 17,
    "start_time": "2022-05-28T15:17:03.477Z"
   },
   {
    "duration": 516,
    "start_time": "2022-05-28T15:17:20.863Z"
   },
   {
    "duration": 504,
    "start_time": "2022-05-28T15:17:32.945Z"
   },
   {
    "duration": 21,
    "start_time": "2022-05-28T15:17:47.690Z"
   },
   {
    "duration": 20,
    "start_time": "2022-05-28T15:18:17.212Z"
   },
   {
    "duration": 21,
    "start_time": "2022-05-28T15:21:25.206Z"
   },
   {
    "duration": 30,
    "start_time": "2022-05-28T15:22:29.367Z"
   },
   {
    "duration": 22,
    "start_time": "2022-05-28T15:25:18.677Z"
   },
   {
    "duration": 37,
    "start_time": "2022-05-28T15:26:01.662Z"
   },
   {
    "duration": 33,
    "start_time": "2022-05-28T15:29:30.502Z"
   },
   {
    "duration": 29,
    "start_time": "2022-05-28T15:29:58.222Z"
   },
   {
    "duration": 32,
    "start_time": "2022-05-28T15:30:33.077Z"
   },
   {
    "duration": 45,
    "start_time": "2022-05-28T15:34:22.321Z"
   },
   {
    "duration": 46,
    "start_time": "2022-05-28T15:34:58.303Z"
   },
   {
    "duration": 30,
    "start_time": "2022-05-28T15:34:59.717Z"
   },
   {
    "duration": 51,
    "start_time": "2022-05-28T15:35:00.502Z"
   },
   {
    "duration": 47,
    "start_time": "2022-05-28T15:35:02.467Z"
   },
   {
    "duration": 29,
    "start_time": "2022-05-28T15:35:03.532Z"
   },
   {
    "duration": 28,
    "start_time": "2022-05-28T15:35:31.558Z"
   },
   {
    "duration": 31,
    "start_time": "2022-05-28T15:36:09.053Z"
   },
   {
    "duration": 30,
    "start_time": "2022-05-28T15:36:28.687Z"
   },
   {
    "duration": 30,
    "start_time": "2022-05-28T15:37:02.677Z"
   },
   {
    "duration": 29,
    "start_time": "2022-05-28T15:37:14.233Z"
   },
   {
    "duration": 35,
    "start_time": "2022-05-28T15:39:39.072Z"
   },
   {
    "duration": 16,
    "start_time": "2022-05-28T15:39:43.927Z"
   },
   {
    "duration": 17,
    "start_time": "2022-05-28T15:40:07.425Z"
   },
   {
    "duration": 27,
    "start_time": "2022-05-28T15:41:22.330Z"
   },
   {
    "duration": 31,
    "start_time": "2022-05-28T15:42:46.781Z"
   },
   {
    "duration": 28,
    "start_time": "2022-05-28T15:43:44.045Z"
   },
   {
    "duration": 27,
    "start_time": "2022-05-28T15:44:50.477Z"
   },
   {
    "duration": 27,
    "start_time": "2022-05-28T15:45:27.981Z"
   },
   {
    "duration": 28,
    "start_time": "2022-05-28T15:45:44.867Z"
   },
   {
    "duration": 527,
    "start_time": "2022-05-28T15:46:30.626Z"
   },
   {
    "duration": 728,
    "start_time": "2022-05-28T15:46:54.324Z"
   },
   {
    "duration": 28,
    "start_time": "2022-05-28T15:47:30.823Z"
   },
   {
    "duration": 35,
    "start_time": "2022-05-28T15:48:02.630Z"
   },
   {
    "duration": 42,
    "start_time": "2022-05-28T15:48:23.278Z"
   },
   {
    "duration": 536,
    "start_time": "2022-05-28T15:49:33.235Z"
   },
   {
    "duration": 48,
    "start_time": "2022-05-28T15:49:49.988Z"
   },
   {
    "duration": 480,
    "start_time": "2022-05-28T15:50:17.167Z"
   },
   {
    "duration": 497,
    "start_time": "2022-05-28T15:52:11.272Z"
   },
   {
    "duration": 56,
    "start_time": "2022-05-28T15:53:46.134Z"
   },
   {
    "duration": 56,
    "start_time": "2022-05-28T15:54:14.940Z"
   },
   {
    "duration": 57,
    "start_time": "2022-05-28T15:54:31.373Z"
   },
   {
    "duration": 46,
    "start_time": "2022-05-28T15:54:47.471Z"
   },
   {
    "duration": 58,
    "start_time": "2022-05-28T15:55:26.542Z"
   },
   {
    "duration": 35,
    "start_time": "2022-05-28T15:55:38.914Z"
   },
   {
    "duration": 38,
    "start_time": "2022-05-28T15:55:46.739Z"
   },
   {
    "duration": 24,
    "start_time": "2022-05-28T15:56:02.893Z"
   },
   {
    "duration": 28,
    "start_time": "2022-05-28T15:56:31.399Z"
   },
   {
    "duration": 41,
    "start_time": "2022-05-28T15:56:59.124Z"
   },
   {
    "duration": 42,
    "start_time": "2022-05-28T16:22:15.872Z"
   },
   {
    "duration": 43,
    "start_time": "2022-05-28T16:39:36.574Z"
   },
   {
    "duration": 54,
    "start_time": "2022-05-28T16:44:06.829Z"
   },
   {
    "duration": 58,
    "start_time": "2022-05-28T16:44:26.989Z"
   },
   {
    "duration": 45,
    "start_time": "2022-05-28T16:44:37.888Z"
   },
   {
    "duration": 38,
    "start_time": "2022-05-28T16:47:53.266Z"
   },
   {
    "duration": 27,
    "start_time": "2022-05-28T16:50:13.835Z"
   },
   {
    "duration": 27,
    "start_time": "2022-05-28T16:56:27.770Z"
   },
   {
    "duration": 27,
    "start_time": "2022-05-28T16:56:33.986Z"
   },
   {
    "duration": 27,
    "start_time": "2022-05-28T16:58:46.117Z"
   },
   {
    "duration": 29,
    "start_time": "2022-05-28T16:59:13.781Z"
   },
   {
    "duration": 29,
    "start_time": "2022-05-28T16:59:22.395Z"
   },
   {
    "duration": 27,
    "start_time": "2022-05-28T16:59:39.352Z"
   },
   {
    "duration": 28,
    "start_time": "2022-05-28T17:01:38.621Z"
   },
   {
    "duration": 28,
    "start_time": "2022-05-28T17:05:30.679Z"
   },
   {
    "duration": 30,
    "start_time": "2022-05-28T17:05:47.978Z"
   },
   {
    "duration": 29,
    "start_time": "2022-05-28T17:11:33.570Z"
   },
   {
    "duration": 41,
    "start_time": "2022-05-28T17:12:56.446Z"
   },
   {
    "duration": 42,
    "start_time": "2022-05-28T17:13:50.284Z"
   },
   {
    "duration": 49,
    "start_time": "2022-05-28T17:14:39.075Z"
   },
   {
    "duration": 47,
    "start_time": "2022-05-28T17:14:55.889Z"
   },
   {
    "duration": 31,
    "start_time": "2022-05-28T17:15:12.124Z"
   },
   {
    "duration": 46,
    "start_time": "2022-05-28T17:15:18.090Z"
   },
   {
    "duration": 47,
    "start_time": "2022-05-28T17:16:24.870Z"
   },
   {
    "duration": 67,
    "start_time": "2022-05-28T17:16:26.862Z"
   },
   {
    "duration": 62,
    "start_time": "2022-05-28T17:18:20.479Z"
   },
   {
    "duration": 43,
    "start_time": "2022-05-28T17:18:48.185Z"
   },
   {
    "duration": 50,
    "start_time": "2022-05-28T17:19:03.062Z"
   },
   {
    "duration": 49,
    "start_time": "2022-05-28T17:24:35.042Z"
   },
   {
    "duration": 45,
    "start_time": "2022-05-28T17:25:13.662Z"
   },
   {
    "duration": 134,
    "start_time": "2022-05-28T17:26:13.538Z"
   },
   {
    "duration": 973,
    "start_time": "2022-05-28T17:26:31.985Z"
   },
   {
    "duration": 43,
    "start_time": "2022-05-28T17:26:44.063Z"
   },
   {
    "duration": 46,
    "start_time": "2022-05-28T17:26:53.062Z"
   },
   {
    "duration": 43,
    "start_time": "2022-05-28T17:27:23.972Z"
   },
   {
    "duration": 48,
    "start_time": "2022-05-28T17:27:39.097Z"
   },
   {
    "duration": 45,
    "start_time": "2022-05-28T17:28:58.672Z"
   },
   {
    "duration": 36,
    "start_time": "2022-05-28T17:34:57.833Z"
   },
   {
    "duration": 329,
    "start_time": "2022-05-28T17:35:06.047Z"
   },
   {
    "duration": 583,
    "start_time": "2022-05-28T17:35:14.496Z"
   },
   {
    "duration": 118,
    "start_time": "2022-05-28T17:35:22.441Z"
   },
   {
    "duration": 53,
    "start_time": "2022-05-28T17:36:57.401Z"
   },
   {
    "duration": 56,
    "start_time": "2022-05-28T17:38:21.059Z"
   },
   {
    "duration": 69,
    "start_time": "2022-05-28T17:38:32.722Z"
   },
   {
    "duration": 1294,
    "start_time": "2022-05-28T17:39:36.935Z"
   },
   {
    "duration": 42,
    "start_time": "2022-05-28T17:40:09.172Z"
   },
   {
    "duration": 41,
    "start_time": "2022-05-28T17:41:12.390Z"
   },
   {
    "duration": 678,
    "start_time": "2022-05-28T17:43:42.484Z"
   },
   {
    "duration": 493,
    "start_time": "2022-05-28T17:43:43.164Z"
   },
   {
    "duration": 307,
    "start_time": "2022-05-28T17:43:43.659Z"
   },
   {
    "duration": 209,
    "start_time": "2022-05-28T17:43:43.968Z"
   },
   {
    "duration": 37,
    "start_time": "2022-05-28T17:43:44.178Z"
   },
   {
    "duration": 86,
    "start_time": "2022-05-28T17:43:44.216Z"
   },
   {
    "duration": 11,
    "start_time": "2022-05-28T17:43:44.304Z"
   },
   {
    "duration": 63,
    "start_time": "2022-05-28T17:43:44.317Z"
   },
   {
    "duration": 30,
    "start_time": "2022-05-28T17:43:44.382Z"
   },
   {
    "duration": 61,
    "start_time": "2022-05-28T17:43:44.414Z"
   },
   {
    "duration": 49,
    "start_time": "2022-05-28T17:43:44.477Z"
   },
   {
    "duration": 47,
    "start_time": "2022-05-28T17:43:44.541Z"
   },
   {
    "duration": 94,
    "start_time": "2022-05-28T17:45:14.367Z"
   },
   {
    "duration": 31,
    "start_time": "2022-05-28T17:45:26.953Z"
   },
   {
    "duration": 25,
    "start_time": "2022-05-28T17:45:45.313Z"
   },
   {
    "duration": 28,
    "start_time": "2022-05-28T17:47:54.930Z"
   },
   {
    "duration": 29,
    "start_time": "2022-05-28T17:48:04.912Z"
   },
   {
    "duration": 27,
    "start_time": "2022-05-28T17:48:52.701Z"
   },
   {
    "duration": 43,
    "start_time": "2022-05-28T17:49:54.657Z"
   },
   {
    "duration": 47,
    "start_time": "2022-05-28T17:51:32.254Z"
   },
   {
    "duration": 10,
    "start_time": "2022-05-28T17:53:41.192Z"
   },
   {
    "duration": 43,
    "start_time": "2022-05-28T17:53:55.254Z"
   },
   {
    "duration": 58,
    "start_time": "2022-05-28T17:54:26.455Z"
   },
   {
    "duration": 75,
    "start_time": "2022-05-28T17:59:24.534Z"
   },
   {
    "duration": 86,
    "start_time": "2022-05-28T17:59:50.005Z"
   },
   {
    "duration": 80,
    "start_time": "2022-05-28T18:00:01.519Z"
   },
   {
    "duration": 50,
    "start_time": "2022-05-28T18:01:31.307Z"
   },
   {
    "duration": 40,
    "start_time": "2022-05-28T18:03:26.096Z"
   },
   {
    "duration": 41,
    "start_time": "2022-05-28T18:03:33.340Z"
   },
   {
    "duration": 734,
    "start_time": "2022-05-28T18:03:54.446Z"
   },
   {
    "duration": 414,
    "start_time": "2022-05-28T18:03:55.182Z"
   },
   {
    "duration": 304,
    "start_time": "2022-05-28T18:03:55.597Z"
   },
   {
    "duration": 237,
    "start_time": "2022-05-28T18:03:55.903Z"
   },
   {
    "duration": 30,
    "start_time": "2022-05-28T18:03:56.143Z"
   },
   {
    "duration": 79,
    "start_time": "2022-05-28T18:03:56.175Z"
   },
   {
    "duration": 13,
    "start_time": "2022-05-28T18:03:56.255Z"
   },
   {
    "duration": 90,
    "start_time": "2022-05-28T18:03:56.270Z"
   },
   {
    "duration": 33,
    "start_time": "2022-05-28T18:03:56.362Z"
   },
   {
    "duration": 55,
    "start_time": "2022-05-28T18:03:56.397Z"
   },
   {
    "duration": 118,
    "start_time": "2022-05-28T18:03:56.454Z"
   },
   {
    "duration": 0,
    "start_time": "2022-05-28T18:03:56.574Z"
   },
   {
    "duration": 0,
    "start_time": "2022-05-28T18:03:56.575Z"
   },
   {
    "duration": 42,
    "start_time": "2022-05-28T18:04:13.111Z"
   },
   {
    "duration": 44,
    "start_time": "2022-05-28T18:04:41.099Z"
   },
   {
    "duration": 512,
    "start_time": "2022-05-28T18:05:13.354Z"
   },
   {
    "duration": 65,
    "start_time": "2022-05-28T18:05:22.694Z"
   },
   {
    "duration": 65,
    "start_time": "2022-05-28T18:05:46.566Z"
   },
   {
    "duration": 67,
    "start_time": "2022-05-28T18:06:13.595Z"
   },
   {
    "duration": 47,
    "start_time": "2022-05-28T18:06:45.440Z"
   },
   {
    "duration": 40,
    "start_time": "2022-05-28T18:12:11.822Z"
   },
   {
    "duration": 40,
    "start_time": "2022-05-28T18:13:35.396Z"
   },
   {
    "duration": 41,
    "start_time": "2022-05-28T18:14:51.607Z"
   },
   {
    "duration": 744,
    "start_time": "2022-05-28T18:15:13.453Z"
   },
   {
    "duration": 466,
    "start_time": "2022-05-28T18:15:14.199Z"
   },
   {
    "duration": 338,
    "start_time": "2022-05-28T18:15:14.667Z"
   },
   {
    "duration": 258,
    "start_time": "2022-05-28T18:15:15.007Z"
   },
   {
    "duration": 39,
    "start_time": "2022-05-28T18:15:15.267Z"
   },
   {
    "duration": 108,
    "start_time": "2022-05-28T18:15:15.308Z"
   },
   {
    "duration": 31,
    "start_time": "2022-05-28T18:15:15.418Z"
   },
   {
    "duration": 96,
    "start_time": "2022-05-28T18:15:15.450Z"
   },
   {
    "duration": 33,
    "start_time": "2022-05-28T18:15:15.548Z"
   },
   {
    "duration": 64,
    "start_time": "2022-05-28T18:15:15.584Z"
   },
   {
    "duration": 65,
    "start_time": "2022-05-28T18:15:15.650Z"
   },
   {
    "duration": 55,
    "start_time": "2022-05-28T18:15:15.717Z"
   },
   {
    "duration": 76,
    "start_time": "2022-05-28T18:15:15.774Z"
   },
   {
    "duration": 85,
    "start_time": "2022-05-28T18:16:49.101Z"
   },
   {
    "duration": 758,
    "start_time": "2022-05-28T18:16:55.243Z"
   },
   {
    "duration": 439,
    "start_time": "2022-05-28T18:16:56.003Z"
   },
   {
    "duration": 321,
    "start_time": "2022-05-28T18:16:56.444Z"
   },
   {
    "duration": 324,
    "start_time": "2022-05-28T18:16:56.767Z"
   },
   {
    "duration": 53,
    "start_time": "2022-05-28T18:16:57.093Z"
   },
   {
    "duration": 111,
    "start_time": "2022-05-28T18:16:57.148Z"
   },
   {
    "duration": 21,
    "start_time": "2022-05-28T18:16:57.260Z"
   },
   {
    "duration": 106,
    "start_time": "2022-05-28T18:16:57.284Z"
   },
   {
    "duration": 33,
    "start_time": "2022-05-28T18:16:57.392Z"
   },
   {
    "duration": 41,
    "start_time": "2022-05-28T18:16:57.441Z"
   },
   {
    "duration": 84,
    "start_time": "2022-05-28T18:16:57.484Z"
   },
   {
    "duration": 38,
    "start_time": "2022-05-28T18:16:57.570Z"
   },
   {
    "duration": 95,
    "start_time": "2022-05-28T18:16:57.610Z"
   },
   {
    "duration": 39,
    "start_time": "2022-05-28T18:23:49.321Z"
   },
   {
    "duration": 28,
    "start_time": "2022-05-28T18:24:02.921Z"
   },
   {
    "duration": 34,
    "start_time": "2022-05-28T18:26:01.181Z"
   },
   {
    "duration": 675,
    "start_time": "2022-05-28T18:28:03.063Z"
   },
   {
    "duration": 386,
    "start_time": "2022-05-28T18:28:03.740Z"
   },
   {
    "duration": 277,
    "start_time": "2022-05-28T18:28:04.128Z"
   },
   {
    "duration": 211,
    "start_time": "2022-05-28T18:28:04.406Z"
   },
   {
    "duration": 29,
    "start_time": "2022-05-28T18:28:04.619Z"
   },
   {
    "duration": 75,
    "start_time": "2022-05-28T18:28:04.650Z"
   },
   {
    "duration": 23,
    "start_time": "2022-05-28T18:28:04.726Z"
   },
   {
    "duration": 73,
    "start_time": "2022-05-28T18:28:04.750Z"
   },
   {
    "duration": 46,
    "start_time": "2022-05-28T18:28:04.824Z"
   },
   {
    "duration": 42,
    "start_time": "2022-05-28T18:28:04.871Z"
   },
   {
    "duration": 91,
    "start_time": "2022-05-28T18:28:04.914Z"
   },
   {
    "duration": 43,
    "start_time": "2022-05-28T18:28:05.006Z"
   },
   {
    "duration": 80,
    "start_time": "2022-05-28T18:28:05.051Z"
   },
   {
    "duration": 33,
    "start_time": "2022-05-28T18:28:05.142Z"
   },
   {
    "duration": 768,
    "start_time": "2022-05-29T10:42:40.564Z"
   },
   {
    "duration": 588,
    "start_time": "2022-05-29T10:42:41.336Z"
   },
   {
    "duration": 352,
    "start_time": "2022-05-29T10:42:41.926Z"
   },
   {
    "duration": 226,
    "start_time": "2022-05-29T10:42:42.279Z"
   },
   {
    "duration": 41,
    "start_time": "2022-05-29T10:42:42.507Z"
   },
   {
    "duration": 142,
    "start_time": "2022-05-29T10:42:42.550Z"
   },
   {
    "duration": 16,
    "start_time": "2022-05-29T10:42:42.694Z"
   },
   {
    "duration": 112,
    "start_time": "2022-05-29T10:42:42.712Z"
   },
   {
    "duration": 54,
    "start_time": "2022-05-29T10:42:42.826Z"
   },
   {
    "duration": 41,
    "start_time": "2022-05-29T10:42:42.882Z"
   },
   {
    "duration": 98,
    "start_time": "2022-05-29T10:42:42.924Z"
   },
   {
    "duration": 58,
    "start_time": "2022-05-29T10:42:43.025Z"
   },
   {
    "duration": 113,
    "start_time": "2022-05-29T10:42:43.085Z"
   },
   {
    "duration": 32,
    "start_time": "2022-05-29T10:42:43.200Z"
   },
   {
    "duration": 15,
    "start_time": "2022-05-29T10:59:44.660Z"
   },
   {
    "duration": 138,
    "start_time": "2022-05-29T10:59:46.264Z"
   },
   {
    "duration": 5,
    "start_time": "2022-05-29T10:59:58.540Z"
   },
   {
    "duration": 15,
    "start_time": "2022-05-29T11:00:02.213Z"
   },
   {
    "duration": 20,
    "start_time": "2022-05-29T11:01:16.032Z"
   },
   {
    "duration": 19,
    "start_time": "2022-05-29T11:01:36.483Z"
   },
   {
    "duration": 20,
    "start_time": "2022-05-29T11:02:59.509Z"
   },
   {
    "duration": 45,
    "start_time": "2022-05-29T11:07:07.030Z"
   },
   {
    "duration": 69,
    "start_time": "2022-05-29T11:08:50.837Z"
   },
   {
    "duration": 43,
    "start_time": "2022-05-29T11:10:30.180Z"
   },
   {
    "duration": 36,
    "start_time": "2022-05-29T11:10:31.068Z"
   },
   {
    "duration": 30,
    "start_time": "2022-05-29T11:10:54.929Z"
   },
   {
    "duration": 1034,
    "start_time": "2022-05-29T11:11:42.673Z"
   },
   {
    "duration": 611,
    "start_time": "2022-05-29T11:12:20.176Z"
   },
   {
    "duration": 316,
    "start_time": "2022-05-29T11:16:39.079Z"
   },
   {
    "duration": 35,
    "start_time": "2022-05-29T11:17:41.287Z"
   },
   {
    "duration": 34,
    "start_time": "2022-05-29T11:17:55.285Z"
   },
   {
    "duration": 288,
    "start_time": "2022-05-29T11:18:12.608Z"
   },
   {
    "duration": 305,
    "start_time": "2022-05-29T11:21:44.966Z"
   },
   {
    "duration": 534,
    "start_time": "2022-05-29T11:23:36.072Z"
   },
   {
    "duration": 355,
    "start_time": "2022-05-29T11:23:53.706Z"
   },
   {
    "duration": 2416,
    "start_time": "2022-05-29T11:24:34.707Z"
   },
   {
    "duration": 435,
    "start_time": "2022-05-29T11:24:47.110Z"
   },
   {
    "duration": 325,
    "start_time": "2022-05-29T11:24:53.588Z"
   },
   {
    "duration": 243,
    "start_time": "2022-05-29T11:25:47.496Z"
   },
   {
    "duration": 439,
    "start_time": "2022-05-29T11:25:55.038Z"
   },
   {
    "duration": 580,
    "start_time": "2022-05-29T11:26:22.498Z"
   },
   {
    "duration": 536,
    "start_time": "2022-05-29T11:26:35.435Z"
   },
   {
    "duration": 355,
    "start_time": "2022-05-29T11:26:47.733Z"
   },
   {
    "duration": 446,
    "start_time": "2022-05-29T11:28:26.575Z"
   },
   {
    "duration": 437,
    "start_time": "2022-05-29T11:28:55.178Z"
   },
   {
    "duration": 874,
    "start_time": "2022-05-29T11:30:19.617Z"
   },
   {
    "duration": 756,
    "start_time": "2022-05-29T11:30:33.575Z"
   },
   {
    "duration": 724,
    "start_time": "2022-05-29T11:30:50.433Z"
   },
   {
    "duration": 622,
    "start_time": "2022-05-29T11:32:00.120Z"
   },
   {
    "duration": 167,
    "start_time": "2022-05-29T11:32:22.282Z"
   },
   {
    "duration": 315,
    "start_time": "2022-05-29T11:32:47.132Z"
   },
   {
    "duration": 215,
    "start_time": "2022-05-29T11:34:41.072Z"
   },
   {
    "duration": 175,
    "start_time": "2022-05-29T11:35:06.181Z"
   },
   {
    "duration": 9,
    "start_time": "2022-05-29T11:35:07.817Z"
   },
   {
    "duration": 215,
    "start_time": "2022-05-29T11:35:28.415Z"
   },
   {
    "duration": 9,
    "start_time": "2022-05-29T11:35:29.190Z"
   },
   {
    "duration": 14,
    "start_time": "2022-05-29T11:37:35.341Z"
   },
   {
    "duration": 506,
    "start_time": "2022-05-29T11:37:42.491Z"
   },
   {
    "duration": 814,
    "start_time": "2022-05-29T11:38:53.996Z"
   },
   {
    "duration": 704,
    "start_time": "2022-05-29T11:39:48.305Z"
   },
   {
    "duration": 847,
    "start_time": "2022-05-29T11:40:39.569Z"
   },
   {
    "duration": 1065,
    "start_time": "2022-05-29T11:40:49.147Z"
   },
   {
    "duration": 691,
    "start_time": "2022-05-29T11:42:44.696Z"
   },
   {
    "duration": 758,
    "start_time": "2022-05-29T11:44:14.515Z"
   },
   {
    "duration": 888,
    "start_time": "2022-05-29T11:45:15.869Z"
   },
   {
    "duration": 766,
    "start_time": "2022-05-29T11:45:36.569Z"
   },
   {
    "duration": 8,
    "start_time": "2022-05-29T11:48:19.069Z"
   },
   {
    "duration": 709,
    "start_time": "2022-05-29T11:51:31.419Z"
   },
   {
    "duration": 716,
    "start_time": "2022-05-29T12:15:38.508Z"
   },
   {
    "duration": 423,
    "start_time": "2022-05-29T12:15:39.226Z"
   },
   {
    "duration": 331,
    "start_time": "2022-05-29T12:15:39.652Z"
   },
   {
    "duration": 230,
    "start_time": "2022-05-29T12:15:39.986Z"
   },
   {
    "duration": 36,
    "start_time": "2022-05-29T12:15:40.218Z"
   },
   {
    "duration": 112,
    "start_time": "2022-05-29T12:15:40.256Z"
   },
   {
    "duration": 14,
    "start_time": "2022-05-29T12:15:40.370Z"
   },
   {
    "duration": 94,
    "start_time": "2022-05-29T12:15:40.386Z"
   },
   {
    "duration": 32,
    "start_time": "2022-05-29T12:15:40.482Z"
   },
   {
    "duration": 58,
    "start_time": "2022-05-29T12:15:40.516Z"
   },
   {
    "duration": 93,
    "start_time": "2022-05-29T12:15:40.576Z"
   },
   {
    "duration": 41,
    "start_time": "2022-05-29T12:15:40.671Z"
   },
   {
    "duration": 105,
    "start_time": "2022-05-29T12:15:40.715Z"
   },
   {
    "duration": 41,
    "start_time": "2022-05-29T12:15:40.822Z"
   },
   {
    "duration": 228,
    "start_time": "2022-05-29T12:15:40.865Z"
   },
   {
    "duration": 166,
    "start_time": "2022-05-29T12:15:41.095Z"
   },
   {
    "duration": 9,
    "start_time": "2022-05-29T12:15:41.264Z"
   },
   {
    "duration": 662,
    "start_time": "2022-05-29T12:15:41.275Z"
   },
   {
    "duration": 655,
    "start_time": "2022-05-29T12:15:41.943Z"
   },
   {
    "duration": 629,
    "start_time": "2022-05-29T12:15:42.600Z"
   },
   {
    "duration": 686,
    "start_time": "2022-05-29T12:21:54.875Z"
   },
   {
    "duration": 6,
    "start_time": "2022-05-29T12:32:06.682Z"
   },
   {
    "duration": 11,
    "start_time": "2022-05-29T12:34:00.367Z"
   },
   {
    "duration": 15,
    "start_time": "2022-05-29T12:36:56.982Z"
   },
   {
    "duration": 38,
    "start_time": "2022-05-29T12:37:12.478Z"
   },
   {
    "duration": 61,
    "start_time": "2022-05-29T12:37:14.839Z"
   },
   {
    "duration": 1278,
    "start_time": "2022-05-29T12:37:22.446Z"
   },
   {
    "duration": 548,
    "start_time": "2022-05-29T12:37:23.726Z"
   },
   {
    "duration": 402,
    "start_time": "2022-05-29T12:37:24.278Z"
   },
   {
    "duration": 348,
    "start_time": "2022-05-29T12:37:24.687Z"
   },
   {
    "duration": 73,
    "start_time": "2022-05-29T12:37:25.037Z"
   },
   {
    "duration": 123,
    "start_time": "2022-05-29T12:37:25.112Z"
   },
   {
    "duration": 25,
    "start_time": "2022-05-29T12:37:25.237Z"
   },
   {
    "duration": 113,
    "start_time": "2022-05-29T12:37:25.264Z"
   },
   {
    "duration": 52,
    "start_time": "2022-05-29T12:37:25.382Z"
   },
   {
    "duration": 64,
    "start_time": "2022-05-29T12:37:25.444Z"
   },
   {
    "duration": 128,
    "start_time": "2022-05-29T12:37:25.511Z"
   },
   {
    "duration": 68,
    "start_time": "2022-05-29T12:37:25.650Z"
   },
   {
    "duration": 169,
    "start_time": "2022-05-29T12:37:25.721Z"
   },
   {
    "duration": 73,
    "start_time": "2022-05-29T12:37:25.895Z"
   },
   {
    "duration": 267,
    "start_time": "2022-05-29T12:37:25.976Z"
   },
   {
    "duration": 261,
    "start_time": "2022-05-29T12:37:26.245Z"
   },
   {
    "duration": 13,
    "start_time": "2022-05-29T12:37:26.508Z"
   },
   {
    "duration": 817,
    "start_time": "2022-05-29T12:37:26.523Z"
   },
   {
    "duration": 731,
    "start_time": "2022-05-29T12:37:27.352Z"
   },
   {
    "duration": 806,
    "start_time": "2022-05-29T12:37:28.086Z"
   },
   {
    "duration": 8,
    "start_time": "2022-05-29T12:37:28.894Z"
   },
   {
    "duration": 6,
    "start_time": "2022-05-29T12:37:28.904Z"
   },
   {
    "duration": 9,
    "start_time": "2022-05-29T12:37:37.188Z"
   },
   {
    "duration": 10,
    "start_time": "2022-05-29T12:37:44.682Z"
   },
   {
    "duration": 118,
    "start_time": "2022-05-29T12:40:53.486Z"
   },
   {
    "duration": 116,
    "start_time": "2022-05-29T12:41:17.680Z"
   },
   {
    "duration": 9,
    "start_time": "2022-05-29T12:41:28.784Z"
   },
   {
    "duration": 47,
    "start_time": "2022-05-29T12:42:45.219Z"
   },
   {
    "duration": 155,
    "start_time": "2022-05-29T12:43:02.130Z"
   },
   {
    "duration": 16,
    "start_time": "2022-05-29T12:43:16.277Z"
   },
   {
    "duration": 10,
    "start_time": "2022-05-29T12:43:25.900Z"
   },
   {
    "duration": 20,
    "start_time": "2022-05-29T12:43:40.272Z"
   },
   {
    "duration": 27,
    "start_time": "2022-05-29T12:43:56.169Z"
   },
   {
    "duration": 22,
    "start_time": "2022-05-29T12:44:04.472Z"
   },
   {
    "duration": 9,
    "start_time": "2022-05-29T12:45:47.980Z"
   },
   {
    "duration": 12,
    "start_time": "2022-05-29T12:48:37.815Z"
   },
   {
    "duration": 18,
    "start_time": "2022-05-29T12:56:08.677Z"
   },
   {
    "duration": 23,
    "start_time": "2022-05-29T12:59:15.777Z"
   },
   {
    "duration": 6,
    "start_time": "2022-05-29T12:59:51.326Z"
   },
   {
    "duration": 1048,
    "start_time": "2022-05-29T18:56:17.687Z"
   },
   {
    "duration": 1175,
    "start_time": "2022-05-29T18:59:09.300Z"
   },
   {
    "duration": 1152,
    "start_time": "2022-05-29T18:59:52.621Z"
   },
   {
    "duration": 1204,
    "start_time": "2022-05-29T20:50:14.514Z"
   },
   {
    "duration": 294,
    "start_time": "2022-05-29T20:50:36.847Z"
   },
   {
    "duration": 223,
    "start_time": "2022-05-29T20:50:47.795Z"
   },
   {
    "duration": 11,
    "start_time": "2022-05-29T20:53:40.257Z"
   },
   {
    "duration": 15,
    "start_time": "2022-05-29T20:54:04.311Z"
   },
   {
    "duration": 1102,
    "start_time": "2022-05-29T20:56:19.486Z"
   },
   {
    "duration": 8,
    "start_time": "2022-05-29T21:01:57.999Z"
   },
   {
    "duration": 14,
    "start_time": "2022-05-29T21:08:58.557Z"
   },
   {
    "duration": 8,
    "start_time": "2022-05-29T21:09:08.252Z"
   },
   {
    "duration": 8,
    "start_time": "2022-05-29T21:09:22.079Z"
   },
   {
    "duration": 11,
    "start_time": "2022-05-29T21:09:26.906Z"
   },
   {
    "duration": 565,
    "start_time": "2022-05-29T21:20:27.647Z"
   },
   {
    "duration": 471,
    "start_time": "2022-05-29T21:22:28.658Z"
   },
   {
    "duration": 1079,
    "start_time": "2022-05-29T21:27:52.550Z"
   },
   {
    "duration": 1070,
    "start_time": "2022-05-29T21:27:53.631Z"
   },
   {
    "duration": 293,
    "start_time": "2022-05-29T21:27:54.702Z"
   },
   {
    "duration": 199,
    "start_time": "2022-05-29T21:27:54.997Z"
   },
   {
    "duration": 25,
    "start_time": "2022-05-29T21:27:55.198Z"
   },
   {
    "duration": 73,
    "start_time": "2022-05-29T21:27:55.225Z"
   },
   {
    "duration": 13,
    "start_time": "2022-05-29T21:27:55.300Z"
   },
   {
    "duration": 28,
    "start_time": "2022-05-29T21:27:55.314Z"
   },
   {
    "duration": 12,
    "start_time": "2022-05-29T21:27:55.344Z"
   },
   {
    "duration": 89,
    "start_time": "2022-05-29T21:27:55.358Z"
   },
   {
    "duration": 29,
    "start_time": "2022-05-29T21:27:55.448Z"
   },
   {
    "duration": 35,
    "start_time": "2022-05-29T21:27:55.479Z"
   },
   {
    "duration": 81,
    "start_time": "2022-05-29T21:27:55.516Z"
   },
   {
    "duration": 46,
    "start_time": "2022-05-29T21:27:55.599Z"
   },
   {
    "duration": 75,
    "start_time": "2022-05-29T21:27:55.647Z"
   },
   {
    "duration": 44,
    "start_time": "2022-05-29T21:27:55.724Z"
   },
   {
    "duration": 220,
    "start_time": "2022-05-29T21:27:55.770Z"
   },
   {
    "duration": 202,
    "start_time": "2022-05-29T21:27:55.991Z"
   },
   {
    "duration": 7,
    "start_time": "2022-05-29T21:27:56.195Z"
   },
   {
    "duration": 1107,
    "start_time": "2022-05-29T21:27:56.204Z"
   },
   {
    "duration": 1092,
    "start_time": "2022-05-29T21:27:57.312Z"
   },
   {
    "duration": 1098,
    "start_time": "2022-05-29T21:27:58.406Z"
   },
   {
    "duration": 518,
    "start_time": "2022-05-29T21:27:59.506Z"
   },
   {
    "duration": 18,
    "start_time": "2022-05-29T21:28:00.025Z"
   },
   {
    "duration": 8,
    "start_time": "2022-05-29T21:28:00.045Z"
   },
   {
    "duration": 14,
    "start_time": "2022-05-29T21:28:00.054Z"
   },
   {
    "duration": 8,
    "start_time": "2022-05-29T21:28:00.069Z"
   },
   {
    "duration": 9,
    "start_time": "2022-05-29T21:28:00.079Z"
   },
   {
    "duration": 481,
    "start_time": "2022-05-29T21:29:15.689Z"
   },
   {
    "duration": 607,
    "start_time": "2022-05-29T21:29:34.778Z"
   },
   {
    "duration": 1005,
    "start_time": "2022-05-29T21:29:57.471Z"
   },
   {
    "duration": 353,
    "start_time": "2022-05-29T21:29:58.478Z"
   },
   {
    "duration": 265,
    "start_time": "2022-05-29T21:29:58.841Z"
   },
   {
    "duration": 191,
    "start_time": "2022-05-29T21:29:59.109Z"
   },
   {
    "duration": 26,
    "start_time": "2022-05-29T21:29:59.302Z"
   },
   {
    "duration": 74,
    "start_time": "2022-05-29T21:29:59.330Z"
   },
   {
    "duration": 14,
    "start_time": "2022-05-29T21:29:59.405Z"
   },
   {
    "duration": 29,
    "start_time": "2022-05-29T21:29:59.421Z"
   },
   {
    "duration": 12,
    "start_time": "2022-05-29T21:29:59.451Z"
   },
   {
    "duration": 90,
    "start_time": "2022-05-29T21:29:59.466Z"
   },
   {
    "duration": 28,
    "start_time": "2022-05-29T21:29:59.558Z"
   },
   {
    "duration": 34,
    "start_time": "2022-05-29T21:29:59.588Z"
   },
   {
    "duration": 57,
    "start_time": "2022-05-29T21:29:59.642Z"
   },
   {
    "duration": 51,
    "start_time": "2022-05-29T21:29:59.701Z"
   },
   {
    "duration": 91,
    "start_time": "2022-05-29T21:29:59.754Z"
   },
   {
    "duration": 30,
    "start_time": "2022-05-29T21:29:59.847Z"
   },
   {
    "duration": 225,
    "start_time": "2022-05-29T21:29:59.879Z"
   },
   {
    "duration": 219,
    "start_time": "2022-05-29T21:30:00.105Z"
   },
   {
    "duration": 15,
    "start_time": "2022-05-29T21:30:00.326Z"
   },
   {
    "duration": 1016,
    "start_time": "2022-05-29T21:30:00.343Z"
   },
   {
    "duration": 1085,
    "start_time": "2022-05-29T21:30:01.360Z"
   },
   {
    "duration": 1087,
    "start_time": "2022-05-29T21:30:02.447Z"
   },
   {
    "duration": 497,
    "start_time": "2022-05-29T21:30:03.536Z"
   },
   {
    "duration": 460,
    "start_time": "2022-05-29T21:30:04.034Z"
   },
   {
    "duration": 7,
    "start_time": "2022-05-29T21:30:04.496Z"
   },
   {
    "duration": 10,
    "start_time": "2022-05-29T21:30:04.505Z"
   },
   {
    "duration": 30,
    "start_time": "2022-05-29T21:30:04.516Z"
   },
   {
    "duration": 8,
    "start_time": "2022-05-29T21:30:04.548Z"
   },
   {
    "duration": 5,
    "start_time": "2022-05-29T21:30:04.557Z"
   },
   {
    "duration": 1193,
    "start_time": "2022-05-31T16:06:37.700Z"
   },
   {
    "duration": 424,
    "start_time": "2022-05-31T16:06:38.895Z"
   },
   {
    "duration": 439,
    "start_time": "2022-05-31T16:06:39.321Z"
   },
   {
    "duration": 419,
    "start_time": "2022-05-31T16:06:39.776Z"
   },
   {
    "duration": 89,
    "start_time": "2022-05-31T16:06:40.197Z"
   },
   {
    "duration": 108,
    "start_time": "2022-05-31T16:06:40.288Z"
   },
   {
    "duration": 16,
    "start_time": "2022-05-31T16:06:40.398Z"
   },
   {
    "duration": 19,
    "start_time": "2022-05-31T16:06:40.416Z"
   },
   {
    "duration": 42,
    "start_time": "2022-05-31T16:06:40.436Z"
   },
   {
    "duration": 70,
    "start_time": "2022-05-31T16:06:40.480Z"
   },
   {
    "duration": 51,
    "start_time": "2022-05-31T16:06:40.552Z"
   },
   {
    "duration": 35,
    "start_time": "2022-05-31T16:06:40.604Z"
   },
   {
    "duration": 78,
    "start_time": "2022-05-31T16:06:40.641Z"
   },
   {
    "duration": 32,
    "start_time": "2022-05-31T16:06:40.721Z"
   },
   {
    "duration": 90,
    "start_time": "2022-05-31T16:06:40.754Z"
   },
   {
    "duration": 56,
    "start_time": "2022-05-31T16:06:40.845Z"
   },
   {
    "duration": 200,
    "start_time": "2022-05-31T16:06:40.902Z"
   },
   {
    "duration": 191,
    "start_time": "2022-05-31T16:06:41.103Z"
   },
   {
    "duration": 9,
    "start_time": "2022-05-31T16:06:41.296Z"
   },
   {
    "duration": 961,
    "start_time": "2022-05-31T16:06:41.307Z"
   },
   {
    "duration": 1205,
    "start_time": "2022-05-31T16:06:42.270Z"
   },
   {
    "duration": 1021,
    "start_time": "2022-05-31T16:06:43.477Z"
   },
   {
    "duration": 475,
    "start_time": "2022-05-31T16:06:44.501Z"
   },
   {
    "duration": 461,
    "start_time": "2022-05-31T16:06:44.978Z"
   },
   {
    "duration": 8,
    "start_time": "2022-05-31T16:06:45.440Z"
   },
   {
    "duration": 28,
    "start_time": "2022-05-31T16:06:45.449Z"
   },
   {
    "duration": 16,
    "start_time": "2022-05-31T16:06:45.479Z"
   },
   {
    "duration": 8,
    "start_time": "2022-05-31T16:06:45.498Z"
   },
   {
    "duration": 8,
    "start_time": "2022-05-31T16:06:45.508Z"
   },
   {
    "duration": 1229,
    "start_time": "2022-06-03T05:35:53.722Z"
   },
   {
    "duration": 443,
    "start_time": "2022-06-03T05:35:54.952Z"
   },
   {
    "duration": 473,
    "start_time": "2022-06-03T05:35:55.396Z"
   },
   {
    "duration": 405,
    "start_time": "2022-06-03T05:35:55.871Z"
   },
   {
    "duration": 79,
    "start_time": "2022-06-03T05:35:56.277Z"
   },
   {
    "duration": 103,
    "start_time": "2022-06-03T05:35:56.357Z"
   },
   {
    "duration": 13,
    "start_time": "2022-06-03T05:35:56.462Z"
   },
   {
    "duration": 13,
    "start_time": "2022-06-03T05:35:56.477Z"
   },
   {
    "duration": 12,
    "start_time": "2022-06-03T05:35:56.492Z"
   },
   {
    "duration": 101,
    "start_time": "2022-06-03T05:35:56.507Z"
   },
   {
    "duration": 30,
    "start_time": "2022-06-03T05:35:56.610Z"
   },
   {
    "duration": 48,
    "start_time": "2022-06-03T05:35:56.641Z"
   },
   {
    "duration": 69,
    "start_time": "2022-06-03T05:35:56.691Z"
   },
   {
    "duration": 34,
    "start_time": "2022-06-03T05:35:56.762Z"
   },
   {
    "duration": 92,
    "start_time": "2022-06-03T05:35:56.797Z"
   },
   {
    "duration": 31,
    "start_time": "2022-06-03T05:35:56.890Z"
   },
   {
    "duration": 221,
    "start_time": "2022-06-03T05:35:56.923Z"
   },
   {
    "duration": 243,
    "start_time": "2022-06-03T05:35:57.146Z"
   },
   {
    "duration": 8,
    "start_time": "2022-06-03T05:35:57.391Z"
   },
   {
    "duration": 1054,
    "start_time": "2022-06-03T05:35:57.400Z"
   },
   {
    "duration": 1073,
    "start_time": "2022-06-03T05:35:58.458Z"
   },
   {
    "duration": 1119,
    "start_time": "2022-06-03T05:35:59.533Z"
   },
   {
    "duration": 505,
    "start_time": "2022-06-03T05:36:00.654Z"
   },
   {
    "duration": 480,
    "start_time": "2022-06-03T05:36:01.161Z"
   },
   {
    "duration": 17,
    "start_time": "2022-06-03T05:36:01.643Z"
   },
   {
    "duration": 11,
    "start_time": "2022-06-03T05:36:01.662Z"
   },
   {
    "duration": 38,
    "start_time": "2022-06-03T05:36:01.675Z"
   },
   {
    "duration": 32,
    "start_time": "2022-06-03T05:36:01.716Z"
   },
   {
    "duration": 20,
    "start_time": "2022-06-03T05:36:01.749Z"
   },
   {
    "duration": 1362,
    "start_time": "2022-06-05T20:54:41.890Z"
   },
   {
    "duration": 1055,
    "start_time": "2022-06-05T20:54:43.255Z"
   },
   {
    "duration": 423,
    "start_time": "2022-06-05T20:55:21.095Z"
   },
   {
    "duration": 3,
    "start_time": "2022-06-05T20:55:37.283Z"
   },
   {
    "duration": 415,
    "start_time": "2022-06-05T20:55:37.820Z"
   },
   {
    "duration": 3,
    "start_time": "2022-06-05T20:56:42.087Z"
   },
   {
    "duration": 461,
    "start_time": "2022-06-05T20:56:42.674Z"
   },
   {
    "duration": 2,
    "start_time": "2022-06-05T20:58:53.871Z"
   },
   {
    "duration": 452,
    "start_time": "2022-06-05T20:58:54.560Z"
   },
   {
    "duration": 1191,
    "start_time": "2022-06-07T05:35:03.588Z"
   },
   {
    "duration": 778,
    "start_time": "2022-06-07T05:35:04.781Z"
   },
   {
    "duration": 7,
    "start_time": "2022-06-07T05:35:05.561Z"
   },
   {
    "duration": 0,
    "start_time": "2022-06-07T05:35:05.570Z"
   },
   {
    "duration": 0,
    "start_time": "2022-06-07T05:35:05.571Z"
   },
   {
    "duration": 0,
    "start_time": "2022-06-07T05:35:05.574Z"
   },
   {
    "duration": 0,
    "start_time": "2022-06-07T05:35:05.575Z"
   },
   {
    "duration": 0,
    "start_time": "2022-06-07T05:35:05.577Z"
   },
   {
    "duration": 0,
    "start_time": "2022-06-07T05:35:05.578Z"
   },
   {
    "duration": 0,
    "start_time": "2022-06-07T05:35:05.579Z"
   },
   {
    "duration": 0,
    "start_time": "2022-06-07T05:35:05.580Z"
   },
   {
    "duration": 0,
    "start_time": "2022-06-07T05:35:05.582Z"
   },
   {
    "duration": 0,
    "start_time": "2022-06-07T05:35:05.583Z"
   },
   {
    "duration": 0,
    "start_time": "2022-06-07T05:35:05.585Z"
   },
   {
    "duration": 0,
    "start_time": "2022-06-07T05:35:05.586Z"
   },
   {
    "duration": 0,
    "start_time": "2022-06-07T05:35:05.588Z"
   },
   {
    "duration": 0,
    "start_time": "2022-06-07T05:35:05.629Z"
   },
   {
    "duration": 0,
    "start_time": "2022-06-07T05:35:05.631Z"
   },
   {
    "duration": 0,
    "start_time": "2022-06-07T05:35:05.632Z"
   },
   {
    "duration": 0,
    "start_time": "2022-06-07T05:35:05.634Z"
   },
   {
    "duration": 0,
    "start_time": "2022-06-07T05:35:05.635Z"
   },
   {
    "duration": 0,
    "start_time": "2022-06-07T05:35:05.637Z"
   },
   {
    "duration": 0,
    "start_time": "2022-06-07T05:35:05.638Z"
   },
   {
    "duration": 0,
    "start_time": "2022-06-07T05:35:05.639Z"
   },
   {
    "duration": 0,
    "start_time": "2022-06-07T05:35:05.641Z"
   },
   {
    "duration": 0,
    "start_time": "2022-06-07T05:35:05.643Z"
   },
   {
    "duration": 0,
    "start_time": "2022-06-07T05:35:05.644Z"
   },
   {
    "duration": 0,
    "start_time": "2022-06-07T05:35:05.645Z"
   },
   {
    "duration": 0,
    "start_time": "2022-06-07T05:35:05.647Z"
   },
   {
    "duration": 1109,
    "start_time": "2022-06-07T18:46:20.192Z"
   },
   {
    "duration": 1200,
    "start_time": "2022-06-07T18:46:21.302Z"
   },
   {
    "duration": 554,
    "start_time": "2022-06-07T18:46:39.559Z"
   },
   {
    "duration": 269,
    "start_time": "2022-06-07T18:47:11.886Z"
   },
   {
    "duration": 190,
    "start_time": "2022-06-07T18:50:03.385Z"
   },
   {
    "duration": 46,
    "start_time": "2022-06-07T18:50:14.291Z"
   },
   {
    "duration": 38,
    "start_time": "2022-06-07T18:50:26.780Z"
   },
   {
    "duration": 11,
    "start_time": "2022-06-07T18:50:30.488Z"
   },
   {
    "duration": 8,
    "start_time": "2022-06-07T18:50:41.038Z"
   },
   {
    "duration": 405,
    "start_time": "2022-06-07T18:50:41.412Z"
   },
   {
    "duration": 300,
    "start_time": "2022-06-07T18:50:41.874Z"
   },
   {
    "duration": 405,
    "start_time": "2022-06-07T18:50:42.702Z"
   },
   {
    "duration": 66,
    "start_time": "2022-06-07T18:50:43.247Z"
   },
   {
    "duration": 182,
    "start_time": "2022-06-07T18:50:44.062Z"
   },
   {
    "duration": 20,
    "start_time": "2022-06-07T18:50:46.978Z"
   },
   {
    "duration": 16,
    "start_time": "2022-06-07T18:50:47.913Z"
   },
   {
    "duration": 14,
    "start_time": "2022-06-07T18:50:51.654Z"
   },
   {
    "duration": 52,
    "start_time": "2022-06-07T18:50:52.512Z"
   },
   {
    "duration": 35,
    "start_time": "2022-06-07T18:50:54.544Z"
   },
   {
    "duration": 45,
    "start_time": "2022-06-07T18:50:55.146Z"
   },
   {
    "duration": 74,
    "start_time": "2022-06-07T18:50:57.985Z"
   },
   {
    "duration": 48,
    "start_time": "2022-06-07T18:51:10.567Z"
   },
   {
    "duration": 43,
    "start_time": "2022-06-07T18:56:25.388Z"
   },
   {
    "duration": 103,
    "start_time": "2022-06-07T18:56:45.307Z"
   },
   {
    "duration": 35,
    "start_time": "2022-06-07T18:56:47.143Z"
   },
   {
    "duration": 189,
    "start_time": "2022-06-07T18:57:05.971Z"
   },
   {
    "duration": 188,
    "start_time": "2022-06-07T18:57:06.200Z"
   },
   {
    "duration": 7,
    "start_time": "2022-06-07T18:57:06.451Z"
   },
   {
    "duration": 950,
    "start_time": "2022-06-07T18:57:06.694Z"
   },
   {
    "duration": 1242,
    "start_time": "2022-06-07T18:57:07.666Z"
   },
   {
    "duration": 1309,
    "start_time": "2022-06-07T18:57:08.909Z"
   },
   {
    "duration": 641,
    "start_time": "2022-06-07T18:57:10.227Z"
   },
   {
    "duration": 456,
    "start_time": "2022-06-07T18:57:16.100Z"
   },
   {
    "duration": 569,
    "start_time": "2022-06-07T19:03:04.669Z"
   },
   {
    "duration": 663,
    "start_time": "2022-06-07T19:03:09.686Z"
   },
   {
    "duration": 610,
    "start_time": "2022-06-07T19:03:36.998Z"
   },
   {
    "duration": 6,
    "start_time": "2022-06-07T19:10:41.905Z"
   },
   {
    "duration": 8,
    "start_time": "2022-06-07T19:10:42.451Z"
   },
   {
    "duration": 13,
    "start_time": "2022-06-07T19:10:45.106Z"
   },
   {
    "duration": 8,
    "start_time": "2022-06-07T19:10:45.689Z"
   },
   {
    "duration": 6,
    "start_time": "2022-06-07T19:10:46.245Z"
   },
   {
    "duration": 583,
    "start_time": "2022-06-07T19:15:55.119Z"
   },
   {
    "duration": 9,
    "start_time": "2022-06-07T19:22:27.643Z"
   },
   {
    "duration": 7,
    "start_time": "2022-06-07T19:22:37.709Z"
   },
   {
    "duration": 7,
    "start_time": "2022-06-07T19:27:27.460Z"
   },
   {
    "duration": 1065,
    "start_time": "2022-06-07T19:29:14.608Z"
   },
   {
    "duration": 354,
    "start_time": "2022-06-07T19:29:15.675Z"
   },
   {
    "duration": 256,
    "start_time": "2022-06-07T19:29:16.031Z"
   },
   {
    "duration": 200,
    "start_time": "2022-06-07T19:29:16.289Z"
   },
   {
    "duration": 28,
    "start_time": "2022-06-07T19:29:16.491Z"
   },
   {
    "duration": 98,
    "start_time": "2022-06-07T19:29:16.525Z"
   },
   {
    "duration": 29,
    "start_time": "2022-06-07T19:29:16.626Z"
   },
   {
    "duration": 16,
    "start_time": "2022-06-07T19:29:16.657Z"
   },
   {
    "duration": 14,
    "start_time": "2022-06-07T19:29:16.675Z"
   },
   {
    "duration": 68,
    "start_time": "2022-06-07T19:29:16.692Z"
   },
   {
    "duration": 38,
    "start_time": "2022-06-07T19:29:16.761Z"
   },
   {
    "duration": 52,
    "start_time": "2022-06-07T19:29:16.801Z"
   },
   {
    "duration": 70,
    "start_time": "2022-06-07T19:29:16.857Z"
   },
   {
    "duration": 50,
    "start_time": "2022-06-07T19:29:16.929Z"
   },
   {
    "duration": 117,
    "start_time": "2022-06-07T19:29:16.981Z"
   },
   {
    "duration": 52,
    "start_time": "2022-06-07T19:29:17.099Z"
   },
   {
    "duration": 197,
    "start_time": "2022-06-07T19:29:17.153Z"
   },
   {
    "duration": 129,
    "start_time": "2022-06-07T19:29:17.351Z"
   },
   {
    "duration": 6,
    "start_time": "2022-06-07T19:29:17.482Z"
   },
   {
    "duration": 1094,
    "start_time": "2022-06-07T19:29:17.490Z"
   },
   {
    "duration": 1123,
    "start_time": "2022-06-07T19:29:18.586Z"
   },
   {
    "duration": 1153,
    "start_time": "2022-06-07T19:29:19.711Z"
   },
   {
    "duration": 490,
    "start_time": "2022-06-07T19:29:20.866Z"
   },
   {
    "duration": 467,
    "start_time": "2022-06-07T19:29:21.357Z"
   },
   {
    "duration": 647,
    "start_time": "2022-06-07T19:29:21.826Z"
   },
   {
    "duration": 6,
    "start_time": "2022-06-07T19:29:22.475Z"
   },
   {
    "duration": 11,
    "start_time": "2022-06-07T19:29:22.483Z"
   },
   {
    "duration": 40,
    "start_time": "2022-06-07T19:29:22.497Z"
   },
   {
    "duration": 23,
    "start_time": "2022-06-07T19:29:22.539Z"
   },
   {
    "duration": 4,
    "start_time": "2022-06-07T19:29:22.564Z"
   },
   {
    "duration": 71,
    "start_time": "2022-06-07T19:38:33.642Z"
   },
   {
    "duration": 57,
    "start_time": "2022-06-07T19:39:52.074Z"
   },
   {
    "duration": 69,
    "start_time": "2022-06-07T19:40:18.193Z"
   },
   {
    "duration": 89,
    "start_time": "2022-06-07T19:40:44.099Z"
   },
   {
    "duration": 38,
    "start_time": "2022-06-07T19:40:46.325Z"
   },
   {
    "duration": 1020,
    "start_time": "2022-06-07T19:41:13.019Z"
   },
   {
    "duration": 362,
    "start_time": "2022-06-07T19:41:14.041Z"
   },
   {
    "duration": 248,
    "start_time": "2022-06-07T19:41:14.404Z"
   },
   {
    "duration": 184,
    "start_time": "2022-06-07T19:41:14.654Z"
   },
   {
    "duration": 27,
    "start_time": "2022-06-07T19:41:14.839Z"
   },
   {
    "duration": 72,
    "start_time": "2022-06-07T19:41:14.867Z"
   },
   {
    "duration": 12,
    "start_time": "2022-06-07T19:41:14.941Z"
   },
   {
    "duration": 14,
    "start_time": "2022-06-07T19:41:14.954Z"
   },
   {
    "duration": 10,
    "start_time": "2022-06-07T19:41:14.969Z"
   },
   {
    "duration": 74,
    "start_time": "2022-06-07T19:41:14.982Z"
   },
   {
    "duration": 27,
    "start_time": "2022-06-07T19:41:15.057Z"
   },
   {
    "duration": 42,
    "start_time": "2022-06-07T19:41:15.085Z"
   },
   {
    "duration": 56,
    "start_time": "2022-06-07T19:41:15.129Z"
   },
   {
    "duration": 87,
    "start_time": "2022-06-07T19:41:15.186Z"
   },
   {
    "duration": 98,
    "start_time": "2022-06-07T19:41:15.275Z"
   },
   {
    "duration": 34,
    "start_time": "2022-06-07T19:41:15.375Z"
   },
   {
    "duration": 189,
    "start_time": "2022-06-07T19:41:15.411Z"
   },
   {
    "duration": 183,
    "start_time": "2022-06-07T19:41:15.601Z"
   },
   {
    "duration": 7,
    "start_time": "2022-06-07T19:41:15.785Z"
   },
   {
    "duration": 963,
    "start_time": "2022-06-07T19:41:15.794Z"
   },
   {
    "duration": 1019,
    "start_time": "2022-06-07T19:41:16.759Z"
   },
   {
    "duration": 1006,
    "start_time": "2022-06-07T19:41:17.779Z"
   },
   {
    "duration": 461,
    "start_time": "2022-06-07T19:41:18.787Z"
   },
   {
    "duration": 442,
    "start_time": "2022-06-07T19:41:19.250Z"
   },
   {
    "duration": 601,
    "start_time": "2022-06-07T19:41:19.694Z"
   },
   {
    "duration": 6,
    "start_time": "2022-06-07T19:41:20.297Z"
   },
   {
    "duration": 31,
    "start_time": "2022-06-07T19:41:20.305Z"
   },
   {
    "duration": 30,
    "start_time": "2022-06-07T19:41:20.339Z"
   },
   {
    "duration": 15,
    "start_time": "2022-06-07T19:41:20.370Z"
   },
   {
    "duration": 7,
    "start_time": "2022-06-07T19:41:20.387Z"
   },
   {
    "duration": 445,
    "start_time": "2022-06-07T19:45:53.266Z"
   },
   {
    "duration": 59,
    "start_time": "2022-06-07T19:46:39.829Z"
   },
   {
    "duration": 6,
    "start_time": "2022-06-07T19:47:22.598Z"
   },
   {
    "duration": 957,
    "start_time": "2022-06-07T19:47:43.738Z"
   },
   {
    "duration": 340,
    "start_time": "2022-06-07T19:47:44.697Z"
   },
   {
    "duration": 241,
    "start_time": "2022-06-07T19:47:45.039Z"
   },
   {
    "duration": 188,
    "start_time": "2022-06-07T19:47:45.282Z"
   },
   {
    "duration": 25,
    "start_time": "2022-06-07T19:47:45.471Z"
   },
   {
    "duration": 70,
    "start_time": "2022-06-07T19:47:45.498Z"
   },
   {
    "duration": 12,
    "start_time": "2022-06-07T19:47:45.570Z"
   },
   {
    "duration": 16,
    "start_time": "2022-06-07T19:47:45.583Z"
   },
   {
    "duration": 29,
    "start_time": "2022-06-07T19:47:45.601Z"
   },
   {
    "duration": 47,
    "start_time": "2022-06-07T19:47:45.633Z"
   },
   {
    "duration": 28,
    "start_time": "2022-06-07T19:47:45.681Z"
   },
   {
    "duration": 31,
    "start_time": "2022-06-07T19:47:45.725Z"
   },
   {
    "duration": 68,
    "start_time": "2022-06-07T19:47:45.758Z"
   },
   {
    "duration": 77,
    "start_time": "2022-06-07T19:47:45.827Z"
   },
   {
    "duration": 102,
    "start_time": "2022-06-07T19:47:45.905Z"
   },
   {
    "duration": 45,
    "start_time": "2022-06-07T19:47:46.009Z"
   },
   {
    "duration": 184,
    "start_time": "2022-06-07T19:47:46.055Z"
   },
   {
    "duration": 182,
    "start_time": "2022-06-07T19:47:46.240Z"
   },
   {
    "duration": 12,
    "start_time": "2022-06-07T19:47:46.425Z"
   },
   {
    "duration": 999,
    "start_time": "2022-06-07T19:47:46.438Z"
   },
   {
    "duration": 1005,
    "start_time": "2022-06-07T19:47:47.439Z"
   },
   {
    "duration": 973,
    "start_time": "2022-06-07T19:47:48.446Z"
   },
   {
    "duration": 416,
    "start_time": "2022-06-07T19:47:49.425Z"
   },
   {
    "duration": 415,
    "start_time": "2022-06-07T19:47:49.843Z"
   },
   {
    "duration": 584,
    "start_time": "2022-06-07T19:47:50.260Z"
   },
   {
    "duration": 7,
    "start_time": "2022-06-07T19:47:50.846Z"
   },
   {
    "duration": 7,
    "start_time": "2022-06-07T19:47:50.855Z"
   },
   {
    "duration": 11,
    "start_time": "2022-06-07T19:47:50.864Z"
   },
   {
    "duration": 50,
    "start_time": "2022-06-07T19:47:50.876Z"
   },
   {
    "duration": 1243,
    "start_time": "2022-06-12T14:49:08.053Z"
   },
   {
    "duration": 474,
    "start_time": "2022-06-12T14:49:09.298Z"
   },
   {
    "duration": 605,
    "start_time": "2022-06-12T14:49:09.773Z"
   },
   {
    "duration": 417,
    "start_time": "2022-06-12T14:49:10.380Z"
   },
   {
    "duration": 67,
    "start_time": "2022-06-12T14:49:10.798Z"
   },
   {
    "duration": 102,
    "start_time": "2022-06-12T14:49:10.866Z"
   },
   {
    "duration": 14,
    "start_time": "2022-06-12T14:49:10.970Z"
   },
   {
    "duration": 41,
    "start_time": "2022-06-12T14:49:10.987Z"
   },
   {
    "duration": 14,
    "start_time": "2022-06-12T14:49:11.030Z"
   },
   {
    "duration": 85,
    "start_time": "2022-06-12T14:49:11.047Z"
   },
   {
    "duration": 33,
    "start_time": "2022-06-12T14:49:11.134Z"
   },
   {
    "duration": 55,
    "start_time": "2022-06-12T14:49:11.169Z"
   },
   {
    "duration": 61,
    "start_time": "2022-06-12T14:49:11.227Z"
   },
   {
    "duration": 97,
    "start_time": "2022-06-12T14:49:11.290Z"
   },
   {
    "duration": 114,
    "start_time": "2022-06-12T14:49:11.389Z"
   },
   {
    "duration": 48,
    "start_time": "2022-06-12T14:49:11.504Z"
   },
   {
    "duration": 216,
    "start_time": "2022-06-12T14:49:11.554Z"
   },
   {
    "duration": 152,
    "start_time": "2022-06-12T14:49:11.772Z"
   },
   {
    "duration": 9,
    "start_time": "2022-06-12T14:49:11.926Z"
   },
   {
    "duration": 1208,
    "start_time": "2022-06-12T14:49:11.937Z"
   },
   {
    "duration": 1023,
    "start_time": "2022-06-12T14:49:13.146Z"
   },
   {
    "duration": 1164,
    "start_time": "2022-06-12T14:49:14.171Z"
   },
   {
    "duration": 486,
    "start_time": "2022-06-12T14:49:15.337Z"
   },
   {
    "duration": 611,
    "start_time": "2022-06-12T14:49:15.825Z"
   },
   {
    "duration": 553,
    "start_time": "2022-06-12T14:49:16.437Z"
   },
   {
    "duration": 7,
    "start_time": "2022-06-12T14:49:16.991Z"
   },
   {
    "duration": 29,
    "start_time": "2022-06-12T14:49:16.999Z"
   },
   {
    "duration": 14,
    "start_time": "2022-06-12T14:49:17.031Z"
   },
   {
    "duration": 7,
    "start_time": "2022-06-12T14:49:17.046Z"
   },
   {
    "duration": 6,
    "start_time": "2022-06-12T14:49:17.054Z"
   },
   {
    "duration": 6,
    "start_time": "2022-06-12T14:49:31.253Z"
   },
   {
    "duration": 6,
    "start_time": "2022-06-12T14:49:57.429Z"
   },
   {
    "duration": 6,
    "start_time": "2022-06-12T14:50:48.207Z"
   },
   {
    "duration": 333,
    "start_time": "2022-06-12T14:51:32.116Z"
   },
   {
    "duration": 256,
    "start_time": "2022-06-12T14:52:17.961Z"
   },
   {
    "duration": 247,
    "start_time": "2022-06-12T14:52:40.163Z"
   },
   {
    "duration": 322,
    "start_time": "2022-06-12T14:53:42.151Z"
   },
   {
    "duration": 1062,
    "start_time": "2022-06-12T14:54:23.703Z"
   },
   {
    "duration": 378,
    "start_time": "2022-06-12T14:54:24.767Z"
   },
   {
    "duration": 277,
    "start_time": "2022-06-12T14:54:25.147Z"
   },
   {
    "duration": 205,
    "start_time": "2022-06-12T14:54:25.425Z"
   },
   {
    "duration": 26,
    "start_time": "2022-06-12T14:54:25.632Z"
   },
   {
    "duration": 73,
    "start_time": "2022-06-12T14:54:25.659Z"
   },
   {
    "duration": 15,
    "start_time": "2022-06-12T14:54:25.734Z"
   },
   {
    "duration": 13,
    "start_time": "2022-06-12T14:54:25.750Z"
   },
   {
    "duration": 11,
    "start_time": "2022-06-12T14:54:25.765Z"
   },
   {
    "duration": 49,
    "start_time": "2022-06-12T14:54:25.824Z"
   },
   {
    "duration": 30,
    "start_time": "2022-06-12T14:54:25.874Z"
   },
   {
    "duration": 39,
    "start_time": "2022-06-12T14:54:25.923Z"
   },
   {
    "duration": 85,
    "start_time": "2022-06-12T14:54:25.964Z"
   },
   {
    "duration": 98,
    "start_time": "2022-06-12T14:54:26.051Z"
   },
   {
    "duration": 115,
    "start_time": "2022-06-12T14:54:26.151Z"
   },
   {
    "duration": 59,
    "start_time": "2022-06-12T14:54:26.267Z"
   },
   {
    "duration": 219,
    "start_time": "2022-06-12T14:54:26.327Z"
   },
   {
    "duration": 139,
    "start_time": "2022-06-12T14:54:26.547Z"
   },
   {
    "duration": 8,
    "start_time": "2022-06-12T14:54:26.687Z"
   },
   {
    "duration": 1100,
    "start_time": "2022-06-12T14:54:26.697Z"
   },
   {
    "duration": 1043,
    "start_time": "2022-06-12T14:54:27.799Z"
   },
   {
    "duration": 1138,
    "start_time": "2022-06-12T14:54:28.844Z"
   },
   {
    "duration": 517,
    "start_time": "2022-06-12T14:54:29.983Z"
   },
   {
    "duration": 649,
    "start_time": "2022-06-12T14:54:30.502Z"
   },
   {
    "duration": 551,
    "start_time": "2022-06-12T14:54:31.153Z"
   },
   {
    "duration": 22,
    "start_time": "2022-06-12T14:54:31.705Z"
   },
   {
    "duration": 8,
    "start_time": "2022-06-12T14:54:31.728Z"
   },
   {
    "duration": 33,
    "start_time": "2022-06-12T14:54:31.739Z"
   },
   {
    "duration": 10,
    "start_time": "2022-06-12T14:54:31.774Z"
   },
   {
    "duration": 6,
    "start_time": "2022-06-12T14:54:31.822Z"
   },
   {
    "duration": 136,
    "start_time": "2022-06-12T14:54:31.830Z"
   },
   {
    "duration": 16,
    "start_time": "2022-06-12T14:55:39.281Z"
   },
   {
    "duration": 5,
    "start_time": "2022-06-12T14:55:41.164Z"
   },
   {
    "duration": 5,
    "start_time": "2022-06-12T14:55:42.489Z"
   },
   {
    "duration": 5,
    "start_time": "2022-06-12T14:58:13.407Z"
   },
   {
    "duration": 5,
    "start_time": "2022-06-12T14:58:17.850Z"
   },
   {
    "duration": 1087,
    "start_time": "2022-06-12T15:00:44.729Z"
   },
   {
    "duration": 426,
    "start_time": "2022-06-12T15:00:45.818Z"
   },
   {
    "duration": 303,
    "start_time": "2022-06-12T15:00:46.246Z"
   },
   {
    "duration": 237,
    "start_time": "2022-06-12T15:00:46.552Z"
   },
   {
    "duration": 35,
    "start_time": "2022-06-12T15:00:46.791Z"
   },
   {
    "duration": 77,
    "start_time": "2022-06-12T15:00:46.828Z"
   },
   {
    "duration": 28,
    "start_time": "2022-06-12T15:00:46.906Z"
   },
   {
    "duration": 16,
    "start_time": "2022-06-12T15:00:46.936Z"
   },
   {
    "duration": 12,
    "start_time": "2022-06-12T15:00:46.954Z"
   },
   {
    "duration": 96,
    "start_time": "2022-06-12T15:00:46.969Z"
   },
   {
    "duration": 31,
    "start_time": "2022-06-12T15:00:47.067Z"
   },
   {
    "duration": 58,
    "start_time": "2022-06-12T15:00:47.099Z"
   },
   {
    "duration": 95,
    "start_time": "2022-06-12T15:00:47.158Z"
   },
   {
    "duration": 96,
    "start_time": "2022-06-12T15:00:47.255Z"
   },
   {
    "duration": 109,
    "start_time": "2022-06-12T15:00:47.353Z"
   },
   {
    "duration": 63,
    "start_time": "2022-06-12T15:00:47.464Z"
   },
   {
    "duration": 221,
    "start_time": "2022-06-12T15:00:47.528Z"
   },
   {
    "duration": 149,
    "start_time": "2022-06-12T15:00:47.751Z"
   },
   {
    "duration": 8,
    "start_time": "2022-06-12T15:00:47.901Z"
   },
   {
    "duration": 1220,
    "start_time": "2022-06-12T15:00:47.924Z"
   },
   {
    "duration": 1079,
    "start_time": "2022-06-12T15:00:49.146Z"
   },
   {
    "duration": 1162,
    "start_time": "2022-06-12T15:00:50.227Z"
   },
   {
    "duration": 512,
    "start_time": "2022-06-12T15:00:51.390Z"
   },
   {
    "duration": 604,
    "start_time": "2022-06-12T15:00:51.904Z"
   },
   {
    "duration": 656,
    "start_time": "2022-06-12T15:00:52.510Z"
   },
   {
    "duration": 9,
    "start_time": "2022-06-12T15:00:53.168Z"
   },
   {
    "duration": 13,
    "start_time": "2022-06-12T15:00:53.179Z"
   },
   {
    "duration": 18,
    "start_time": "2022-06-12T15:00:53.222Z"
   },
   {
    "duration": 11,
    "start_time": "2022-06-12T15:00:53.242Z"
   },
   {
    "duration": 14,
    "start_time": "2022-06-12T15:00:53.256Z"
   },
   {
    "duration": 2100,
    "start_time": "2022-09-28T23:42:52.584Z"
   },
   {
    "duration": 968,
    "start_time": "2022-09-28T23:42:54.686Z"
   },
   {
    "duration": 733,
    "start_time": "2022-09-28T23:42:55.657Z"
   },
   {
    "duration": 680,
    "start_time": "2022-09-28T23:42:56.392Z"
   },
   {
    "duration": 105,
    "start_time": "2022-09-28T23:42:57.075Z"
   },
   {
    "duration": 185,
    "start_time": "2022-09-28T23:42:57.182Z"
   },
   {
    "duration": 15,
    "start_time": "2022-09-28T23:42:57.369Z"
   },
   {
    "duration": 84,
    "start_time": "2022-09-28T23:42:57.385Z"
   },
   {
    "duration": 12,
    "start_time": "2022-09-28T23:42:57.470Z"
   },
   {
    "duration": 117,
    "start_time": "2022-09-28T23:42:57.484Z"
   },
   {
    "duration": 40,
    "start_time": "2022-09-28T23:42:57.655Z"
   },
   {
    "duration": 41,
    "start_time": "2022-09-28T23:42:57.755Z"
   },
   {
    "duration": 118,
    "start_time": "2022-09-28T23:42:57.855Z"
   },
   {
    "duration": 195,
    "start_time": "2022-09-28T23:42:57.976Z"
   },
   {
    "duration": 208,
    "start_time": "2022-09-28T23:42:58.173Z"
   },
   {
    "duration": 100,
    "start_time": "2022-09-28T23:42:58.383Z"
   },
   {
    "duration": 473,
    "start_time": "2022-09-28T23:42:58.485Z"
   },
   {
    "duration": 299,
    "start_time": "2022-09-28T23:42:58.960Z"
   },
   {
    "duration": 9,
    "start_time": "2022-09-28T23:42:59.260Z"
   },
   {
    "duration": 2600,
    "start_time": "2022-09-28T23:42:59.270Z"
   },
   {
    "duration": 2314,
    "start_time": "2022-09-28T23:43:01.872Z"
   },
   {
    "duration": 2670,
    "start_time": "2022-09-28T23:43:04.188Z"
   },
   {
    "duration": 1039,
    "start_time": "2022-09-28T23:43:06.860Z"
   },
   {
    "duration": 1339,
    "start_time": "2022-09-28T23:43:07.954Z"
   },
   {
    "duration": 1272,
    "start_time": "2022-09-28T23:43:09.294Z"
   },
   {
    "duration": 5,
    "start_time": "2022-09-28T23:43:10.568Z"
   },
   {
    "duration": 220,
    "start_time": "2022-09-28T23:43:10.575Z"
   },
   {
    "duration": 12,
    "start_time": "2022-09-28T23:48:02.394Z"
   }
  ],
  "kernelspec": {
   "display_name": "Python 3 (ipykernel)",
   "language": "python",
   "name": "python3"
  },
  "language_info": {
   "codemirror_mode": {
    "name": "ipython",
    "version": 3
   },
   "file_extension": ".py",
   "mimetype": "text/x-python",
   "name": "python",
   "nbconvert_exporter": "python",
   "pygments_lexer": "ipython3",
   "version": "3.9.5"
  },
  "toc": {
   "base_numbering": 1,
   "nav_menu": {},
   "number_sections": true,
   "sideBar": true,
   "skip_h1_title": true,
   "title_cell": "Table of Contents",
   "title_sidebar": "Contents",
   "toc_cell": false,
   "toc_position": {},
   "toc_section_display": true,
   "toc_window_display": false
  }
 },
 "nbformat": 4,
 "nbformat_minor": 2
}
