{
 "cells": [
  {
   "cell_type": "markdown",
   "metadata": {},
   "source": [
    "## Введение \n",
    "\n",
    "\n",
    "### Цели проекта:\n",
    "Проанализировать базу данных сервиса для чтения книг\n",
    "\n",
    "### Задачи:\n",
    "1. Опишите цели исследования;\n",
    "2. Исследуйте таблицы — выведите первые строки;\n",
    "3. Сделайте по одному SQL-запросу для решения каждого задания;\n",
    "            Посчитайте, сколько книг вышло после 1 января 2000 года;\n",
    "            Для каждой книги посчитайте количество обзоров и среднюю оценку;\n",
    "            Определите издательство, которое выпустило наибольшее число книг толще 50 страниц — так вы исключите из анализа брошюры;\n",
    "            Определите автора с самой высокой средней оценкой книг — учитывайте только книги с 50 и более оценками;\n",
    "            Посчитайте среднее количество обзоров от пользователей, которые поставили больше 50 оценок.\n",
    "4. Выведите результаты каждого запроса в тетрадке;\n",
    "5. Опишите выводы по каждой из решённых задач.\n",
    "\n",
    "\n",
    "\n",
    "### Содержание датасета\n",
    "\n",
    "        Таблица books\n",
    "            Содержит данные о книгах:\n",
    "            book_id — идентификатор книги;\n",
    "            author_id — идентификатор автора;\n",
    "            title — название книги;\n",
    "            num_pages — количество страниц;\n",
    "            publication_date — дата публикации книги;\n",
    "            publisher_id — идентификатор издателя.\n",
    "        Таблица authors\n",
    "            Содержит данные об авторах:\n",
    "            author_id — идентификатор автора;\n",
    "            author — имя автора.\n",
    "        Таблица publishers\n",
    "            Содержит данные об издательствах:\n",
    "            publisher_id — идентификатор издательства;\n",
    "            publisher — название издательства;\n",
    "        Таблица ratings\n",
    "            Содержит данные о пользовательских оценках книг:\n",
    "            rating_id — идентификатор оценки;\n",
    "            book_id — идентификатор книги;\n",
    "            username — имя пользователя, оставившего оценку;\n",
    "            rating — оценка книги.\n",
    "        Таблица reviews\n",
    "            Содержит данные о пользовательских обзорах:\n",
    "            review_id — идентификатор обзора;\n",
    "            book_id — идентификатор книги;\n",
    "            username — имя автора обзора;\n",
    "            text — текст обзора.\n",
    "\n"
   ]
  },
  {
   "cell_type": "code",
   "execution_count": 1,
   "metadata": {},
   "outputs": [],
   "source": [
    "# импортируем библиотеки\n",
    "import pandas as pd\n",
    "from sqlalchemy import create_engine\n",
    "import matplotlib.pyplot as plt\n",
    "# устанавливаем параметры\n",
    "db_config = {'user': 'praktikum_student', # имя пользователя\n",
    " 'pwd': 'Sdf4$2;d-d30pp', # пароль\n",
    " 'host': 'rc1b-wcoijxj3yxfsf3fs.mdb.yandexcloud.net',\n",
    " 'port': 6432, # порт подключения\n",
    " 'db': 'data-analyst-final-project-db'} # название базы данных\n",
    "connection_string = 'postgresql://{}:{}@{}:{}/{}'.format(db_config['user'],\n",
    " db_config['pwd'],\n",
    " db_config['host'],\n",
    " db_config['port'],\n",
    " db_config['db'])\n",
    "# сохраняем коннектор\n",
    "engine = create_engine(connection_string, connect_args={'sslmode':'require'})"
   ]
  },
  {
   "cell_type": "markdown",
   "metadata": {},
   "source": [
    "## Исследуйте таблицы — выведите первые строки"
   ]
  },
  {
   "cell_type": "code",
   "execution_count": 2,
   "metadata": {},
   "outputs": [
    {
     "data": {
      "text/html": [
       "<div>\n",
       "<style scoped>\n",
       "    .dataframe tbody tr th:only-of-type {\n",
       "        vertical-align: middle;\n",
       "    }\n",
       "\n",
       "    .dataframe tbody tr th {\n",
       "        vertical-align: top;\n",
       "    }\n",
       "\n",
       "    .dataframe thead th {\n",
       "        text-align: right;\n",
       "    }\n",
       "</style>\n",
       "<table border=\"1\" class=\"dataframe\">\n",
       "  <thead>\n",
       "    <tr style=\"text-align: right;\">\n",
       "      <th></th>\n",
       "      <th>book_id</th>\n",
       "      <th>author_id</th>\n",
       "      <th>title</th>\n",
       "      <th>num_pages</th>\n",
       "      <th>publication_date</th>\n",
       "      <th>publisher_id</th>\n",
       "    </tr>\n",
       "  </thead>\n",
       "  <tbody>\n",
       "    <tr>\n",
       "      <th>0</th>\n",
       "      <td>1</td>\n",
       "      <td>546</td>\n",
       "      <td>'Salem's Lot</td>\n",
       "      <td>594</td>\n",
       "      <td>2005-11-01</td>\n",
       "      <td>93</td>\n",
       "    </tr>\n",
       "    <tr>\n",
       "      <th>1</th>\n",
       "      <td>2</td>\n",
       "      <td>465</td>\n",
       "      <td>1 000 Places to See Before You Die</td>\n",
       "      <td>992</td>\n",
       "      <td>2003-05-22</td>\n",
       "      <td>336</td>\n",
       "    </tr>\n",
       "    <tr>\n",
       "      <th>2</th>\n",
       "      <td>3</td>\n",
       "      <td>407</td>\n",
       "      <td>13 Little Blue Envelopes (Little Blue Envelope...</td>\n",
       "      <td>322</td>\n",
       "      <td>2010-12-21</td>\n",
       "      <td>135</td>\n",
       "    </tr>\n",
       "    <tr>\n",
       "      <th>3</th>\n",
       "      <td>4</td>\n",
       "      <td>82</td>\n",
       "      <td>1491: New Revelations of the Americas Before C...</td>\n",
       "      <td>541</td>\n",
       "      <td>2006-10-10</td>\n",
       "      <td>309</td>\n",
       "    </tr>\n",
       "    <tr>\n",
       "      <th>4</th>\n",
       "      <td>5</td>\n",
       "      <td>125</td>\n",
       "      <td>1776</td>\n",
       "      <td>386</td>\n",
       "      <td>2006-07-04</td>\n",
       "      <td>268</td>\n",
       "    </tr>\n",
       "  </tbody>\n",
       "</table>\n",
       "</div>"
      ],
      "text/plain": [
       "   book_id  author_id                                              title  \\\n",
       "0        1        546                                       'Salem's Lot   \n",
       "1        2        465                 1 000 Places to See Before You Die   \n",
       "2        3        407  13 Little Blue Envelopes (Little Blue Envelope...   \n",
       "3        4         82  1491: New Revelations of the Americas Before C...   \n",
       "4        5        125                                               1776   \n",
       "\n",
       "   num_pages publication_date  publisher_id  \n",
       "0        594       2005-11-01            93  \n",
       "1        992       2003-05-22           336  \n",
       "2        322       2010-12-21           135  \n",
       "3        541       2006-10-10           309  \n",
       "4        386       2006-07-04           268  "
      ]
     },
     "execution_count": 2,
     "metadata": {},
     "output_type": "execute_result"
    }
   ],
   "source": [
    "\n",
    "query = ''' SELECT \n",
    "                *\n",
    "            FROM books\n",
    "            LIMIT 10'''\n",
    "books = pd.io.sql.read_sql(query, con = engine)\n",
    "books.head()"
   ]
  },
  {
   "cell_type": "code",
   "execution_count": 3,
   "metadata": {},
   "outputs": [
    {
     "data": {
      "text/html": [
       "<div>\n",
       "<style scoped>\n",
       "    .dataframe tbody tr th:only-of-type {\n",
       "        vertical-align: middle;\n",
       "    }\n",
       "\n",
       "    .dataframe tbody tr th {\n",
       "        vertical-align: top;\n",
       "    }\n",
       "\n",
       "    .dataframe thead th {\n",
       "        text-align: right;\n",
       "    }\n",
       "</style>\n",
       "<table border=\"1\" class=\"dataframe\">\n",
       "  <thead>\n",
       "    <tr style=\"text-align: right;\">\n",
       "      <th></th>\n",
       "      <th>author_id</th>\n",
       "      <th>author</th>\n",
       "    </tr>\n",
       "  </thead>\n",
       "  <tbody>\n",
       "    <tr>\n",
       "      <th>0</th>\n",
       "      <td>1</td>\n",
       "      <td>A.S. Byatt</td>\n",
       "    </tr>\n",
       "    <tr>\n",
       "      <th>1</th>\n",
       "      <td>2</td>\n",
       "      <td>Aesop/Laura Harris/Laura Gibbs</td>\n",
       "    </tr>\n",
       "    <tr>\n",
       "      <th>2</th>\n",
       "      <td>3</td>\n",
       "      <td>Agatha Christie</td>\n",
       "    </tr>\n",
       "    <tr>\n",
       "      <th>3</th>\n",
       "      <td>4</td>\n",
       "      <td>Alan Brennert</td>\n",
       "    </tr>\n",
       "    <tr>\n",
       "      <th>4</th>\n",
       "      <td>5</td>\n",
       "      <td>Alan Moore/David   Lloyd</td>\n",
       "    </tr>\n",
       "  </tbody>\n",
       "</table>\n",
       "</div>"
      ],
      "text/plain": [
       "   author_id                          author\n",
       "0          1                      A.S. Byatt\n",
       "1          2  Aesop/Laura Harris/Laura Gibbs\n",
       "2          3                 Agatha Christie\n",
       "3          4                   Alan Brennert\n",
       "4          5        Alan Moore/David   Lloyd"
      ]
     },
     "execution_count": 3,
     "metadata": {},
     "output_type": "execute_result"
    }
   ],
   "source": [
    "query = ''' SELECT \n",
    "                *\n",
    "            FROM authors\n",
    "            LIMIT 10'''\n",
    "authors = pd.io.sql.read_sql(query, con = engine)\n",
    "authors.head()"
   ]
  },
  {
   "cell_type": "code",
   "execution_count": 4,
   "metadata": {},
   "outputs": [
    {
     "data": {
      "text/html": [
       "<div>\n",
       "<style scoped>\n",
       "    .dataframe tbody tr th:only-of-type {\n",
       "        vertical-align: middle;\n",
       "    }\n",
       "\n",
       "    .dataframe tbody tr th {\n",
       "        vertical-align: top;\n",
       "    }\n",
       "\n",
       "    .dataframe thead th {\n",
       "        text-align: right;\n",
       "    }\n",
       "</style>\n",
       "<table border=\"1\" class=\"dataframe\">\n",
       "  <thead>\n",
       "    <tr style=\"text-align: right;\">\n",
       "      <th></th>\n",
       "      <th>publisher_id</th>\n",
       "      <th>publisher</th>\n",
       "    </tr>\n",
       "  </thead>\n",
       "  <tbody>\n",
       "    <tr>\n",
       "      <th>0</th>\n",
       "      <td>1</td>\n",
       "      <td>Ace</td>\n",
       "    </tr>\n",
       "    <tr>\n",
       "      <th>1</th>\n",
       "      <td>2</td>\n",
       "      <td>Ace Book</td>\n",
       "    </tr>\n",
       "    <tr>\n",
       "      <th>2</th>\n",
       "      <td>3</td>\n",
       "      <td>Ace Books</td>\n",
       "    </tr>\n",
       "    <tr>\n",
       "      <th>3</th>\n",
       "      <td>4</td>\n",
       "      <td>Ace Hardcover</td>\n",
       "    </tr>\n",
       "    <tr>\n",
       "      <th>4</th>\n",
       "      <td>5</td>\n",
       "      <td>Addison Wesley Publishing Company</td>\n",
       "    </tr>\n",
       "  </tbody>\n",
       "</table>\n",
       "</div>"
      ],
      "text/plain": [
       "   publisher_id                          publisher\n",
       "0             1                                Ace\n",
       "1             2                           Ace Book\n",
       "2             3                          Ace Books\n",
       "3             4                      Ace Hardcover\n",
       "4             5  Addison Wesley Publishing Company"
      ]
     },
     "execution_count": 4,
     "metadata": {},
     "output_type": "execute_result"
    }
   ],
   "source": [
    "\n",
    "query = ''' SELECT \n",
    "                *\n",
    "            FROM publishers\n",
    "            LIMIT 10'''\n",
    "publishers = pd.io.sql.read_sql(query, con = engine)\n",
    "publishers.head()"
   ]
  },
  {
   "cell_type": "code",
   "execution_count": 5,
   "metadata": {},
   "outputs": [
    {
     "data": {
      "text/html": [
       "<div>\n",
       "<style scoped>\n",
       "    .dataframe tbody tr th:only-of-type {\n",
       "        vertical-align: middle;\n",
       "    }\n",
       "\n",
       "    .dataframe tbody tr th {\n",
       "        vertical-align: top;\n",
       "    }\n",
       "\n",
       "    .dataframe thead th {\n",
       "        text-align: right;\n",
       "    }\n",
       "</style>\n",
       "<table border=\"1\" class=\"dataframe\">\n",
       "  <thead>\n",
       "    <tr style=\"text-align: right;\">\n",
       "      <th></th>\n",
       "      <th>rating_id</th>\n",
       "      <th>book_id</th>\n",
       "      <th>username</th>\n",
       "      <th>rating</th>\n",
       "    </tr>\n",
       "  </thead>\n",
       "  <tbody>\n",
       "    <tr>\n",
       "      <th>0</th>\n",
       "      <td>1</td>\n",
       "      <td>1</td>\n",
       "      <td>ryanfranco</td>\n",
       "      <td>4</td>\n",
       "    </tr>\n",
       "    <tr>\n",
       "      <th>1</th>\n",
       "      <td>2</td>\n",
       "      <td>1</td>\n",
       "      <td>grantpatricia</td>\n",
       "      <td>2</td>\n",
       "    </tr>\n",
       "    <tr>\n",
       "      <th>2</th>\n",
       "      <td>3</td>\n",
       "      <td>1</td>\n",
       "      <td>brandtandrea</td>\n",
       "      <td>5</td>\n",
       "    </tr>\n",
       "    <tr>\n",
       "      <th>3</th>\n",
       "      <td>4</td>\n",
       "      <td>2</td>\n",
       "      <td>lorichen</td>\n",
       "      <td>3</td>\n",
       "    </tr>\n",
       "    <tr>\n",
       "      <th>4</th>\n",
       "      <td>5</td>\n",
       "      <td>2</td>\n",
       "      <td>mariokeller</td>\n",
       "      <td>2</td>\n",
       "    </tr>\n",
       "  </tbody>\n",
       "</table>\n",
       "</div>"
      ],
      "text/plain": [
       "   rating_id  book_id       username  rating\n",
       "0          1        1     ryanfranco       4\n",
       "1          2        1  grantpatricia       2\n",
       "2          3        1   brandtandrea       5\n",
       "3          4        2       lorichen       3\n",
       "4          5        2    mariokeller       2"
      ]
     },
     "execution_count": 5,
     "metadata": {},
     "output_type": "execute_result"
    }
   ],
   "source": [
    "query = ''' SELECT \n",
    "                *\n",
    "            FROM ratings\n",
    "            LIMIT 10'''\n",
    "ratings = pd.io.sql.read_sql(query, con = engine)\n",
    "ratings.head()"
   ]
  },
  {
   "cell_type": "code",
   "execution_count": 6,
   "metadata": {},
   "outputs": [
    {
     "data": {
      "text/html": [
       "<div>\n",
       "<style scoped>\n",
       "    .dataframe tbody tr th:only-of-type {\n",
       "        vertical-align: middle;\n",
       "    }\n",
       "\n",
       "    .dataframe tbody tr th {\n",
       "        vertical-align: top;\n",
       "    }\n",
       "\n",
       "    .dataframe thead th {\n",
       "        text-align: right;\n",
       "    }\n",
       "</style>\n",
       "<table border=\"1\" class=\"dataframe\">\n",
       "  <thead>\n",
       "    <tr style=\"text-align: right;\">\n",
       "      <th></th>\n",
       "      <th>review_id</th>\n",
       "      <th>book_id</th>\n",
       "      <th>username</th>\n",
       "      <th>text</th>\n",
       "    </tr>\n",
       "  </thead>\n",
       "  <tbody>\n",
       "    <tr>\n",
       "      <th>0</th>\n",
       "      <td>1</td>\n",
       "      <td>1</td>\n",
       "      <td>brandtandrea</td>\n",
       "      <td>Mention society tell send professor analysis. ...</td>\n",
       "    </tr>\n",
       "    <tr>\n",
       "      <th>1</th>\n",
       "      <td>2</td>\n",
       "      <td>1</td>\n",
       "      <td>ryanfranco</td>\n",
       "      <td>Foot glass pretty audience hit themselves. Amo...</td>\n",
       "    </tr>\n",
       "    <tr>\n",
       "      <th>2</th>\n",
       "      <td>3</td>\n",
       "      <td>2</td>\n",
       "      <td>lorichen</td>\n",
       "      <td>Listen treat keep worry. Miss husband tax but ...</td>\n",
       "    </tr>\n",
       "    <tr>\n",
       "      <th>3</th>\n",
       "      <td>4</td>\n",
       "      <td>3</td>\n",
       "      <td>johnsonamanda</td>\n",
       "      <td>Finally month interesting blue could nature cu...</td>\n",
       "    </tr>\n",
       "    <tr>\n",
       "      <th>4</th>\n",
       "      <td>5</td>\n",
       "      <td>3</td>\n",
       "      <td>scotttamara</td>\n",
       "      <td>Nation purpose heavy give wait song will. List...</td>\n",
       "    </tr>\n",
       "  </tbody>\n",
       "</table>\n",
       "</div>"
      ],
      "text/plain": [
       "   review_id  book_id       username  \\\n",
       "0          1        1   brandtandrea   \n",
       "1          2        1     ryanfranco   \n",
       "2          3        2       lorichen   \n",
       "3          4        3  johnsonamanda   \n",
       "4          5        3    scotttamara   \n",
       "\n",
       "                                                text  \n",
       "0  Mention society tell send professor analysis. ...  \n",
       "1  Foot glass pretty audience hit themselves. Amo...  \n",
       "2  Listen treat keep worry. Miss husband tax but ...  \n",
       "3  Finally month interesting blue could nature cu...  \n",
       "4  Nation purpose heavy give wait song will. List...  "
      ]
     },
     "execution_count": 6,
     "metadata": {},
     "output_type": "execute_result"
    }
   ],
   "source": [
    "query = ''' SELECT \n",
    "                *\n",
    "            FROM reviews\n",
    "            LIMIT 10'''\n",
    "reviews = pd.io.sql.read_sql(query, con = engine)\n",
    "reviews.head()"
   ]
  },
  {
   "cell_type": "markdown",
   "metadata": {},
   "source": [
    "с таблицами ознакомились"
   ]
  },
  {
   "cell_type": "markdown",
   "metadata": {},
   "source": [
    "## Сделайте по одному SQL-запросу для решения каждого задания;"
   ]
  },
  {
   "cell_type": "markdown",
   "metadata": {},
   "source": [
    "### Посчитайте, сколько книг вышло после 1 января 2000 года;          "
   ]
  },
  {
   "cell_type": "code",
   "execution_count": 7,
   "metadata": {},
   "outputs": [
    {
     "data": {
      "text/html": [
       "<div>\n",
       "<style scoped>\n",
       "    .dataframe tbody tr th:only-of-type {\n",
       "        vertical-align: middle;\n",
       "    }\n",
       "\n",
       "    .dataframe tbody tr th {\n",
       "        vertical-align: top;\n",
       "    }\n",
       "\n",
       "    .dataframe thead th {\n",
       "        text-align: right;\n",
       "    }\n",
       "</style>\n",
       "<table border=\"1\" class=\"dataframe\">\n",
       "  <thead>\n",
       "    <tr style=\"text-align: right;\">\n",
       "      <th></th>\n",
       "      <th>cnt</th>\n",
       "    </tr>\n",
       "  </thead>\n",
       "  <tbody>\n",
       "    <tr>\n",
       "      <th>0</th>\n",
       "      <td>819</td>\n",
       "    </tr>\n",
       "  </tbody>\n",
       "</table>\n",
       "</div>"
      ],
      "text/plain": [
       "   cnt\n",
       "0  819"
      ]
     },
     "execution_count": 7,
     "metadata": {},
     "output_type": "execute_result"
    }
   ],
   "source": [
    "query = '''SELECT \n",
    "            COUNT(book_id) AS cnt\n",
    "            FROM\n",
    "            books\n",
    "            WHERE \n",
    "            publication_date::date > '2000-01-01';\n",
    "        '''\n",
    "            \n",
    "count_books1 = pd.io.sql.read_sql(query, con = engine)\n",
    "count_books1"
   ]
  },
  {
   "cell_type": "markdown",
   "metadata": {},
   "source": [
    "819 книг вышло после 1 января 2000"
   ]
  },
  {
   "cell_type": "markdown",
   "metadata": {},
   "source": [
    "### Для каждой книги посчитайте количество обзоров и среднюю оценку;            "
   ]
  },
  {
   "cell_type": "code",
   "execution_count": 8,
   "metadata": {},
   "outputs": [
    {
     "data": {
      "text/html": [
       "<div>\n",
       "<style scoped>\n",
       "    .dataframe tbody tr th:only-of-type {\n",
       "        vertical-align: middle;\n",
       "    }\n",
       "\n",
       "    .dataframe tbody tr th {\n",
       "        vertical-align: top;\n",
       "    }\n",
       "\n",
       "    .dataframe thead th {\n",
       "        text-align: right;\n",
       "    }\n",
       "</style>\n",
       "<table border=\"1\" class=\"dataframe\">\n",
       "  <thead>\n",
       "    <tr style=\"text-align: right;\">\n",
       "      <th></th>\n",
       "      <th>book_id</th>\n",
       "      <th>title</th>\n",
       "      <th>review_count</th>\n",
       "      <th>avg_rating</th>\n",
       "    </tr>\n",
       "  </thead>\n",
       "  <tbody>\n",
       "    <tr>\n",
       "      <th>0</th>\n",
       "      <td>948</td>\n",
       "      <td>Twilight (Twilight  #1)</td>\n",
       "      <td>7</td>\n",
       "      <td>3.66</td>\n",
       "    </tr>\n",
       "    <tr>\n",
       "      <th>1</th>\n",
       "      <td>695</td>\n",
       "      <td>The Curious Incident of the Dog in the Night-Time</td>\n",
       "      <td>6</td>\n",
       "      <td>4.08</td>\n",
       "    </tr>\n",
       "    <tr>\n",
       "      <th>2</th>\n",
       "      <td>299</td>\n",
       "      <td>Harry Potter and the Chamber of Secrets (Harry...</td>\n",
       "      <td>6</td>\n",
       "      <td>4.29</td>\n",
       "    </tr>\n",
       "    <tr>\n",
       "      <th>3</th>\n",
       "      <td>696</td>\n",
       "      <td>The Da Vinci Code (Robert Langdon  #2)</td>\n",
       "      <td>6</td>\n",
       "      <td>3.83</td>\n",
       "    </tr>\n",
       "    <tr>\n",
       "      <th>4</th>\n",
       "      <td>734</td>\n",
       "      <td>The Glass Castle</td>\n",
       "      <td>6</td>\n",
       "      <td>4.21</td>\n",
       "    </tr>\n",
       "    <tr>\n",
       "      <th>5</th>\n",
       "      <td>207</td>\n",
       "      <td>Eat  Pray  Love</td>\n",
       "      <td>6</td>\n",
       "      <td>3.40</td>\n",
       "    </tr>\n",
       "    <tr>\n",
       "      <th>6</th>\n",
       "      <td>673</td>\n",
       "      <td>The Catcher in the Rye</td>\n",
       "      <td>6</td>\n",
       "      <td>3.83</td>\n",
       "    </tr>\n",
       "    <tr>\n",
       "      <th>7</th>\n",
       "      <td>750</td>\n",
       "      <td>The Hobbit  or There and Back Again</td>\n",
       "      <td>6</td>\n",
       "      <td>4.13</td>\n",
       "    </tr>\n",
       "    <tr>\n",
       "      <th>8</th>\n",
       "      <td>497</td>\n",
       "      <td>Outlander (Outlander  #1)</td>\n",
       "      <td>6</td>\n",
       "      <td>4.13</td>\n",
       "    </tr>\n",
       "    <tr>\n",
       "      <th>9</th>\n",
       "      <td>854</td>\n",
       "      <td>The Road</td>\n",
       "      <td>6</td>\n",
       "      <td>3.77</td>\n",
       "    </tr>\n",
       "    <tr>\n",
       "      <th>10</th>\n",
       "      <td>779</td>\n",
       "      <td>The Lightning Thief (Percy Jackson and the Oly...</td>\n",
       "      <td>6</td>\n",
       "      <td>4.08</td>\n",
       "    </tr>\n",
       "    <tr>\n",
       "      <th>11</th>\n",
       "      <td>627</td>\n",
       "      <td>The Alchemist</td>\n",
       "      <td>6</td>\n",
       "      <td>3.79</td>\n",
       "    </tr>\n",
       "    <tr>\n",
       "      <th>12</th>\n",
       "      <td>733</td>\n",
       "      <td>The Giver (The Giver  #1)</td>\n",
       "      <td>6</td>\n",
       "      <td>3.75</td>\n",
       "    </tr>\n",
       "    <tr>\n",
       "      <th>13</th>\n",
       "      <td>302</td>\n",
       "      <td>Harry Potter and the Prisoner of Azkaban (Harr...</td>\n",
       "      <td>6</td>\n",
       "      <td>4.41</td>\n",
       "    </tr>\n",
       "    <tr>\n",
       "      <th>14</th>\n",
       "      <td>963</td>\n",
       "      <td>Water for Elephants</td>\n",
       "      <td>6</td>\n",
       "      <td>3.98</td>\n",
       "    </tr>\n",
       "    <tr>\n",
       "      <th>15</th>\n",
       "      <td>656</td>\n",
       "      <td>The Book Thief</td>\n",
       "      <td>6</td>\n",
       "      <td>4.26</td>\n",
       "    </tr>\n",
       "    <tr>\n",
       "      <th>16</th>\n",
       "      <td>884</td>\n",
       "      <td>The Thirteenth Tale</td>\n",
       "      <td>5</td>\n",
       "      <td>4.44</td>\n",
       "    </tr>\n",
       "    <tr>\n",
       "      <th>17</th>\n",
       "      <td>793</td>\n",
       "      <td>The Memory Keeper's Daughter</td>\n",
       "      <td>5</td>\n",
       "      <td>3.26</td>\n",
       "    </tr>\n",
       "    <tr>\n",
       "      <th>18</th>\n",
       "      <td>419</td>\n",
       "      <td>Marked (House of Night  #1)</td>\n",
       "      <td>5</td>\n",
       "      <td>3.57</td>\n",
       "    </tr>\n",
       "    <tr>\n",
       "      <th>19</th>\n",
       "      <td>577</td>\n",
       "      <td>Slaughterhouse-Five</td>\n",
       "      <td>5</td>\n",
       "      <td>4.03</td>\n",
       "    </tr>\n",
       "    <tr>\n",
       "      <th>20</th>\n",
       "      <td>702</td>\n",
       "      <td>The Devil in the White City: Murder  Magic  an...</td>\n",
       "      <td>5</td>\n",
       "      <td>3.73</td>\n",
       "    </tr>\n",
       "    <tr>\n",
       "      <th>21</th>\n",
       "      <td>488</td>\n",
       "      <td>Of Mice and Men</td>\n",
       "      <td>5</td>\n",
       "      <td>3.62</td>\n",
       "    </tr>\n",
       "    <tr>\n",
       "      <th>22</th>\n",
       "      <td>581</td>\n",
       "      <td>Snow Flower and the Secret Fan</td>\n",
       "      <td>5</td>\n",
       "      <td>4.64</td>\n",
       "    </tr>\n",
       "    <tr>\n",
       "      <th>23</th>\n",
       "      <td>358</td>\n",
       "      <td>Into the Wild</td>\n",
       "      <td>5</td>\n",
       "      <td>4.00</td>\n",
       "    </tr>\n",
       "    <tr>\n",
       "      <th>24</th>\n",
       "      <td>194</td>\n",
       "      <td>Dracula</td>\n",
       "      <td>5</td>\n",
       "      <td>3.30</td>\n",
       "    </tr>\n",
       "    <tr>\n",
       "      <th>25</th>\n",
       "      <td>399</td>\n",
       "      <td>Little Women</td>\n",
       "      <td>5</td>\n",
       "      <td>4.19</td>\n",
       "    </tr>\n",
       "    <tr>\n",
       "      <th>26</th>\n",
       "      <td>52</td>\n",
       "      <td>A Walk in the Woods: Rediscovering America on ...</td>\n",
       "      <td>5</td>\n",
       "      <td>3.64</td>\n",
       "    </tr>\n",
       "    <tr>\n",
       "      <th>27</th>\n",
       "      <td>722</td>\n",
       "      <td>The Fellowship of the Ring (The Lord of the Ri...</td>\n",
       "      <td>5</td>\n",
       "      <td>4.39</td>\n",
       "    </tr>\n",
       "    <tr>\n",
       "      <th>28</th>\n",
       "      <td>74</td>\n",
       "      <td>And Then There Were None</td>\n",
       "      <td>5</td>\n",
       "      <td>4.45</td>\n",
       "    </tr>\n",
       "    <tr>\n",
       "      <th>29</th>\n",
       "      <td>950</td>\n",
       "      <td>Uglies (Uglies  #1)</td>\n",
       "      <td>5</td>\n",
       "      <td>4.06</td>\n",
       "    </tr>\n",
       "    <tr>\n",
       "      <th>30</th>\n",
       "      <td>481</td>\n",
       "      <td>Norwegian Wood</td>\n",
       "      <td>5</td>\n",
       "      <td>3.89</td>\n",
       "    </tr>\n",
       "    <tr>\n",
       "      <th>31</th>\n",
       "      <td>267</td>\n",
       "      <td>Freakonomics: A Rogue Economist Explores the H...</td>\n",
       "      <td>5</td>\n",
       "      <td>3.91</td>\n",
       "    </tr>\n",
       "    <tr>\n",
       "      <th>32</th>\n",
       "      <td>75</td>\n",
       "      <td>Angels &amp; Demons (Robert Langdon  #1)</td>\n",
       "      <td>5</td>\n",
       "      <td>3.68</td>\n",
       "    </tr>\n",
       "    <tr>\n",
       "      <th>33</th>\n",
       "      <td>84</td>\n",
       "      <td>Anne of Green Gables (Anne of Green Gables  #1)</td>\n",
       "      <td>5</td>\n",
       "      <td>4.00</td>\n",
       "    </tr>\n",
       "    <tr>\n",
       "      <th>34</th>\n",
       "      <td>232</td>\n",
       "      <td>Extremely Loud and Incredibly Close</td>\n",
       "      <td>5</td>\n",
       "      <td>3.42</td>\n",
       "    </tr>\n",
       "    <tr>\n",
       "      <th>35</th>\n",
       "      <td>811</td>\n",
       "      <td>The Notebook (The Notebook  #1)</td>\n",
       "      <td>5</td>\n",
       "      <td>3.87</td>\n",
       "    </tr>\n",
       "    <tr>\n",
       "      <th>36</th>\n",
       "      <td>405</td>\n",
       "      <td>Lord of the Flies</td>\n",
       "      <td>5</td>\n",
       "      <td>3.90</td>\n",
       "    </tr>\n",
       "    <tr>\n",
       "      <th>37</th>\n",
       "      <td>869</td>\n",
       "      <td>The Shining</td>\n",
       "      <td>5</td>\n",
       "      <td>4.18</td>\n",
       "    </tr>\n",
       "    <tr>\n",
       "      <th>38</th>\n",
       "      <td>145</td>\n",
       "      <td>Charlotte's Web</td>\n",
       "      <td>5</td>\n",
       "      <td>3.96</td>\n",
       "    </tr>\n",
       "    <tr>\n",
       "      <th>39</th>\n",
       "      <td>461</td>\n",
       "      <td>My Sister's Keeper</td>\n",
       "      <td>5</td>\n",
       "      <td>4.14</td>\n",
       "    </tr>\n",
       "    <tr>\n",
       "      <th>40</th>\n",
       "      <td>374</td>\n",
       "      <td>Kafka on the Shore</td>\n",
       "      <td>5</td>\n",
       "      <td>4.13</td>\n",
       "    </tr>\n",
       "    <tr>\n",
       "      <th>41</th>\n",
       "      <td>426</td>\n",
       "      <td>Memoirs of a Geisha</td>\n",
       "      <td>5</td>\n",
       "      <td>4.20</td>\n",
       "    </tr>\n",
       "    <tr>\n",
       "      <th>42</th>\n",
       "      <td>864</td>\n",
       "      <td>The Secret History</td>\n",
       "      <td>5</td>\n",
       "      <td>3.78</td>\n",
       "    </tr>\n",
       "    <tr>\n",
       "      <th>43</th>\n",
       "      <td>124</td>\n",
       "      <td>Brave New World</td>\n",
       "      <td>5</td>\n",
       "      <td>4.00</td>\n",
       "    </tr>\n",
       "    <tr>\n",
       "      <th>44</th>\n",
       "      <td>300</td>\n",
       "      <td>Harry Potter and the Half-Blood Prince (Harry ...</td>\n",
       "      <td>5</td>\n",
       "      <td>4.25</td>\n",
       "    </tr>\n",
       "    <tr>\n",
       "      <th>45</th>\n",
       "      <td>364</td>\n",
       "      <td>Jane Eyre</td>\n",
       "      <td>5</td>\n",
       "      <td>4.10</td>\n",
       "    </tr>\n",
       "    <tr>\n",
       "      <th>46</th>\n",
       "      <td>420</td>\n",
       "      <td>Marley and Me: Life and Love With the World's ...</td>\n",
       "      <td>5</td>\n",
       "      <td>3.80</td>\n",
       "    </tr>\n",
       "    <tr>\n",
       "      <th>47</th>\n",
       "      <td>824</td>\n",
       "      <td>The Picture of Dorian Gray</td>\n",
       "      <td>5</td>\n",
       "      <td>4.00</td>\n",
       "    </tr>\n",
       "    <tr>\n",
       "      <th>48</th>\n",
       "      <td>51</td>\n",
       "      <td>A Tree Grows in Brooklyn</td>\n",
       "      <td>5</td>\n",
       "      <td>4.25</td>\n",
       "    </tr>\n",
       "    <tr>\n",
       "      <th>49</th>\n",
       "      <td>90</td>\n",
       "      <td>Atlas Shrugged</td>\n",
       "      <td>5</td>\n",
       "      <td>3.58</td>\n",
       "    </tr>\n",
       "  </tbody>\n",
       "</table>\n",
       "</div>"
      ],
      "text/plain": [
       "    book_id                                              title  review_count  \\\n",
       "0       948                            Twilight (Twilight  #1)             7   \n",
       "1       695  The Curious Incident of the Dog in the Night-Time             6   \n",
       "2       299  Harry Potter and the Chamber of Secrets (Harry...             6   \n",
       "3       696             The Da Vinci Code (Robert Langdon  #2)             6   \n",
       "4       734                                   The Glass Castle             6   \n",
       "5       207                                    Eat  Pray  Love             6   \n",
       "6       673                             The Catcher in the Rye             6   \n",
       "7       750                The Hobbit  or There and Back Again             6   \n",
       "8       497                          Outlander (Outlander  #1)             6   \n",
       "9       854                                           The Road             6   \n",
       "10      779  The Lightning Thief (Percy Jackson and the Oly...             6   \n",
       "11      627                                      The Alchemist             6   \n",
       "12      733                          The Giver (The Giver  #1)             6   \n",
       "13      302  Harry Potter and the Prisoner of Azkaban (Harr...             6   \n",
       "14      963                                Water for Elephants             6   \n",
       "15      656                                     The Book Thief             6   \n",
       "16      884                                The Thirteenth Tale             5   \n",
       "17      793                       The Memory Keeper's Daughter             5   \n",
       "18      419                        Marked (House of Night  #1)             5   \n",
       "19      577                                Slaughterhouse-Five             5   \n",
       "20      702  The Devil in the White City: Murder  Magic  an...             5   \n",
       "21      488                                    Of Mice and Men             5   \n",
       "22      581                     Snow Flower and the Secret Fan             5   \n",
       "23      358                                      Into the Wild             5   \n",
       "24      194                                            Dracula             5   \n",
       "25      399                                       Little Women             5   \n",
       "26       52  A Walk in the Woods: Rediscovering America on ...             5   \n",
       "27      722  The Fellowship of the Ring (The Lord of the Ri...             5   \n",
       "28       74                           And Then There Were None             5   \n",
       "29      950                                Uglies (Uglies  #1)             5   \n",
       "30      481                                     Norwegian Wood             5   \n",
       "31      267  Freakonomics: A Rogue Economist Explores the H...             5   \n",
       "32       75               Angels & Demons (Robert Langdon  #1)             5   \n",
       "33       84    Anne of Green Gables (Anne of Green Gables  #1)             5   \n",
       "34      232                Extremely Loud and Incredibly Close             5   \n",
       "35      811                    The Notebook (The Notebook  #1)             5   \n",
       "36      405                                  Lord of the Flies             5   \n",
       "37      869                                        The Shining             5   \n",
       "38      145                                    Charlotte's Web             5   \n",
       "39      461                                 My Sister's Keeper             5   \n",
       "40      374                                 Kafka on the Shore             5   \n",
       "41      426                                Memoirs of a Geisha             5   \n",
       "42      864                                 The Secret History             5   \n",
       "43      124                                    Brave New World             5   \n",
       "44      300  Harry Potter and the Half-Blood Prince (Harry ...             5   \n",
       "45      364                                          Jane Eyre             5   \n",
       "46      420  Marley and Me: Life and Love With the World's ...             5   \n",
       "47      824                         The Picture of Dorian Gray             5   \n",
       "48       51                           A Tree Grows in Brooklyn             5   \n",
       "49       90                                     Atlas Shrugged             5   \n",
       "\n",
       "    avg_rating  \n",
       "0         3.66  \n",
       "1         4.08  \n",
       "2         4.29  \n",
       "3         3.83  \n",
       "4         4.21  \n",
       "5         3.40  \n",
       "6         3.83  \n",
       "7         4.13  \n",
       "8         4.13  \n",
       "9         3.77  \n",
       "10        4.08  \n",
       "11        3.79  \n",
       "12        3.75  \n",
       "13        4.41  \n",
       "14        3.98  \n",
       "15        4.26  \n",
       "16        4.44  \n",
       "17        3.26  \n",
       "18        3.57  \n",
       "19        4.03  \n",
       "20        3.73  \n",
       "21        3.62  \n",
       "22        4.64  \n",
       "23        4.00  \n",
       "24        3.30  \n",
       "25        4.19  \n",
       "26        3.64  \n",
       "27        4.39  \n",
       "28        4.45  \n",
       "29        4.06  \n",
       "30        3.89  \n",
       "31        3.91  \n",
       "32        3.68  \n",
       "33        4.00  \n",
       "34        3.42  \n",
       "35        3.87  \n",
       "36        3.90  \n",
       "37        4.18  \n",
       "38        3.96  \n",
       "39        4.14  \n",
       "40        4.13  \n",
       "41        4.20  \n",
       "42        3.78  \n",
       "43        4.00  \n",
       "44        4.25  \n",
       "45        4.10  \n",
       "46        3.80  \n",
       "47        4.00  \n",
       "48        4.25  \n",
       "49        3.58  "
      ]
     },
     "execution_count": 8,
     "metadata": {},
     "output_type": "execute_result"
    }
   ],
   "source": [
    "query = '''\n",
    "             WITH avg_ratings AS (SELECT book_id, AVG(rating) AS avg_rating\n",
    "                                 FROM ratings \n",
    "                                 GROUP BY book_id),\n",
    "                  reviews_count AS (SELECT b.book_id, COUNT(rev.review_id) AS review_count\n",
    "                                    FROM books AS b \n",
    "                                    LEFT JOIN reviews AS rev ON b.book_id = rev.book_id\n",
    "                                    GROUP BY b.book_id)\n",
    "            SELECT b.book_id, b.title, rc.review_count, ROUND(ar.avg_rating, 2) AS avg_rating \n",
    "            FROM reviews_count AS rc\n",
    "            INNER JOIN books AS b ON b.book_id=rc.book_id\n",
    "            LEFT JOIN avg_ratings AS ar ON ar.book_id=b.book_id \n",
    "            ORDER BY rc.review_count DESC\n",
    "         '''\n",
    "reviews_and_ratings = pd.io.sql.read_sql(query, con = engine)\n",
    "reviews_and_ratings.head(50)"
   ]
  },
  {
   "cell_type": "code",
   "execution_count": 9,
   "metadata": {},
   "outputs": [
    {
     "ename": "KeyError",
     "evalue": "'amount_reviews'",
     "output_type": "error",
     "traceback": [
      "\u001b[0;31m---------------------------------------------------------------------------\u001b[0m",
      "\u001b[0;31mKeyError\u001b[0m                                  Traceback (most recent call last)",
      "\u001b[0;32m/opt/conda/lib/python3.9/site-packages/pandas/core/indexes/base.py\u001b[0m in \u001b[0;36mget_loc\u001b[0;34m(self, key, method, tolerance)\u001b[0m\n\u001b[1;32m   3079\u001b[0m             \u001b[0;32mtry\u001b[0m\u001b[0;34m:\u001b[0m\u001b[0;34m\u001b[0m\u001b[0;34m\u001b[0m\u001b[0m\n\u001b[0;32m-> 3080\u001b[0;31m                 \u001b[0;32mreturn\u001b[0m \u001b[0mself\u001b[0m\u001b[0;34m.\u001b[0m\u001b[0m_engine\u001b[0m\u001b[0;34m.\u001b[0m\u001b[0mget_loc\u001b[0m\u001b[0;34m(\u001b[0m\u001b[0mcasted_key\u001b[0m\u001b[0;34m)\u001b[0m\u001b[0;34m\u001b[0m\u001b[0;34m\u001b[0m\u001b[0m\n\u001b[0m\u001b[1;32m   3081\u001b[0m             \u001b[0;32mexcept\u001b[0m \u001b[0mKeyError\u001b[0m \u001b[0;32mas\u001b[0m \u001b[0merr\u001b[0m\u001b[0;34m:\u001b[0m\u001b[0;34m\u001b[0m\u001b[0;34m\u001b[0m\u001b[0m\n",
      "\u001b[0;32mpandas/_libs/index.pyx\u001b[0m in \u001b[0;36mpandas._libs.index.IndexEngine.get_loc\u001b[0;34m()\u001b[0m\n",
      "\u001b[0;32mpandas/_libs/index.pyx\u001b[0m in \u001b[0;36mpandas._libs.index.IndexEngine.get_loc\u001b[0;34m()\u001b[0m\n",
      "\u001b[0;32mpandas/_libs/hashtable_class_helper.pxi\u001b[0m in \u001b[0;36mpandas._libs.hashtable.PyObjectHashTable.get_item\u001b[0;34m()\u001b[0m\n",
      "\u001b[0;32mpandas/_libs/hashtable_class_helper.pxi\u001b[0m in \u001b[0;36mpandas._libs.hashtable.PyObjectHashTable.get_item\u001b[0;34m()\u001b[0m\n",
      "\u001b[0;31mKeyError\u001b[0m: 'amount_reviews'",
      "\nThe above exception was the direct cause of the following exception:\n",
      "\u001b[0;31mKeyError\u001b[0m                                  Traceback (most recent call last)",
      "\u001b[0;32m/tmp/ipykernel_214/2376646868.py\u001b[0m in \u001b[0;36m<module>\u001b[0;34m\u001b[0m\n\u001b[0;32m----> 1\u001b[0;31m \u001b[0mreviews_and_ratings\u001b[0m\u001b[0;34m[\u001b[0m\u001b[0;34m'amount_reviews'\u001b[0m\u001b[0;34m]\u001b[0m\u001b[0;34m.\u001b[0m\u001b[0mhist\u001b[0m\u001b[0;34m(\u001b[0m\u001b[0mbins\u001b[0m\u001b[0;34m=\u001b[0m\u001b[0;36m10\u001b[0m\u001b[0;34m,\u001b[0m \u001b[0mrange\u001b[0m\u001b[0;34m=\u001b[0m\u001b[0;34m(\u001b[0m\u001b[0;36m0\u001b[0m\u001b[0;34m,\u001b[0m\u001b[0;36m100\u001b[0m\u001b[0;34m)\u001b[0m\u001b[0;34m)\u001b[0m\u001b[0;34m\u001b[0m\u001b[0;34m\u001b[0m\u001b[0m\n\u001b[0m\u001b[1;32m      2\u001b[0m \u001b[0mplt\u001b[0m\u001b[0;34m.\u001b[0m\u001b[0mylabel\u001b[0m\u001b[0;34m(\u001b[0m\u001b[0;34m'Оценок, шт'\u001b[0m\u001b[0;34m)\u001b[0m\u001b[0;34m\u001b[0m\u001b[0;34m\u001b[0m\u001b[0m\n\u001b[1;32m      3\u001b[0m \u001b[0mplt\u001b[0m\u001b[0;34m.\u001b[0m\u001b[0mxlabel\u001b[0m\u001b[0;34m(\u001b[0m\u001b[0;34m'Ревью'\u001b[0m\u001b[0;34m)\u001b[0m\u001b[0;34m\u001b[0m\u001b[0;34m\u001b[0m\u001b[0m\n\u001b[1;32m      4\u001b[0m \u001b[0mplt\u001b[0m\u001b[0;34m.\u001b[0m\u001b[0mtitle\u001b[0m\u001b[0;34m(\u001b[0m\u001b[0;34m'Количество рецензий книг'\u001b[0m\u001b[0;34m)\u001b[0m\u001b[0;34m\u001b[0m\u001b[0;34m\u001b[0m\u001b[0m\n\u001b[1;32m      5\u001b[0m \u001b[0mplt\u001b[0m\u001b[0;34m.\u001b[0m\u001b[0mshow\u001b[0m\u001b[0;34m(\u001b[0m\u001b[0;34m)\u001b[0m\u001b[0;34m\u001b[0m\u001b[0;34m\u001b[0m\u001b[0m\n",
      "\u001b[0;32m/opt/conda/lib/python3.9/site-packages/pandas/core/frame.py\u001b[0m in \u001b[0;36m__getitem__\u001b[0;34m(self, key)\u001b[0m\n\u001b[1;32m   3022\u001b[0m             \u001b[0;32mif\u001b[0m \u001b[0mself\u001b[0m\u001b[0;34m.\u001b[0m\u001b[0mcolumns\u001b[0m\u001b[0;34m.\u001b[0m\u001b[0mnlevels\u001b[0m \u001b[0;34m>\u001b[0m \u001b[0;36m1\u001b[0m\u001b[0;34m:\u001b[0m\u001b[0;34m\u001b[0m\u001b[0;34m\u001b[0m\u001b[0m\n\u001b[1;32m   3023\u001b[0m                 \u001b[0;32mreturn\u001b[0m \u001b[0mself\u001b[0m\u001b[0;34m.\u001b[0m\u001b[0m_getitem_multilevel\u001b[0m\u001b[0;34m(\u001b[0m\u001b[0mkey\u001b[0m\u001b[0;34m)\u001b[0m\u001b[0;34m\u001b[0m\u001b[0;34m\u001b[0m\u001b[0m\n\u001b[0;32m-> 3024\u001b[0;31m             \u001b[0mindexer\u001b[0m \u001b[0;34m=\u001b[0m \u001b[0mself\u001b[0m\u001b[0;34m.\u001b[0m\u001b[0mcolumns\u001b[0m\u001b[0;34m.\u001b[0m\u001b[0mget_loc\u001b[0m\u001b[0;34m(\u001b[0m\u001b[0mkey\u001b[0m\u001b[0;34m)\u001b[0m\u001b[0;34m\u001b[0m\u001b[0;34m\u001b[0m\u001b[0m\n\u001b[0m\u001b[1;32m   3025\u001b[0m             \u001b[0;32mif\u001b[0m \u001b[0mis_integer\u001b[0m\u001b[0;34m(\u001b[0m\u001b[0mindexer\u001b[0m\u001b[0;34m)\u001b[0m\u001b[0;34m:\u001b[0m\u001b[0;34m\u001b[0m\u001b[0;34m\u001b[0m\u001b[0m\n\u001b[1;32m   3026\u001b[0m                 \u001b[0mindexer\u001b[0m \u001b[0;34m=\u001b[0m \u001b[0;34m[\u001b[0m\u001b[0mindexer\u001b[0m\u001b[0;34m]\u001b[0m\u001b[0;34m\u001b[0m\u001b[0;34m\u001b[0m\u001b[0m\n",
      "\u001b[0;32m/opt/conda/lib/python3.9/site-packages/pandas/core/indexes/base.py\u001b[0m in \u001b[0;36mget_loc\u001b[0;34m(self, key, method, tolerance)\u001b[0m\n\u001b[1;32m   3080\u001b[0m                 \u001b[0;32mreturn\u001b[0m \u001b[0mself\u001b[0m\u001b[0;34m.\u001b[0m\u001b[0m_engine\u001b[0m\u001b[0;34m.\u001b[0m\u001b[0mget_loc\u001b[0m\u001b[0;34m(\u001b[0m\u001b[0mcasted_key\u001b[0m\u001b[0;34m)\u001b[0m\u001b[0;34m\u001b[0m\u001b[0;34m\u001b[0m\u001b[0m\n\u001b[1;32m   3081\u001b[0m             \u001b[0;32mexcept\u001b[0m \u001b[0mKeyError\u001b[0m \u001b[0;32mas\u001b[0m \u001b[0merr\u001b[0m\u001b[0;34m:\u001b[0m\u001b[0;34m\u001b[0m\u001b[0;34m\u001b[0m\u001b[0m\n\u001b[0;32m-> 3082\u001b[0;31m                 \u001b[0;32mraise\u001b[0m \u001b[0mKeyError\u001b[0m\u001b[0;34m(\u001b[0m\u001b[0mkey\u001b[0m\u001b[0;34m)\u001b[0m \u001b[0;32mfrom\u001b[0m \u001b[0merr\u001b[0m\u001b[0;34m\u001b[0m\u001b[0;34m\u001b[0m\u001b[0m\n\u001b[0m\u001b[1;32m   3083\u001b[0m \u001b[0;34m\u001b[0m\u001b[0m\n\u001b[1;32m   3084\u001b[0m         \u001b[0;32mif\u001b[0m \u001b[0mtolerance\u001b[0m \u001b[0;32mis\u001b[0m \u001b[0;32mnot\u001b[0m \u001b[0;32mNone\u001b[0m\u001b[0;34m:\u001b[0m\u001b[0;34m\u001b[0m\u001b[0;34m\u001b[0m\u001b[0m\n",
      "\u001b[0;31mKeyError\u001b[0m: 'amount_reviews'"
     ]
    }
   ],
   "source": [
    "reviews_and_ratings['amount_reviews'].hist(bins=10, range=(0,100))\n",
    "plt.ylabel('Оценок, шт')\n",
    "plt.xlabel('Ревью')\n",
    "plt.title('Количество рецензий книг')\n",
    "plt.show()"
   ]
  },
  {
   "cell_type": "markdown",
   "metadata": {},
   "source": [
    "до 20 рецензий пишут на книги. но максимально до 10. далее резкое уменьшение числа рецензий"
   ]
  },
  {
   "cell_type": "code",
   "execution_count": null,
   "metadata": {},
   "outputs": [],
   "source": [
    "reviews_and_ratings['average_rating'].hist()\n",
    "plt.ylabel('Оценок, шт')\n",
    "plt.xlabel('Рейтинг')\n",
    "plt.title('Средний рейтинг книг')\n",
    "plt.show()"
   ]
  },
  {
   "cell_type": "markdown",
   "metadata": {},
   "source": [
    "Средний рейтинг книг в районе 4 до 4,5 их оценило около 300 оценок. мало оценок ниже 3.25 и практически нету после 2,5 менее 50 оценок"
   ]
  },
  {
   "cell_type": "markdown",
   "metadata": {},
   "source": [
    "### Определите издательство, которое выпустило наибольшее число книг толще 50 страниц — так вы исключите из анализа брошюры;          "
   ]
  },
  {
   "cell_type": "code",
   "execution_count": null,
   "metadata": {},
   "outputs": [],
   "source": [
    "query = '''SELECT \n",
    "                publishers.publisher as publisher,\n",
    "                COUNT(books.book_id) as books_cnt\n",
    "            FROM \n",
    "                books\n",
    "            LEFT JOIN publishers \n",
    "                            ON\n",
    "                publishers.publisher_id = books.publisher_id\n",
    "            WHERE \n",
    "                books.num_pages > 50\n",
    "            GROUP BY\n",
    "                publishers.publisher\n",
    "            ORDER BY\n",
    "                books_cnt DESC\n",
    "            LIMIT 1;'''\n",
    "num_pages_more_than_50 = pd.io.sql.read_sql(query, con = engine)\n",
    "num_pages_more_than_50.head()"
   ]
  },
  {
   "cell_type": "markdown",
   "metadata": {},
   "source": [
    "Penguin Books выпустило книги более 50 страниц"
   ]
  },
  {
   "cell_type": "markdown",
   "metadata": {},
   "source": [
    "### Определите автора с самой высокой средней оценкой книг — учитывайте только книги с 50 и более оценками;            "
   ]
  },
  {
   "cell_type": "code",
   "execution_count": null,
   "metadata": {},
   "outputs": [],
   "source": [
    "query = '''\n",
    "             WITH rc AS (SELECT book_id, AVG(rating)\n",
    "                         FROM ratings\n",
    "                         GROUP BY book_id\n",
    "                         HAVING COUNT(rating)>=50),\n",
    "                  a AS (SELECT a.author, b.book_id \n",
    "                        FROM authors AS a\n",
    "                        LEFT JOIN books AS b ON b.author_id  = a.author_id)   \n",
    "             SELECT  a.author, ROUND(AVG(rc.avg), 2) AS avg_rating \n",
    "             FROM a INNER JOIN rc ON a.book_id=rc.book_id\n",
    "             GROUP BY a.author\n",
    "             ORDER BY avg_rating DESC\n",
    "             LIMIT 1\n",
    "         '''\n",
    "authors_with_high_rating = pd.io.sql.read_sql(query, con = engine)\n",
    "authors_with_high_rating.head()"
   ]
  },
  {
   "cell_type": "markdown",
   "metadata": {},
   "source": [
    "автор с самой высокой оценкой книг J.K. Rowling/Mary GrandPré"
   ]
  },
  {
   "cell_type": "markdown",
   "metadata": {},
   "source": [
    "### Посчитайте среднее количество обзоров от пользователей, которые поставили больше 50 оценок."
   ]
  },
  {
   "cell_type": "code",
   "execution_count": null,
   "metadata": {},
   "outputs": [],
   "source": [
    "query = '''SELECT \n",
    "                \n",
    "                AVG (Sub_count.cnt_text) as avg_cnt_text\n",
    "                \n",
    "            FROM\n",
    "                (SELECT\n",
    "                    count(distinct reviews.text) as cnt_text\n",
    "                 FROM\n",
    "                     (SELECT\n",
    "                         username,\n",
    "                         COUNT(ratings.book_id) as cnt_books\n",
    "                      FROM\n",
    "                      ratings\n",
    "                 GROUP BY \n",
    "                     username\n",
    "                 HAVING\n",
    "                     COUNT(ratings.book_id) > 50) AS Sub\n",
    "            INNER JOIN reviews ON reviews.username = Sub.username\n",
    "            GROUP BY \n",
    "                Sub.username) as Sub_count'''\n",
    "                \n",
    "avg = pd.io.sql.read_sql(query, con = engine)\n",
    "avg.head()"
   ]
  },
  {
   "cell_type": "markdown",
   "metadata": {},
   "source": [
    "24.3 обзора в среднем "
   ]
  },
  {
   "cell_type": "markdown",
   "metadata": {},
   "source": [
    "***Вывод***\n",
    "\n",
    "            Посчитайте, сколько книг вышло после 1 января 2000 года; - 819 книг вышло после 1 января 2000\n",
    "            \n",
    "            \n",
    "            Для каждой книги посчитайте количество обзоров и среднюю оценку;\n",
    "                        до 20 рецензий пишут на книги. но максимально до 10. далее резкое уменьшение числа рецензий\n",
    "                        Средний рейтинг книг в районе 4 до 4,5 их оценило около 300 оценок. мало оценок ниже 3.25 и практически нету после 2,5 менее 50 оценок\n",
    "            \n",
    "            \n",
    "            Определите издательство, которое выпустило наибольшее число книг толще 50 страниц — так вы исключите из анализа брошюры; - Penguin Books выпустило книги более 50 страниц\n",
    "            \n",
    "            Определите автора с самой высокой средней оценкой книг — учитывайте только книги с 50 и более оценками; - автор с самой высокой оценкой книг J.K. Rowling/Mary GrandPré \n",
    "            \n",
    "            Посчитайте среднее количество обзоров от пользователей, которые поставили больше 50 оценок. - 24.3 обзора в среднем "
   ]
  }
 ],
 "metadata": {
  "ExecuteTimeLog": [
   {
    "duration": 59,
    "start_time": "2022-09-23T08:58:15.104Z"
   },
   {
    "duration": 51,
    "start_time": "2022-09-23T08:58:45.687Z"
   },
   {
    "duration": 11046,
    "start_time": "2022-09-23T09:00:28.544Z"
   },
   {
    "duration": 245,
    "start_time": "2022-09-23T09:05:43.524Z"
   },
   {
    "duration": 70,
    "start_time": "2022-09-23T09:09:48.262Z"
   },
   {
    "duration": 72,
    "start_time": "2022-09-23T09:09:56.039Z"
   },
   {
    "duration": 71,
    "start_time": "2022-09-23T09:10:02.189Z"
   },
   {
    "duration": 72,
    "start_time": "2022-09-23T09:10:11.953Z"
   },
   {
    "duration": 70,
    "start_time": "2022-09-23T09:12:34.805Z"
   },
   {
    "duration": 70,
    "start_time": "2022-09-23T09:12:47.848Z"
   },
   {
    "duration": 107,
    "start_time": "2022-09-23T09:13:32.881Z"
   },
   {
    "duration": 609,
    "start_time": "2022-09-23T09:14:37.449Z"
   },
   {
    "duration": 5,
    "start_time": "2022-09-23T09:15:03.741Z"
   },
   {
    "duration": 135,
    "start_time": "2022-09-23T09:15:08.957Z"
   },
   {
    "duration": 129,
    "start_time": "2022-09-23T09:15:22.921Z"
   },
   {
    "duration": 251,
    "start_time": "2022-09-23T09:15:50.459Z"
   },
   {
    "duration": 89,
    "start_time": "2022-09-23T09:16:00.188Z"
   },
   {
    "duration": 79,
    "start_time": "2022-09-23T09:16:20.229Z"
   },
   {
    "duration": 7561,
    "start_time": "2022-09-23T09:32:06.150Z"
   },
   {
    "duration": 234,
    "start_time": "2022-09-23T09:32:13.713Z"
   },
   {
    "duration": 100,
    "start_time": "2022-09-23T09:32:13.949Z"
   },
   {
    "duration": 102,
    "start_time": "2022-09-23T09:32:14.051Z"
   },
   {
    "duration": 76,
    "start_time": "2022-09-23T09:32:14.155Z"
   },
   {
    "duration": 72,
    "start_time": "2022-09-23T09:32:14.233Z"
   },
   {
    "duration": 74,
    "start_time": "2022-09-23T09:32:14.307Z"
   },
   {
    "duration": 106,
    "start_time": "2022-09-23T09:32:14.382Z"
   },
   {
    "duration": 189,
    "start_time": "2022-09-23T09:32:14.490Z"
   },
   {
    "duration": 142,
    "start_time": "2022-09-23T09:32:14.681Z"
   },
   {
    "duration": 71,
    "start_time": "2022-09-23T09:32:14.824Z"
   },
   {
    "duration": 76,
    "start_time": "2022-09-23T09:32:14.897Z"
   },
   {
    "duration": 73,
    "start_time": "2022-09-23T09:32:14.975Z"
   },
   {
    "duration": 0,
    "start_time": "2022-09-23T09:32:15.050Z"
   },
   {
    "duration": 73,
    "start_time": "2022-09-23T09:32:23.577Z"
   },
   {
    "duration": 12386,
    "start_time": "2022-09-23T10:33:48.241Z"
   },
   {
    "duration": 253,
    "start_time": "2022-09-23T10:34:00.628Z"
   },
   {
    "duration": 82,
    "start_time": "2022-09-23T10:34:00.882Z"
   },
   {
    "duration": 88,
    "start_time": "2022-09-23T10:34:00.966Z"
   },
   {
    "duration": 78,
    "start_time": "2022-09-23T10:34:01.056Z"
   },
   {
    "duration": 79,
    "start_time": "2022-09-23T10:34:01.136Z"
   },
   {
    "duration": 77,
    "start_time": "2022-09-23T10:34:01.216Z"
   },
   {
    "duration": 155,
    "start_time": "2022-09-23T10:34:11.147Z"
   },
   {
    "duration": 108,
    "start_time": "2022-09-23T10:34:15.077Z"
   },
   {
    "duration": 45,
    "start_time": "2022-09-23T21:28:34.898Z"
   },
   {
    "duration": 6373,
    "start_time": "2022-09-23T21:28:42.788Z"
   },
   {
    "duration": 467,
    "start_time": "2022-09-23T21:28:49.163Z"
   },
   {
    "duration": 209,
    "start_time": "2022-09-23T21:36:11.312Z"
   },
   {
    "duration": 210,
    "start_time": "2022-09-23T21:36:18.790Z"
   },
   {
    "duration": 219,
    "start_time": "2022-09-23T21:37:37.377Z"
   },
   {
    "duration": 3,
    "start_time": "2022-09-23T21:37:45.477Z"
   },
   {
    "duration": 168,
    "start_time": "2022-09-23T21:37:54.980Z"
   },
   {
    "duration": 154,
    "start_time": "2022-09-23T21:41:41.831Z"
   },
   {
    "duration": 8838,
    "start_time": "2022-09-25T18:18:48.695Z"
   },
   {
    "duration": 104,
    "start_time": "2022-09-25T18:18:57.534Z"
   },
   {
    "duration": 9,
    "start_time": "2022-09-25T18:18:57.640Z"
   },
   {
    "duration": 9,
    "start_time": "2022-09-25T18:18:57.651Z"
   },
   {
    "duration": 9,
    "start_time": "2022-09-25T18:18:57.661Z"
   },
   {
    "duration": 11,
    "start_time": "2022-09-25T18:18:57.672Z"
   },
   {
    "duration": 9,
    "start_time": "2022-09-25T18:18:57.684Z"
   },
   {
    "duration": 23,
    "start_time": "2022-09-25T18:18:57.694Z"
   },
   {
    "duration": 1161,
    "start_time": "2022-09-25T18:18:57.718Z"
   },
   {
    "duration": 0,
    "start_time": "2022-09-25T18:18:58.881Z"
   },
   {
    "duration": 0,
    "start_time": "2022-09-25T18:18:58.882Z"
   },
   {
    "duration": 0,
    "start_time": "2022-09-25T18:18:58.883Z"
   },
   {
    "duration": 0,
    "start_time": "2022-09-25T18:18:58.884Z"
   }
  ],
  "kernelspec": {
   "display_name": "Python 3 (ipykernel)",
   "language": "python",
   "name": "python3"
  },
  "language_info": {
   "codemirror_mode": {
    "name": "ipython",
    "version": 3
   },
   "file_extension": ".py",
   "mimetype": "text/x-python",
   "name": "python",
   "nbconvert_exporter": "python",
   "pygments_lexer": "ipython3",
   "version": "3.9.5"
  },
  "toc": {
   "base_numbering": 1,
   "nav_menu": {},
   "number_sections": true,
   "sideBar": true,
   "skip_h1_title": true,
   "title_cell": "Table of Contents",
   "title_sidebar": "Contents",
   "toc_cell": false,
   "toc_position": {},
   "toc_section_display": true,
   "toc_window_display": false
  }
 },
 "nbformat": 4,
 "nbformat_minor": 2
}
